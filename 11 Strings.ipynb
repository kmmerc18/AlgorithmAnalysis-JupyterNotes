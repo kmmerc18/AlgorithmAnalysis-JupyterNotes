{
 "cells": [
  {
   "cell_type": "markdown",
   "id": "5a528efa-b085-45e3-8640-8e33ae86f5d3",
   "metadata": {},
   "source": [
    "# Strings"
   ]
  },
  {
   "cell_type": "code",
   "execution_count": 1,
   "id": "48b0104d-a267-4f6c-9f90-a13e8c031715",
   "metadata": {},
   "outputs": [],
   "source": [
    "s = \"python\""
   ]
  },
  {
   "cell_type": "code",
   "execution_count": 2,
   "id": "33f5af40-f7dd-4949-87d0-fa7ffbe27344",
   "metadata": {},
   "outputs": [
    {
     "name": "stdout",
     "output_type": "stream",
     "text": [
      "pythonpython\n"
     ]
    }
   ],
   "source": [
    "# Concatenation\n",
    "print(s+s)"
   ]
  },
  {
   "cell_type": "code",
   "execution_count": 3,
   "id": "a49119be-2c26-4a3e-b010-1f2e10b8ec24",
   "metadata": {},
   "outputs": [
    {
     "name": "stdout",
     "output_type": "stream",
     "text": [
      "pythonpythonpython\n"
     ]
    }
   ],
   "source": [
    "# Repetition\n",
    "print(s*3)"
   ]
  },
  {
   "cell_type": "code",
   "execution_count": 4,
   "id": "199edde5-af7c-436d-83ad-64612d0ad554",
   "metadata": {},
   "outputs": [
    {
     "name": "stdout",
     "output_type": "stream",
     "text": [
      "p y t h o n "
     ]
    }
   ],
   "source": [
    "# Iteration\n",
    "for char in s:\n",
    "    print(char, end=\" \")"
   ]
  },
  {
   "cell_type": "code",
   "execution_count": 5,
   "id": "070f9266-4264-4f75-8114-c980f998ccac",
   "metadata": {},
   "outputs": [
    {
     "name": "stdout",
     "output_type": "stream",
     "text": [
      "0 p\n",
      "1 y\n",
      "2 t\n",
      "3 h\n",
      "4 o\n",
      "5 n\n"
     ]
    }
   ],
   "source": [
    "# Indexing\n",
    "for i in range(len(s)):\n",
    "    print(i, s[i])"
   ]
  },
  {
   "cell_type": "code",
   "execution_count": 6,
   "id": "38e157d5-62ab-44c8-a802-05effec76401",
   "metadata": {},
   "outputs": [
    {
     "name": "stdout",
     "output_type": "stream",
     "text": [
      "th\n",
      "pyt\n",
      "hon\n"
     ]
    }
   ],
   "source": [
    "# Slicing\n",
    "print(s[2:4])\n",
    "print(s[:3])\n",
    "print(s[3:])"
   ]
  },
  {
   "cell_type": "code",
   "execution_count": 7,
   "id": "179280dd-55fe-4f49-8f80-0533db70f5c6",
   "metadata": {},
   "outputs": [
    {
     "name": "stdout",
     "output_type": "stream",
     "text": [
      "True\n",
      "True\n"
     ]
    }
   ],
   "source": [
    "# Searching\n",
    "print(\"n\" in s)\n",
    "print(\"N\" not in s)"
   ]
  },
  {
   "cell_type": "code",
   "execution_count": 8,
   "id": "d5503006-e0ad-424b-a886-5d8c77bea6e2",
   "metadata": {},
   "outputs": [
    {
     "name": "stdout",
     "output_type": "stream",
     "text": [
      "True\n"
     ]
    }
   ],
   "source": [
    "# Searching works on substrings\n",
    "print(\"on\" in s)"
   ]
  },
  {
   "cell_type": "code",
   "execution_count": 9,
   "id": "ac4b652d-501b-4fed-9c14-4972ad7a9dce",
   "metadata": {},
   "outputs": [
    {
     "name": "stdout",
     "output_type": "stream",
     "text": [
      "['a', 'b', 'c']\n",
      "['a', 'b', 'c']\n",
      "['a', 'b', 'c']\n"
     ]
    }
   ],
   "source": [
    "# Conversion to list\n",
    "print(list(\"abc\"))\n",
    "print(\"a b c\".split())\n",
    "print(\"a,b,c\".split(\",\")) # can also work with regular expressions"
   ]
  },
  {
   "cell_type": "code",
   "execution_count": 10,
   "id": "48e8c9cf-bd32-48d4-9d3a-f3c48c13f039",
   "metadata": {},
   "outputs": [
    {
     "name": "stdout",
     "output_type": "stream",
     "text": [
      "abcdefghijklmnopqrstuvwxyz\n"
     ]
    }
   ],
   "source": [
    "# Conversion back to string\n",
    "alphabet = list(\"abcdefghijklmnopqrstuvwxyz\")\n",
    "# s = \"\"\n",
    "# for char in alphabet:\n",
    "#     s+= char\n",
    "# print(s)\n",
    "\n",
    "print(\"\".join(alphabet))\n",
    "alphabet = \"\".join(alphabet)"
   ]
  },
  {
   "cell_type": "code",
   "execution_count": 11,
   "id": "f03c5722-4e4b-4aec-b6c2-beb9175ad883",
   "metadata": {},
   "outputs": [
    {
     "name": "stdout",
     "output_type": "stream",
     "text": [
      "97 98 99 100 101 102 103 104 105 106 107 108 109 110 111 112 113 114 115 116 117 118 119 120 121 122 65 66 67 68 69 70 71 72 73 74 75 76 77 78 79 80 81 82 83 84 85 86 87 88 89 90 "
     ]
    }
   ],
   "source": [
    "# Character codes\n",
    "for char in alphabet:\n",
    "    print(ord(char), end=\" \")\n",
    "for char in alphabet.upper():\n",
    "    print(ord(char), end=\" \")"
   ]
  },
  {
   "cell_type": "markdown",
   "id": "b08ce074-e0f0-4cd0-a994-0c8804dc7344",
   "metadata": {},
   "source": [
    "My substring in string function"
   ]
  },
  {
   "cell_type": "code",
   "execution_count": 12,
   "id": "d9bc34ef-900a-4dae-92d7-039eda4c64ad",
   "metadata": {},
   "outputs": [],
   "source": [
    "# This function returns sub is a substring of s.\n",
    "# Yes it's absurdly slow but we live with that.\n",
    "def substring(sub, s):\n",
    "    if len(sub) == 0: \n",
    "        return True\n",
    "    for i in range(len(s)):\n",
    "        if len(sub) == 1 and sub[0] == s[i]:\n",
    "            return True\n",
    "        if s[i] == sub[0]:\n",
    "            return (substring(sub[1:], s[i:]))\n",
    "    return False"
   ]
  },
  {
   "cell_type": "code",
   "execution_count": 13,
   "id": "47221519-2d9d-412c-af17-b41da9a9c247",
   "metadata": {},
   "outputs": [
    {
     "name": "stdout",
     "output_type": "stream",
     "text": [
      "True\n",
      "False\n",
      "True\n",
      "True\n",
      "True\n",
      "False\n",
      "True\n"
     ]
    }
   ],
   "source": [
    "# Testing\n",
    "print(substring(\"any\", \"many\"))\n",
    "print(substring(\"any\", \"mny\"))\n",
    "print(substring(\"h\", \"hey\"))\n",
    "print(substring(\"h\", \"ehy\"))\n",
    "print(substring(\"h\", \"eyh\"))\n",
    "print(substring(\"b\", \"hey\"))\n",
    "print(substring(\"\", \"hey\"))\n",
    "# expect: True, False, True, True, True, False, True"
   ]
  },
  {
   "cell_type": "markdown",
   "id": "3fd8d974-d106-4b86-90bf-55171d155deb",
   "metadata": {},
   "source": [
    "In-class susbtring in string function"
   ]
  },
  {
   "cell_type": "code",
   "execution_count": 14,
   "id": "977838cd-46bd-49df-b3a3-3f8ce7602866",
   "metadata": {},
   "outputs": [],
   "source": [
    "# This function returns sub is a substring of s.\n",
    "# The algorithm is O(nk) where n = len(s) and k = len(sub).\n",
    "def substring0(sub, s):\n",
    "    for i in range(len(s) - len(sub) + 1):  # n = k iterations\n",
    "        if sub == s[i: i+len(sub)]:    # O(k) to slice\n",
    "            return True\n",
    "    return False"
   ]
  },
  {
   "cell_type": "code",
   "execution_count": 15,
   "id": "1ae1f8fa-6c31-4aa1-828c-a067b4c3dbd7",
   "metadata": {},
   "outputs": [
    {
     "name": "stdout",
     "output_type": "stream",
     "text": [
      "True\n",
      "False\n",
      "True\n",
      "True\n",
      "True\n",
      "False\n",
      "True\n"
     ]
    }
   ],
   "source": [
    "# Testing\n",
    "print(substring0(\"any\", \"many\"))\n",
    "print(substring0(\"any\", \"mny\"))\n",
    "print(substring0(\"h\", \"hey\"))\n",
    "print(substring0(\"h\", \"ehy\"))\n",
    "print(substring0(\"h\", \"eyh\"))\n",
    "print(substring0(\"b\", \"hey\"))\n",
    "print(substring0(\"\", \"hey\"))\n",
    "# expect: True, False, True, True, True, False, True"
   ]
  },
  {
   "cell_type": "markdown",
   "id": "b3d72da2-e263-44b3-be01-9ff646e7a1e1",
   "metadata": {},
   "source": [
    "Liv's solution"
   ]
  },
  {
   "cell_type": "code",
   "execution_count": 16,
   "id": "c6c72cf1-6c89-43c3-b9d7-abac4d9e74bb",
   "metadata": {},
   "outputs": [],
   "source": [
    "# This function returns whether sub is a substring of s.\n",
    "# THe algorithm is O(nk) hwere n = len(s) and k =len(sub).\n",
    "# The best case scenario would be moe like O(n).\n",
    "def substring1(sub, s):\n",
    "    for i in range(len(s) - len(sub) + 1):\n",
    "        for j in range(len(sub)):\n",
    "            found = True\n",
    "            if s[i+j] != sub[j]:\n",
    "                found = False\n",
    "                break\n",
    "        if found:\n",
    "            return True\n",
    "        return False"
   ]
  },
  {
   "cell_type": "code",
   "execution_count": 17,
   "id": "000b9dcf-36fa-4331-b23e-d5e51e7e47f7",
   "metadata": {},
   "outputs": [
    {
     "name": "stdout",
     "output_type": "stream",
     "text": [
      "False\n"
     ]
    }
   ],
   "source": [
    "# Worst case search looks like this\n",
    "print(substring1(\"a\"* 8 + \"b\", \"a\" * 16))"
   ]
  },
  {
   "cell_type": "code",
   "execution_count": 18,
   "id": "2b33c371-9722-4219-9ed6-d5d0c62a1668",
   "metadata": {},
   "outputs": [],
   "source": [
    "def built_in(sub, s):\n",
    "    return sub in s"
   ]
  },
  {
   "cell_type": "code",
   "execution_count": 19,
   "id": "599f08c3-6828-4797-98af-156f29ec6385",
   "metadata": {},
   "outputs": [
    {
     "data": {
      "image/png": "[encoded data removed]",
      "text/plain": [
       "<Figure size 432x288 with 1 Axes>"
      ]
     },
     "metadata": {
      "needs_background": "light"
     },
     "output_type": "display_data"
    }
   ],
   "source": [
    "# This function times a sorting function on a range of problem sizes.\n",
    "from random import randrange\n",
    "def timer(search, lengths):\n",
    "    times = []\n",
    "    for n in lengths:\n",
    "        s = \"a\" * n\n",
    "        sub = \"a\" * (n // 2) + \"b\"\n",
    "        time = %timeit -n1 -r1 -o -q search(sub, s)\n",
    "        times.append(time.average)\n",
    "    return times\n",
    "\n",
    "\n",
    "# This code plots some search times.\n",
    "from matplotlib import pyplot\n",
    "from numpy import arange\n",
    "\n",
    "n = arange(1, 1000, 100)\n",
    "\n",
    "# pyplot.plot(n, timer(substring, n), label=\"Mine\")\n",
    "pyplot.plot(n, timer(substring0, n), label=\"0\")\n",
    "pyplot.plot(n, timer(substring1, n), label=\"1\")\n",
    "pyplot.plot(n, timer(built_in, n), label=\"in\")\n",
    "\n",
    "pyplot.ylabel(\"seconds\")\n",
    "pyplot.xlabel(\"n\")\n",
    "pyplot.legend()\n",
    "pyplot.show()"
   ]
  },
  {
   "cell_type": "code",
   "execution_count": null,
   "id": "8cf54726-a4c2-4742-bedb-3cbdb88650f4",
   "metadata": {},
   "outputs": [],
   "source": []
  },
  {
   "cell_type": "code",
   "execution_count": null,
   "id": "e30ff8af-6093-4ef3-beab-6a4ed9a7cfe9",
   "metadata": {},
   "outputs": [],
   "source": []
  }
 ],
 "metadata": {
  "kernelspec": {
   "display_name": "Python 3",
   "language": "python",
   "name": "python3"
  },
  "language_info": {
   "codemirror_mode": {
    "name": "ipython",
    "version": 3
   },
   "file_extension": ".py",
   "mimetype": "text/x-python",
   "name": "python",
   "nbconvert_exporter": "python",
   "pygments_lexer": "ipython3",
   "version": "3.8.8"
  }
 },
 "nbformat": 4,
 "nbformat_minor": 5
}
