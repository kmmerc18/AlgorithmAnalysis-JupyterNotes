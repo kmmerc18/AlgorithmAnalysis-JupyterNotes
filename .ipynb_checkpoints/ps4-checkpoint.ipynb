{
 "cells": [
  {
   "cell_type": "markdown",
   "metadata": {},
   "source": [
    "# Problem Set 4: Huffman Coding\n",
    "Kim Merchant"
   ]
  },
  {
   "cell_type": "markdown",
   "metadata": {},
   "source": [
    "Here are some tools you'll need to implement the Huffman Coding algorithm."
   ]
  },
  {
   "cell_type": "code",
   "execution_count": 13,
   "metadata": {},
   "outputs": [],
   "source": [
    "from heapq import heappush, heappop"
   ]
  },
  {
   "cell_type": "code",
   "execution_count": 14,
   "metadata": {},
   "outputs": [],
   "source": [
    "class Tree(object):\n",
    "    def __init__(self, data, left, right):\n",
    "        self.data = data\n",
    "        self.left = left\n",
    "        self.right = right"
   ]
  },
  {
   "cell_type": "markdown",
   "metadata": {},
   "source": [
    "### 1) Huffman tree\n",
    "\n",
    "Fill in the function below to build and return a Huffman tree given a string of text."
   ]
  },
  {
   "cell_type": "code",
   "execution_count": 15,
   "metadata": {},
   "outputs": [],
   "source": [
    "def huffman_tree(text):\n",
    "    # Find the frequency of each letter\n",
    "    freq = dict()\n",
    "    for c in text:\n",
    "        if c in freq:\n",
    "            freq[c] += 1\n",
    "        else:\n",
    "            freq[c] = 1\n",
    "            \n",
    "    # Make leaves for each letter, and add these into a heap based on their frequencies\n",
    "    heap = []\n",
    "    for val in freq:\n",
    "        (heappush(heap, (freq[val], Tree(val, None, None))))\n",
    "    \n",
    "    # Create parent nodes, starting with combining the two smallest-frequency letters\n",
    "    aFull = heappop(heap)\n",
    "    a = aFull[1]\n",
    "    total = aFull[0]\n",
    "    \n",
    "    while len(heap) > 0:\n",
    "        b = heappop(heap)\n",
    "        \n",
    "        # Determine if the leaf should be a left branch, or right\n",
    "        if total < b[0]:\n",
    "            curBranch = Tree(a.data + b[1].data, b[1], a)\n",
    "        else:\n",
    "            curBranch = Tree(a.data + b[1].data, a, b[1])\n",
    "        a = curBranch\n",
    "        total += b[0]\n",
    "    return a"
   ]
  },
  {
   "cell_type": "code",
   "execution_count": 16,
   "metadata": {},
   "outputs": [],
   "source": [
    "# Testing\n",
    "text = \"a\"*8 + \"b\"*4 + \"c\"*2 + \"d\"*1\n",
    "tree = huffman_tree(text)"
   ]
  },
  {
   "cell_type": "markdown",
   "metadata": {},
   "source": [
    "### 2) Get code\n",
    "\n",
    "Fill in the function below to return the code for a character according to a Huffman tree."
   ]
  },
  {
   "cell_type": "code",
   "execution_count": 17,
   "metadata": {},
   "outputs": [],
   "source": [
    "def get_code(char, tree):\n",
    "    code = \"\"\n",
    "    # Loop will end once the correct character has been reached in the tree\n",
    "    while tree.left != None:\n",
    "        # The correct leaf has not been passed\n",
    "        if char in tree.data:\n",
    "            if char in tree.left.data:\n",
    "                curr = tree.left.data\n",
    "                code = code + \"0\"\n",
    "                return code + get_code(char, tree.left)\n",
    "            elif char in tree.right.data:\n",
    "                code = code + \"1\"\n",
    "                return code + get_code(char, tree.right)\n",
    "            else:\n",
    "                # The correct leaf has been reached\n",
    "                return code\n",
    "    return code"
   ]
  },
  {
   "cell_type": "code",
   "execution_count": 18,
   "metadata": {},
   "outputs": [
    {
     "name": "stdout",
     "output_type": "stream",
     "text": [
      "a 0\n",
      "b 10\n",
      "c 110\n",
      "d 111\n"
     ]
    }
   ],
   "source": [
    "# Testing\n",
    "for char in \"abcd\":\n",
    "    print(char, get_code(char, tree))"
   ]
  },
  {
   "cell_type": "markdown",
   "metadata": {},
   "source": [
    "### 3) Encode\n",
    "\n",
    "Fill in the function below to use a Huffman tree to encode a string of text."
   ]
  },
  {
   "cell_type": "code",
   "execution_count": 19,
   "metadata": {},
   "outputs": [],
   "source": [
    "def encode(text, tree):\n",
    "    encoding = \"\"\n",
    "    for char in text:\n",
    "        encoding = encoding + get_code(char, tree)\n",
    "    return encoding"
   ]
  },
  {
   "cell_type": "code",
   "execution_count": 20,
   "metadata": {},
   "outputs": [
    {
     "name": "stdout",
     "output_type": "stream",
     "text": [
      "0000000010101010110110111\n"
     ]
    }
   ],
   "source": [
    "# Testing\n",
    "binary = encode(text, tree)\n",
    "print(binary)"
   ]
  },
  {
   "cell_type": "markdown",
   "metadata": {},
   "source": [
    "### 4) Get character\n",
    "\n",
    "Fill in the function below to return the character encoded at an index in an encoded string."
   ]
  },
  {
   "cell_type": "code",
   "execution_count": 21,
   "metadata": {},
   "outputs": [],
   "source": [
    "def get_char(binary, index, tree):\n",
    "    if tree.left == None:\n",
    "        return tree.data\n",
    "    elif binary[index] == \"0\":\n",
    "        return get_char(binary, index+1, tree.left)\n",
    "    else:\n",
    "        return get_char(binary, index+1, tree.right)"
   ]
  },
  {
   "cell_type": "code",
   "execution_count": 22,
   "metadata": {},
   "outputs": [
    {
     "name": "stdout",
     "output_type": "stream",
     "text": [
      "b\n"
     ]
    }
   ],
   "source": [
    "# Testing\n",
    "print(get_char(binary, 8, tree))"
   ]
  },
  {
   "cell_type": "markdown",
   "metadata": {},
   "source": [
    "### 5) Decode\n",
    "\n",
    "Fill in the function below to use a Huffman tree to decode an encoded string."
   ]
  },
  {
   "cell_type": "code",
   "execution_count": 23,
   "metadata": {},
   "outputs": [],
   "source": [
    "def decode(binary, tree):\n",
    "    total = \"\"\n",
    "    i = 0\n",
    "    while i < len(binary):\n",
    "        new = get_char(binary, i, tree)\n",
    "        total = total + new\n",
    "        \n",
    "        # increment the index pointer by the length of \n",
    "        # the last character's binary representation\n",
    "        i += len(get_code(new, tree))\n",
    "    return total"
   ]
  },
  {
   "cell_type": "code",
   "execution_count": 24,
   "metadata": {},
   "outputs": [
    {
     "name": "stdout",
     "output_type": "stream",
     "text": [
      "aaaaaaaabbbbccd\n"
     ]
    }
   ],
   "source": [
    "# Testing\n",
    "decoded = decode(binary, tree)\n",
    "print(decoded)"
   ]
  }
 ],
 "metadata": {
  "kernelspec": {
   "display_name": "Python 3",
   "language": "python",
   "name": "python3"
  },
  "language_info": {
   "codemirror_mode": {
    "name": "ipython",
    "version": 3
   },
   "file_extension": ".py",
   "mimetype": "text/x-python",
   "name": "python",
   "nbconvert_exporter": "python",
   "pygments_lexer": "ipython3",
   "version": "3.8.8"
  }
 },
 "nbformat": 4,
 "nbformat_minor": 4
}
