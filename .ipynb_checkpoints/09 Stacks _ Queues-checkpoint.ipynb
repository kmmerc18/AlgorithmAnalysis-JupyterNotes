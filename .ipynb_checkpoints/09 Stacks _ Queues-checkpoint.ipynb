{
 "cells": [
  {
   "cell_type": "markdown",
   "id": "499d8289",
   "metadata": {},
   "source": [
    "# Stacks & Queues"
   ]
  },
  {
   "cell_type": "markdown",
   "id": "7fbe19d6",
   "metadata": {},
   "source": [
    "Lists have operations that make them usable as stacks and queues."
   ]
  },
  {
   "cell_type": "code",
   "execution_count": 1,
   "id": "635bf71b",
   "metadata": {},
   "outputs": [
    {
     "name": "stdout",
     "output_type": "stream",
     "text": [
      "[1, 2, 3]\n"
     ]
    }
   ],
   "source": [
    "stack = [1,2,3]\n",
    "stack.append(4)\n",
    "stack.pop()\n",
    "print(stack)"
   ]
  },
  {
   "cell_type": "code",
   "execution_count": 2,
   "id": "1d99e50d",
   "metadata": {
    "tags": []
   },
   "outputs": [
    {
     "name": "stdout",
     "output_type": "stream",
     "text": [
      "[2, 3, 4]\n"
     ]
    }
   ],
   "source": [
    "queue = [1,2,3]\n",
    "queue.append(4)\n",
    "queue.pop(0)\n",
    "print(queue)"
   ]
  },
  {
   "cell_type": "markdown",
   "id": "17e96d84",
   "metadata": {},
   "source": [
    "Python also provides a doubly-linked list called a **deque** that could serve those roles."
   ]
  },
  {
   "cell_type": "code",
   "execution_count": 3,
   "id": "108ba3dd",
   "metadata": {},
   "outputs": [],
   "source": [
    "from collections import deque"
   ]
  },
  {
   "cell_type": "code",
   "execution_count": 4,
   "id": "5792eb1b",
   "metadata": {},
   "outputs": [
    {
     "name": "stdout",
     "output_type": "stream",
     "text": [
      "deque([1, 2, 3])\n"
     ]
    }
   ],
   "source": [
    "stack = deque([1,2,3])\n",
    "stack.append(4)\n",
    "stack.pop()\n",
    "print(stack)"
   ]
  },
  {
   "cell_type": "code",
   "execution_count": 5,
   "id": "0d657b68",
   "metadata": {},
   "outputs": [
    {
     "name": "stdout",
     "output_type": "stream",
     "text": [
      "deque([2, 3, 4])\n"
     ]
    }
   ],
   "source": [
    "queue = deque([1,2,3])\n",
    "queue.append(4)\n",
    "queue.popleft()\n",
    "print(queue)"
   ]
  },
  {
   "cell_type": "markdown",
   "id": "192cfe67",
   "metadata": {},
   "source": [
    "Let's verify the timing differences between these options."
   ]
  },
  {
   "cell_type": "code",
   "execution_count": 6,
   "id": "0e46fd96",
   "metadata": {},
   "outputs": [],
   "source": [
    "# This function uses a list as a stack.\n",
    "def list_stack(n):\n",
    "    s = []\n",
    "    for i in range(n):\n",
    "        s.append(i)\n",
    "    for i in range(n):\n",
    "        s.pop()"
   ]
  },
  {
   "cell_type": "code",
   "execution_count": 7,
   "id": "d02e0175",
   "metadata": {},
   "outputs": [],
   "source": [
    "# This function uses a list as a queue.\n",
    "def list_queue(n):\n",
    "    q = []\n",
    "    for i in range(n):\n",
    "        q.append(i)\n",
    "    for i in range(n):\n",
    "        q.pop(0)"
   ]
  },
  {
   "cell_type": "code",
   "execution_count": 8,
   "id": "ce3f7932",
   "metadata": {
    "tags": []
   },
   "outputs": [],
   "source": [
    "# This function uses a deque as a stack.\n",
    "def deque_stack(n):\n",
    "    s = deque()\n",
    "    for i in range(n):\n",
    "        s.append(i)\n",
    "    for i in range(n):\n",
    "        s.pop()"
   ]
  },
  {
   "cell_type": "code",
   "execution_count": 9,
   "id": "351fce5a",
   "metadata": {},
   "outputs": [],
   "source": [
    "# This function uses a deque as a queue.\n",
    "def deque_queue(n):\n",
    "    q = deque()\n",
    "    for i in range(n):\n",
    "        q.append(i)\n",
    "    for i in range(n):\n",
    "        q.popleft()"
   ]
  },
  {
   "cell_type": "code",
   "execution_count": 10,
   "id": "5ec3077c",
   "metadata": {},
   "outputs": [],
   "source": [
    "# This function times data-structure usages on a range of problem sizes.\n",
    "def timer(f, lengths):\n",
    "    times = []\n",
    "    for n in lengths:\n",
    "        time = %timeit -n1 -r1 -o -q f(n)\n",
    "        times.append(time.average)\n",
    "    return times"
   ]
  },
  {
   "cell_type": "code",
   "execution_count": 17,
   "id": "3e1bcdd2",
   "metadata": {},
   "outputs": [
    {
     "data": {
      "image/png": "[encoded data removed]",
      "text/plain": [
       "<Figure size 432x288 with 1 Axes>"
      ]
     },
     "metadata": {
      "needs_background": "light"
     },
     "output_type": "display_data"
    }
   ],
   "source": [
    "# This code plots some usage times.\n",
    "from matplotlib import pyplot\n",
    "from numpy import arange\n",
    "\n",
    "n = arange(1, 1_000_000, 100_000)\n",
    "\n",
    "#pyplot.plot(n, timer(list_queue, n), label=\"list queue\")\n",
    "pyplot.plot(n, timer(list_stack, n), label=\"list stack\")\n",
    "pyplot.plot(n, timer(deque_queue, n), label=\"deque queue\")\n",
    "pyplot.plot(n, timer(deque_stack, n), label=\"deque stack\")\n",
    "\n",
    "pyplot.ylabel(\"seconds\")\n",
    "pyplot.xlabel(\"n\")\n",
    "pyplot.legend()\n",
    "pyplot.show()"
   ]
  },
  {
   "cell_type": "markdown",
   "id": "3443ef32",
   "metadata": {},
   "source": [
    "It's efficient to use either a list or a deque as a stack, but for a queue it's significantly better to use a deque."
   ]
  }
 ],
 "metadata": {
  "kernelspec": {
   "display_name": "Python 3",
   "language": "python",
   "name": "python3"
  },
  "language_info": {
   "codemirror_mode": {
    "name": "ipython",
    "version": 3
   },
   "file_extension": ".py",
   "mimetype": "text/x-python",
   "name": "python",
   "nbconvert_exporter": "python",
   "pygments_lexer": "ipython3",
   "version": "3.8.8"
  }
 },
 "nbformat": 4,
 "nbformat_minor": 5
}
