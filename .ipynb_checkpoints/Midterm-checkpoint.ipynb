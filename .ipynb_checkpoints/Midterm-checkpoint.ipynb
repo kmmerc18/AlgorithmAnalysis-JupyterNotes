{
 "cells": [
  {
   "cell_type": "markdown",
   "metadata": {},
   "source": [
    "# CS 362 Midterm\n",
    "Kim Merchant"
   ]
  },
  {
   "cell_type": "markdown",
   "metadata": {},
   "source": [
    "The Appalachian Trail is 2192 miles long. To hike it in six months, you would need to go an average of 12.2 miles per day. However, you need to end each day at a shelter, and the shelters along the AT aren't evenly spaced. For example, here are the distances (in miles) from the southern end of the trail to each of the first ten shelters that appear as you head north:\n",
    "\n",
    "`[0.2, 2.8, 8.1, 15.8, 28.2, 29.3, 38.4, 43.2, 50.5, 58.6]`"
   ]
  },
  {
   "cell_type": "markdown",
   "metadata": {},
   "source": [
    "We want to select the best sequence of shelter distances. The function below defines \"best\" by specifying the cost of a solution."
   ]
  },
  {
   "cell_type": "code",
   "execution_count": 132,
   "metadata": {},
   "outputs": [],
   "source": [
    "# This function returns the total cost of a hike given a sequence of shelter distances.\n",
    "# The solution we want is the one with the lowest cost.\n",
    "def cost(shelters):\n",
    "    total = 0\n",
    "    start = 0\n",
    "    for stop in shelters:\n",
    "        hike = stop - start\n",
    "        total += (12.2 - hike) ** 2\n",
    "        start = stop\n",
    "    return total"
   ]
  },
  {
   "cell_type": "markdown",
   "metadata": {},
   "source": [
    "This cost function would return 0 only if we could arrange to hike exactly 12.2 miles per day, like this:"
   ]
  },
  {
   "cell_type": "code",
   "execution_count": 133,
   "metadata": {},
   "outputs": [
    {
     "name": "stdout",
     "output_type": "stream",
     "text": [
      "2.524354896707238e-29\n"
     ]
    }
   ],
   "source": [
    "print(cost([12.2, 24.4, 36.6, 48.8])) # essentially 0 (just floating point imprecision)"
   ]
  },
  {
   "cell_type": "markdown",
   "metadata": {},
   "source": [
    "But since we have to choose from the real shelter distances above, the best we'll be able do is this:"
   ]
  },
  {
   "cell_type": "code",
   "execution_count": 134,
   "metadata": {},
   "outputs": [
    {
     "name": "stdout",
     "output_type": "stream",
     "text": [
      "27.780000000000015\n"
     ]
    }
   ],
   "source": [
    "print(cost([15.8, 29.3, 43.2, 58.6]))"
   ]
  },
  {
   "cell_type": "markdown",
   "metadata": {},
   "source": [
    "## 1) Combinatorial Search\n",
    "\n",
    "Implement the function below to return the best solution via combinatorial search.\n",
    "\n",
    "Your code should consider all sequences that end at the last shelter, and choose the best one."
   ]
  },
  {
   "cell_type": "code",
   "execution_count": 137,
   "metadata": {},
   "outputs": [],
   "source": [
    "def combinatorial(shelters):\n",
    "    if len(shelters) == 1:\n",
    "        return shelters\n",
    "    \n",
    "    sequence = [shelters[-1]]\n",
    "    temp = 0\n",
    "    \n",
    "    # set the best to just jumping to the last shelter (worst case possible)\n",
    "    best = cost(sequence)\n",
    "\n",
    "    # for each shelter, calculate the minimum previous reach\n",
    "    for i in range(1, len(shelters)):\n",
    "        cur = combinatorial(shelters[:i]) + [shelters[-1]]\n",
    "        if cost(cur) < best:\n",
    "            sequence = cur\n",
    "            best = cost(cur)\n",
    "    return sequence"
   ]
  },
  {
   "cell_type": "code",
   "execution_count": 138,
   "metadata": {},
   "outputs": [
    {
     "name": "stdout",
     "output_type": "stream",
     "text": [
      "[15.8, 29.3, 43.2, 58.6]\n"
     ]
    }
   ],
   "source": [
    "# Testing\n",
    "print(combinatorial([0.2, 2.8, 8.1, 15.8, 28.2, 29.3, 38.4, 43.2, 50.5, 58.6]))"
   ]
  },
  {
   "cell_type": "markdown",
   "metadata": {},
   "source": [
    "## 2) Dynamic Programming\n",
    "\n",
    "Implement the function below to return the best solution via dynamic programming.\n",
    "\n",
    "Let `sub[i]` represent the best solution to the subproblem `shelters[:i]`."
   ]
  },
  {
   "cell_type": "code",
   "execution_count": 169,
   "metadata": {},
   "outputs": [],
   "source": [
    "def dynamic(shelters):\n",
    "    sub = dict()\n",
    "    sub[0] = []\n",
    "        \n",
    "    # Subproblems: best solution for shelters[:i]\n",
    "    for j in range(1, len(shelters)):\n",
    "        sequence = [shelters[j]]\n",
    "        temp = 0\n",
    "\n",
    "        # set the best to the cost of the last shelter (worst case possible)\n",
    "        best = cost([shelters[j]])\n",
    "\n",
    "        # for this shelter, calculate the best sequence\n",
    "        for i in range(1, j):\n",
    "            cur = sub[i] + [shelters[j]]\n",
    "            if cost(cur) < best:\n",
    "                sequence = cur\n",
    "                best = cost(cur)\n",
    "\n",
    "        # update the dictionary to include this new subproblem solution\n",
    "        sub[j] = sequence\n",
    "        \n",
    "    # return the best sequence leading to the final shelter\n",
    "    return sub[len(shelters)-1]"
   ]
  },
  {
   "cell_type": "code",
   "execution_count": 170,
   "metadata": {},
   "outputs": [
    {
     "name": "stdout",
     "output_type": "stream",
     "text": [
      "[15.8, 29.3, 43.2, 58.6]\n"
     ]
    }
   ],
   "source": [
    "# Testing\n",
    "print(dynamic([0.2, 2.8, 8.1, 15.8, 28.2, 29.3, 38.4, 43.2, 50.5, 58.6]))"
   ]
  }
 ],
 "metadata": {
  "kernelspec": {
   "display_name": "Python 3",
   "language": "python",
   "name": "python3"
  },
  "language_info": {
   "codemirror_mode": {
    "name": "ipython",
    "version": 3
   },
   "file_extension": ".py",
   "mimetype": "text/x-python",
   "name": "python",
   "nbconvert_exporter": "python",
   "pygments_lexer": "ipython3",
   "version": "3.8.8"
  }
 },
 "nbformat": 4,
 "nbformat_minor": 4
}
