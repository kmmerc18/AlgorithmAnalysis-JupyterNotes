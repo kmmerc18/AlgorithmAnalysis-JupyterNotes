{
 "cells": [
  {
   "cell_type": "markdown",
   "id": "f805e8b9-ed91-4dbb-9f33-2468ed21100a",
   "metadata": {},
   "source": [
    "# Problem Set 5: Text Splitting\n",
    "Kim Merchant"
   ]
  },
  {
   "cell_type": "markdown",
   "id": "8e4df338-c3b7-4bed-8d3a-573a31c7ec92",
   "metadata": {},
   "source": [
    "We have a string of text from which all the spacing has been lost, like `asknotwhatyourcountrycandoforyou`.\n",
    "\n",
    "We want to split the text back into a sequence of valid words, like:\n",
    "\n",
    "`['ask', 'not', 'what', 'your', 'country', 'can', 'do', 'for', 'you']`."
   ]
  },
  {
   "cell_type": "code",
   "execution_count": 1,
   "id": "f22be57b-f92b-4848-960d-e772e076590e",
   "metadata": {},
   "outputs": [],
   "source": [
    "# This code gets us a set of the 1000 most common English words.\n",
    "# We'll consider a word to be valid if it's in this set.\n",
    "from requests import get\n",
    "url = \"https://myslu.stlawu.edu/~ltorrey/algorithms/common_words.txt\"\n",
    "english = set(get(url).text.split())"
   ]
  },
  {
   "cell_type": "markdown",
   "id": "fc339ae0-ab05-4289-bb92-38a87d3f0d53",
   "metadata": {},
   "source": [
    "### 1) Greedy attempt\n",
    "\n",
    "Fill in the function below to approach this problem in a greedy way: take the first valid word you can find at the end of the text, and move on from there. If you can't find any valid words at the end of the text, just return an empty list."
   ]
  },
  {
   "cell_type": "code",
   "execution_count": 2,
   "id": "46d7a84f-319f-4dfa-8eac-3770cf7b78f6",
   "metadata": {},
   "outputs": [],
   "source": [
    "def greedy_split(text):\n",
    "    ourList = []\n",
    "    i = len(text)\n",
    "    while i > 0: # i is the counter of how much of the text is left to assess\n",
    "        j = 1 # j represents the number of letters we're assessing\n",
    "        while j < i:\n",
    "            if text[len(text)-j:i] in english: # if j to i forms a word\n",
    "                ourList.append(text[len(text)-j:i]) # add the word to the list\n",
    "                i = len(text)-j # update i so no words have used letters\n",
    "                break\n",
    "            j += 1 # update j if the loop continues\n",
    "        if j == i: # if the end is reached with no successful word\n",
    "            i = 0\n",
    "    ourList.reverse()\n",
    "    return ourList"
   ]
  },
  {
   "cell_type": "code",
   "execution_count": 3,
   "id": "75df8af7-451c-417c-a3da-892646e2e48c",
   "metadata": {},
   "outputs": [
    {
     "name": "stdout",
     "output_type": "stream",
     "text": [
      "['and', 'of', 'or', 'you']\n"
     ]
    }
   ],
   "source": [
    "# Testing\n",
    "print(greedy_split(\"asknotwhatyourcountrycandoforyou\"))"
   ]
  },
  {
   "cell_type": "markdown",
   "id": "14ff8e1c-2ecd-446f-9575-2210a64beefa",
   "metadata": {},
   "source": [
    "### 2) Combinatorial algorithm\n",
    "\n",
    "Fill in the function below to approach this problem combinatorially: consider *every* valid word you can find at the end of the text, and try moving on from there. Go with the option that gets you the largest number of valid words."
   ]
  },
  {
   "cell_type": "code",
   "execution_count": 4,
   "id": "5fc9731c-1588-4687-bdc6-5f933df9ae60",
   "metadata": {},
   "outputs": [],
   "source": [
    "def combinatorial_split(text):\n",
    "    # store what will ultimately be the solution\n",
    "    best = []\n",
    "    \n",
    "    # base case, no more characters to assess\n",
    "    if(len(text) == 0):\n",
    "        return []\n",
    "    \n",
    "    else:\n",
    "        # try each group of 1 or more letters from the end to see if there's a word\n",
    "        for i in range(1, len(text)+1): \n",
    "            temp = text[len(text)-i:]\n",
    "            \n",
    "            if temp in english:\n",
    "                # if there is a word, see how many can be made after it\n",
    "                tempList = combinatorial_split(text[:len(text)-i]) + [temp]\n",
    "                \n",
    "                # if this one word leads to a longer total list, replace the best list\n",
    "                if len(tempList) > len(best):\n",
    "                    best = tempList\n",
    "    \n",
    "    # after trying each of the possible word combinations, return the longest resultant list\n",
    "    return best"
   ]
  },
  {
   "cell_type": "code",
   "execution_count": 5,
   "id": "092c0ad9-c8e6-4afa-b872-28e56ab8aadb",
   "metadata": {},
   "outputs": [
    {
     "name": "stdout",
     "output_type": "stream",
     "text": [
      "['ask', 'not', 'what', 'your', 'country', 'can', 'do', 'for', 'you']\n",
      "['set', 'he', 'ask', 'of', 'what', 'your', 'can', 'do']\n"
     ]
    }
   ],
   "source": [
    "# Testing\n",
    "print(combinatorial_split(\"asknotwhatyourcountrycandoforyou\"))\n",
    "print(combinatorial_split(\"usetheaskofwhatyourcando\"))"
   ]
  },
  {
   "cell_type": "markdown",
   "id": "9bd33bc9-3817-4b1e-a245-976e0f8b5478",
   "metadata": {},
   "source": [
    "### 3) Dynamic programming\n",
    "\n",
    "Fill in the function below to approach this problem with dynamic programming.\n",
    "\n",
    "Let `sub[i]` be the best word list for `text[:i]`."
   ]
  },
  {
   "cell_type": "code",
   "execution_count": 6,
   "id": "89cee0af-7a2b-4e26-977e-3b8ba2619292",
   "metadata": {},
   "outputs": [],
   "source": [
    "def dynamic_split(text):\n",
    "    sub = dict([])\n",
    "    sub[0] = []\n",
    "    \n",
    "    # Subproblems: sub[i] will be the best combination of words for text[:i]\n",
    "    for i in range(1, len(text)+1):\n",
    "        cur = text[:i]\n",
    "        best = []\n",
    "\n",
    "        # try each group of 1 or more letters from the end to see if there's a word\n",
    "        for n in range(1, len(cur)+1): \n",
    "            temp = cur[len(cur)-n:]\n",
    "\n",
    "            if temp in english:\n",
    "                # if there is a word, see how many can be made after it\n",
    "                tempList = sub[i-n] + [temp]\n",
    "\n",
    "                # if this one word leads to a longer total list, replace the best list\n",
    "                if len(tempList) > len(best):\n",
    "                    best = tempList\n",
    "\n",
    "        # after trying each of the possible word combinations, return the longest resultant list\n",
    "        sub[i] = best\n",
    "    \n",
    "    # The overall solution is the best subproblem solution\n",
    "    return max(sub.values(), key=len)"
   ]
  },
  {
   "cell_type": "code",
   "execution_count": 7,
   "id": "28c987e7-281a-42ca-8f50-f9bd74194b21",
   "metadata": {},
   "outputs": [
    {
     "name": "stdout",
     "output_type": "stream",
     "text": [
      "['ask', 'not', 'what', 'your', 'country', 'can', 'do', 'for', 'you']\n"
     ]
    }
   ],
   "source": [
    "# Testing\n",
    "print(dynamic_split(\"asknotwhatyourcountrycandoforyou\"))"
   ]
  },
  {
   "cell_type": "markdown",
   "id": "f2b8980a-9d09-40f2-8e04-5b84de7544a4",
   "metadata": {},
   "source": [
    "### 4) Final algorithm\n",
    "\n",
    "Now make that last improvement to your dynamic programming algorithm.\n",
    "\n",
    "Instead of storing full subproblem solutions, store just a few pieces of essential information."
   ]
  },
  {
   "cell_type": "code",
   "execution_count": 8,
   "id": "d61077bc-6b7c-4000-982d-a75067039932",
   "metadata": {},
   "outputs": [],
   "source": [
    "def best_split(text):\n",
    "    sub = dict()\n",
    "    sub[0] = (0, None, None)\n",
    "    \n",
    "    # Subproblems: sub[i] will be the length of the list so far, the current word, \n",
    "    # and the index to go back to for the previous word\n",
    "    for i in range(1, len(text)+1):\n",
    "        cur = text[:i]\n",
    "        best = (0, None, None)\n",
    "\n",
    "        # try each group of 1 or more letters from the end to see if there's a word\n",
    "        for n in range(1, len(cur)+1):\n",
    "            temp = cur[len(cur)-n:]\n",
    "\n",
    "            if temp in english:\n",
    "                # if there is a word, see how many can be made after it\n",
    "                tempList = (1+sub[i-n][0], temp, i-n)\n",
    "\n",
    "                # if this one word leads to a longer total list, replace the best list tuple\n",
    "                if tempList[0] > best[0]:\n",
    "                    best = tempList\n",
    "\n",
    "        # after trying each of the possible word combinations, set the dictionary value at the key i to the most promising word\n",
    "        sub[i] = best\n",
    "        \n",
    "    # Find the index of the last word that has the most words preceding it in the original string to split\n",
    "    idx = max(sub, key=lambda idx:sub[idx][0])\n",
    "\n",
    "    # Now we can reconstruct the overall solution by working backwards from there.\n",
    "    lis = []\n",
    "    while idx is not None:\n",
    "        # find the next word\n",
    "        lis.append(sub[idx][1])\n",
    "        \n",
    "        # set the idx to the next value in the chain\n",
    "        idx = sub[idx][2]\n",
    "            \n",
    "    lis.pop()\n",
    "    lis.reverse()\n",
    "    return lis"
   ]
  },
  {
   "cell_type": "code",
   "execution_count": 9,
   "id": "1e783088-bd04-4411-a0b0-9b15d948383a",
   "metadata": {},
   "outputs": [
    {
     "name": "stdout",
     "output_type": "stream",
     "text": [
      "['ask', 'not', 'what', 'your', 'country', 'can', 'do', 'for', 'you']\n"
     ]
    }
   ],
   "source": [
    "# Testing\n",
    "print(best_split(\"asknotwhatyourcountrycandoforyou\"))"
   ]
  }
 ],
 "metadata": {
  "kernelspec": {
   "display_name": "Python 3",
   "language": "python",
   "name": "python3"
  },
  "language_info": {
   "codemirror_mode": {
    "name": "ipython",
    "version": 3
   },
   "file_extension": ".py",
   "mimetype": "text/x-python",
   "name": "python",
   "nbconvert_exporter": "python",
   "pygments_lexer": "ipython3",
   "version": "3.8.8"
  }
 },
 "nbformat": 4,
 "nbformat_minor": 5
}
