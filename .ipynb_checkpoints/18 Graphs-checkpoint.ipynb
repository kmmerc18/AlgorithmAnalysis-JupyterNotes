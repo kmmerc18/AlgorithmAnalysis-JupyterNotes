{
 "cells": [
  {
   "cell_type": "markdown",
   "id": "3f1caac8-2802-4558-9a15-06c69fc53c9b",
   "metadata": {},
   "source": [
    "# Graphs"
   ]
  },
  {
   "cell_type": "markdown",
   "id": "968ad15f-9e2a-44ad-85fa-992828325858",
   "metadata": {},
   "source": [
    "A graph is a data structure of **vertices** connected by **edges**. Max edges: (n(n-1))/2 (a dense graph)"
   ]
  },
  {
   "cell_type": "markdown",
   "id": "5f171456-e989-4c95-aba8-a783c68f5024",
   "metadata": {},
   "source": [
    "<img src=\"https://myslu.stlawu.edu/~ltorrey/algorithms/g1.png\">"
   ]
  },
  {
   "cell_type": "markdown",
   "id": "8a29b80e-2693-4535-9d73-470bdffdf14c",
   "metadata": {},
   "source": [
    "There are traditional ways of representing a graph."
   ]
  },
  {
   "cell_type": "code",
   "execution_count": 1,
   "id": "7338a3fd-a142-4fb6-8058-0e3fe639f431",
   "metadata": {},
   "outputs": [],
   "source": [
    "# Adjacency matrix\n",
    "g = [\n",
    "    [0, 1, 0, 0, 1, 0], # 1 the connectivity of vertex 1\n",
    "    [1, 0, 1, 0, 1, 0],\n",
    "    [0, 1, 0, 1, 0, 0],\n",
    "    [0, 0, 1, 0, 1, 1],\n",
    "    [1, 1, 0, 1, 0, 0],\n",
    "    [0, 0, 0, 1, 0, 0]\n",
    "]"
   ]
  },
  {
   "cell_type": "code",
   "execution_count": 2,
   "id": "316dc0e1-923f-40a6-acf5-57a9069bd8fa",
   "metadata": {},
   "outputs": [],
   "source": [
    "# Adjacency list - not fast (lookup has to loop through row)\n",
    "g = [\n",
    "    [2, 5], # 1\n",
    "    [1, 3, 5],\n",
    "    [2, 4],\n",
    "    [3, 5, 6],\n",
    "    [1, 2, 4],\n",
    "    [4]\n",
    "]"
   ]
  },
  {
   "cell_type": "markdown",
   "id": "38daafaa-2b4c-44aa-a5ed-85dc1e6b382b",
   "metadata": {},
   "source": [
    "Here's a variation on the adjacency list representation that is more convenient"
   ]
  },
  {
   "cell_type": "code",
   "execution_count": 3,
   "id": "a195b749-bdd1-4401-bb63-97e909ddce42",
   "metadata": {},
   "outputs": [],
   "source": [
    "g = {\n",
    "    1: {2, 5}, # set\n",
    "    2: {1, 3, 5},\n",
    "    3: {2, 4},\n",
    "    4: {3, 5, 6},\n",
    "    5: {1, 2, 4},\n",
    "    6: {4}\n",
    "}"
   ]
  },
  {
   "cell_type": "markdown",
   "id": "9f7b047a-934e-473d-8eb6-e64ecb37d5cc",
   "metadata": {},
   "source": [
    "If this graph represents a social network, is 2 friends with 4?"
   ]
  },
  {
   "cell_type": "code",
   "execution_count": 4,
   "id": "e0293987-6060-4eb1-a502-1d03fcaa2d09",
   "metadata": {},
   "outputs": [
    {
     "name": "stdout",
     "output_type": "stream",
     "text": [
      "False\n"
     ]
    }
   ],
   "source": [
    "print(4 in g[2])"
   ]
  },
  {
   "cell_type": "markdown",
   "id": "b1322388-2198-4796-8cc4-ce161f2da27d",
   "metadata": {},
   "source": [
    "What friends do 2 and 4 have in common?"
   ]
  },
  {
   "cell_type": "code",
   "execution_count": 5,
   "id": "92a7eb50-0c5d-4bbe-9647-5e8ffe67f729",
   "metadata": {},
   "outputs": [
    {
     "name": "stdout",
     "output_type": "stream",
     "text": [
      "{3, 5}\n"
     ]
    }
   ],
   "source": [
    "# friends = set()\n",
    "# for f in g[2]:\n",
    "#     if f in g[4]:\n",
    "#         friends.add(f)\n",
    "\n",
    "print(g[2] & g[4])"
   ]
  },
  {
   "cell_type": "markdown",
   "id": "8b461fb7-5f46-4960-ab0b-d5bc247a524e",
   "metadata": {},
   "source": [
    "Who is a friend of either 2 or 4?"
   ]
  },
  {
   "cell_type": "code",
   "execution_count": 6,
   "id": "5aa591e2-0210-4181-b0ff-65265dfe3847",
   "metadata": {},
   "outputs": [
    {
     "name": "stdout",
     "output_type": "stream",
     "text": [
      "{1, 3, 5, 6}\n"
     ]
    }
   ],
   "source": [
    "print(g[2] | g[4])\n",
    "# for val in g[2]:\n",
    "#     result.add(val)\n",
    "# for val in g[4]:\n",
    "#     result.add(val)\n",
    "# print(set(result))"
   ]
  },
  {
   "cell_type": "markdown",
   "id": "63590b42-05a1-4787-8221-777dcf1a3270",
   "metadata": {},
   "source": [
    "Who is a friend of either 2 or 4 but not both?"
   ]
  },
  {
   "cell_type": "code",
   "execution_count": 7,
   "id": "6bfa6c08-561d-4894-b11e-193fde7782ba",
   "metadata": {},
   "outputs": [
    {
     "name": "stdout",
     "output_type": "stream",
     "text": [
      "{1, 6}\n"
     ]
    }
   ],
   "source": [
    "print(g[2] ^ g[4])"
   ]
  },
  {
   "cell_type": "markdown",
   "id": "fbb414a4-9010-40d6-b290-8ee7616a3e63",
   "metadata": {},
   "source": [
    "Who is a friend of 2 but not 4?"
   ]
  },
  {
   "cell_type": "code",
   "execution_count": 8,
   "id": "f63242f6-f4a1-43af-b7e0-a17d954fe382",
   "metadata": {},
   "outputs": [
    {
     "name": "stdout",
     "output_type": "stream",
     "text": [
      "{1}\n"
     ]
    }
   ],
   "source": [
    "print(g[2] - g[4])"
   ]
  },
  {
   "cell_type": "markdown",
   "id": "094c5b80-9344-46c8-92ba-9e1005bf0e35",
   "metadata": {},
   "source": [
    "How many friendships are represented in this network?"
   ]
  },
  {
   "cell_type": "code",
   "execution_count": 9,
   "id": "44aa67fa-d812-457a-8425-dea2fe6b6a91",
   "metadata": {},
   "outputs": [
    {
     "name": "stdout",
     "output_type": "stream",
     "text": [
      "7\n"
     ]
    }
   ],
   "source": [
    "# m = 0\n",
    "# for v in g:\n",
    "#     m += len(g[v])\n",
    "# m = m//2\n",
    "# print(m)\n",
    "\n",
    "# m = []\n",
    "# for v in g:\n",
    "#     m.append(len(g[v]))\n",
    "# print(sum(m) // 2)\n",
    "\n",
    "# m = [len(g[v]) for v in g] # called a list comprehension\n",
    "# print(sum(m) // 2)\n",
    "\n",
    "print(sum(len(g[v]) for v in g) // 2) # vertices are m"
   ]
  },
  {
   "cell_type": "markdown",
   "id": "99eb7c7a-fbdc-4bf2-8d58-bc1d5a29ec81",
   "metadata": {},
   "source": [
    "If everyone were friends with everyone else, how many edges would there be?"
   ]
  },
  {
   "cell_type": "code",
   "execution_count": 11,
   "id": "34d68b04-03fa-4fa6-bf3f-3e84513e5316",
   "metadata": {},
   "outputs": [
    {
     "name": "stdout",
     "output_type": "stream",
     "text": [
      "15\n"
     ]
    }
   ],
   "source": [
    "# n(n-1))/2 = 15 where n = 6\n",
    "n = len(g)\n",
    "print(n*(n-1) // 2)"
   ]
  }
 ],
 "metadata": {
  "kernelspec": {
   "display_name": "Python 3",
   "language": "python",
   "name": "python3"
  },
  "language_info": {
   "codemirror_mode": {
    "name": "ipython",
    "version": 3
   },
   "file_extension": ".py",
   "mimetype": "text/x-python",
   "name": "python",
   "nbconvert_exporter": "python",
   "pygments_lexer": "ipython3",
   "version": "3.8.8"
  }
 },
 "nbformat": 4,
 "nbformat_minor": 5
}
