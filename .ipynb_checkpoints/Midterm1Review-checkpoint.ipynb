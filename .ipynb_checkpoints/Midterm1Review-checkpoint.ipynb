{
 "cells": [
  {
   "cell_type": "code",
   "execution_count": 5,
   "id": "f02178bd-5a08-49bf-84ee-5a7efcf63e51",
   "metadata": {},
   "outputs": [],
   "source": [
    "# This function returns whether an array of length n contains all unique values (no duplicates). \n",
    "# We've implemented this a few times before, but now we're going for maximum efficiency.\n",
    "def best_unique(array):\n",
    "    if len(set(array)) != len(array):\n",
    "        return False\n",
    "    else:\n",
    "        return True"
   ]
  },
  {
   "cell_type": "code",
   "execution_count": 6,
   "id": "4e0d842b-6b4c-454d-bb8b-fb8538339ebb",
   "metadata": {},
   "outputs": [
    {
     "name": "stdout",
     "output_type": "stream",
     "text": [
      "True\n",
      "False\n"
     ]
    }
   ],
   "source": [
    "# Testing\n",
    "print(best_unique([1, 2, 3, 4, 5]))\n",
    "print(best_unique([1, 2, 3, 4, 3]))"
   ]
  },
  {
   "cell_type": "markdown",
   "id": "44622622-0bc6-4e4d-9cf4-ab0a568099bb",
   "metadata": {},
   "source": [
    "The running time of best_unique is $O(n)$ because it takes $n$ constant time operations to convert an array into a list, one for each element of the array. The length comparison is contant time."
   ]
  },
  {
   "cell_type": "code",
   "execution_count": 19,
   "id": "b07c5a58-75a5-4914-bbe8-33fd4aece45d",
   "metadata": {},
   "outputs": [],
   "source": [
    "# This function returns any of the values that appears most frequently in an array of length n.\n",
    "def mode(array):\n",
    "    final = dict()\n",
    "    for i in array:\n",
    "        if i in final:\n",
    "            final[i] += 1\n",
    "        else:\n",
    "            final[i] = 1\n",
    "    return max(final, key=final.get)"
   ]
  },
  {
   "cell_type": "code",
   "execution_count": 20,
   "id": "e910e305-715d-4bed-934e-90984362dce4",
   "metadata": {},
   "outputs": [
    {
     "name": "stdout",
     "output_type": "stream",
     "text": [
      "1\n"
     ]
    }
   ],
   "source": [
    "# Testing\n",
    "print(mode([1, 2, 3, 1, 2, 1]))"
   ]
  },
  {
   "cell_type": "markdown",
   "id": "21a9fdb8-3874-483e-9ed2-96ab58ef310b",
   "metadata": {},
   "source": [
    "The running time of mode is $O(n)$ because it iterates through the array of length n, at each iteration performing operations on a dictionary, which means performing constant-time operations."
   ]
  },
  {
   "cell_type": "code",
   "execution_count": 58,
   "id": "7922c6a9-bfd2-41d0-9913-11a063829be9",
   "metadata": {},
   "outputs": [],
   "source": [
    "from collections import deque\n",
    "# This is a better version of the safest function, assuming that n is larger than k.\n",
    "def better_safest(n, k, verbose):\n",
    "    circle = deque() \n",
    "    for j in range(n):\n",
    "        circle.append(j)\n",
    "        \n",
    "    # With this double ended queue, we can rotate values around so the popping always takes O(1) time\n",
    "    while len(circle) > 1:\n",
    "        if verbose: print(circle) # Ignore this line in running time analysis i = (i + k) % len(array)\n",
    "        toPop = len(circle) - (k % len(circle)) - 1\n",
    "        for i in range(toPop):\n",
    "            circle.appendleft(circle.pop())\n",
    "        circle.pop()\n",
    "    return circle.pop()"
   ]
  },
  {
   "cell_type": "code",
   "execution_count": 59,
   "id": "75ddf15b-fcb0-46a7-9f6a-405e2a4c2daf",
   "metadata": {},
   "outputs": [
    {
     "name": "stdout",
     "output_type": "stream",
     "text": [
      "deque([0, 1, 2, 3, 4, 5])\n",
      "deque([4, 5, 0, 1, 2])\n",
      "deque([2, 4, 5, 0])\n",
      "deque([2, 4, 5])\n",
      "deque([4, 5])\n",
      "4\n"
     ]
    }
   ],
   "source": [
    "# Testing\n",
    "print(better_safest(6, 3, True))"
   ]
  },
  {
   "cell_type": "markdown",
   "id": "8fc87da8-23fa-4bec-81eb-89c6cb337620",
   "metadata": {},
   "source": [
    "The running time of `better_safest` is O() because populating the deque is n constant time operations, but this is overshadowed by the while loop. The while loop runs n times. Calculating toPop is a constant-time series of operations so it can be ignored. the for loop within the while loop runs n-k times, and appending and popping are constant time operations in a deque, so the function runs O(n(n-k)) runtime."
   ]
  },
  {
   "cell_type": "code",
   "execution_count": 92,
   "id": "449af129-fe55-4f0a-9e97-f590faee0ef9",
   "metadata": {},
   "outputs": [],
   "source": [
    "from heapq import heappush, heappop\n",
    "import heapq\n",
    "from random import random, seed\n",
    "def better_kth_largest(n, k, verbose):\n",
    "    heap = []\n",
    "    for i in range(k):\n",
    "        heappush(heap, random())\n",
    "        if verbose: print(heap) # Ignore this line in running time analysis\n",
    "    for j in range(k,n):\n",
    "        heapq.heapreplace(heap, random())\n",
    "    return heappop(heap)"
   ]
  },
  {
   "cell_type": "code",
   "execution_count": 93,
   "id": "52c550e8-ca9a-46be-acc6-84f193289c3d",
   "metadata": {},
   "outputs": [],
   "source": [
    "seed(362)\n",
    "print(better_kth_largest(6, 3, True))"
   ]
  },
  {
   "cell_type": "code",
   "execution_count": 70,
   "id": "26b66d00-a3a1-45ff-b680-74558086ea74",
   "metadata": {},
   "outputs": [],
   "source": [
    "from requests import get\n",
    "url = \"https://myslu.stlawu.edu/~ltorrey/algorithms/common_words.txt\"\n",
    "english = set(get(url).text.split())"
   ]
  },
  {
   "cell_type": "code",
   "execution_count": 96,
   "id": "c2d39456-f5d7-4a88-9270-c92db6af193f",
   "metadata": {},
   "outputs": [],
   "source": [
    "def greedy_split(string):\n",
    "    final = []\n",
    "    i = 0\n",
    "    while i < len(string):\n",
    "        for j in range(0,i):\n",
    "            print(len(string)-j-i, string[len(string)-j-i:len(string)-i])\n",
    "            if string[len(string)-j-i:len(string)-i] in english:\n",
    "                final.append(string[len(string)-j-i:len(string)-i])\n",
    "                i += j-1\n",
    "                break\n",
    "        print(final)\n",
    "    return final  "
   ]
  },
  {
   "cell_type": "code",
   "execution_count": 98,
   "id": "474a24b7-e8d1-4a23-9b9d-c38ce4bfdd90",
   "metadata": {},
   "outputs": [],
   "source": [
    "# print(greedy_split(\"asknotwhatyourcountrycandoforyou\"))"
   ]
  },
  {
   "cell_type": "code",
   "execution_count": 112,
   "id": "fb20ebd6-4081-44e5-8e08-867e23ef976f",
   "metadata": {},
   "outputs": [],
   "source": [
    "def robots(waves, recharge):\n",
    "    results = []\n",
    "    for wave in range(len(waves)): # try starting at each wave\n",
    "        result = [[], 0]\n",
    "        elapsed = wave\n",
    "        while elapsed < len(waves):\n",
    "            result[0].append(elapsed)\n",
    "            result[1] += waves[elapsed]\n",
    "            elapsed = elapsed + recharge\n",
    "        results.append(result)\n",
    "    return max(results, key=lambda result:result[1])"
   ]
  },
  {
   "cell_type": "code",
   "execution_count": 113,
   "id": "34f2cfab-7867-4653-8095-f4fa866872e2",
   "metadata": {},
   "outputs": [
    {
     "name": "stdout",
     "output_type": "stream",
     "text": [
      "[[1, 3], 6]\n",
      "[[0, 2], 6]\n",
      "[[1, 4], 7]\n"
     ]
    }
   ],
   "source": [
    "print(robots([1, 2, 3, 4], 2)) # expect 1,3 for 6\n",
    "print(robots([4, 3, 2, 1], 2)) # expect 0,2 for 6\n",
    "print(robots([1, 3, 5, 2, 4], 3)) # expect 1,4 for 7"
   ]
  },
  {
   "cell_type": "code",
   "execution_count": null,
   "id": "06ee0180-1d74-4812-8600-32c6434ce2f2",
   "metadata": {},
   "outputs": [],
   "source": []
  }
 ],
 "metadata": {
  "kernelspec": {
   "display_name": "Python 3",
   "language": "python",
   "name": "python3"
  },
  "language_info": {
   "codemirror_mode": {
    "name": "ipython",
    "version": 3
   },
   "file_extension": ".py",
   "mimetype": "text/x-python",
   "name": "python",
   "nbconvert_exporter": "python",
   "pygments_lexer": "ipython3",
   "version": "3.8.8"
  }
 },
 "nbformat": 4,
 "nbformat_minor": 5
}
