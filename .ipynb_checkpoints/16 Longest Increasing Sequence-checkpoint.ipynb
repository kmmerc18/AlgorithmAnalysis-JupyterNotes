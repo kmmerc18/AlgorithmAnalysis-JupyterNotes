{
 "cells": [
  {
   "cell_type": "markdown",
   "id": "cb336644-a835-4be6-a914-170df170d72b",
   "metadata": {},
   "source": [
    "# Longest Increasing Sequence"
   ]
  },
  {
   "cell_type": "markdown",
   "id": "293b6403-2be7-4fcc-8cdf-9213615f68f1",
   "metadata": {},
   "source": [
    "In this problem, we want to select the longest increasing sequence of values in an array. We can skip ahead, but not back."
   ]
  },
  {
   "cell_type": "markdown",
   "id": "37f1011c-5834-46e5-9ab6-2eb433b5bf2d",
   "metadata": {},
   "source": [
    "For example, in `[5, 3, 9, 4, 1, 8, 6, 7, 2]` the LIS is `[3, 4, 6, 7]`."
   ]
  },
  {
   "cell_type": "code",
   "execution_count": 10,
   "id": "2b9a4821-2b6d-411a-9fb9-333190d165be",
   "metadata": {},
   "outputs": [],
   "source": [
    "# This function tries to return the longest increasing sequence in an array.\n",
    "# It grows the sequence incrementally by adding the first eligible value.\n",
    "def greedy_lis(array):\n",
    "    if len(array) <= 1:\n",
    "        return array\n",
    "    lis = greedy_lis(array[:-1])\n",
    "    if array[-1] > lis[-1]:\n",
    "        lis.append(array[-1])\n",
    "        \n",
    "    return lis"
   ]
  },
  {
   "cell_type": "code",
   "execution_count": 11,
   "id": "c3f4275d-8a45-4e16-a507-77e74eb8963e",
   "metadata": {},
   "outputs": [
    {
     "name": "stdout",
     "output_type": "stream",
     "text": [
      "[5, 9]\n"
     ]
    }
   ],
   "source": [
    "# Testing\n",
    "print(greedy_lis([5, 3, 9, 4, 1, 8, 6, 7, 2]))"
   ]
  },
  {
   "cell_type": "code",
   "execution_count": 12,
   "id": "98c81964-f333-463a-883c-b0c8d0971e0a",
   "metadata": {},
   "outputs": [],
   "source": [
    "# This function tries to return the longest increasing sequence\n",
    "# in an array *that includes the last array element.*\n",
    "def combinatorial_lis(array):\n",
    "    if len(array) == 1:\n",
    "        return array\n",
    "    \n",
    "    best = [array[-1]] # [7]\n",
    "    for i in range(len(array) - 1):\n",
    "        if array[-1] > array[i]:\n",
    "            lis = combinatorial_lis(array[:i+1]) + [array[-1]]\n",
    "            if len(lis) > len(best):\n",
    "                best = lis\n",
    "            \n",
    "    return best"
   ]
  },
  {
   "cell_type": "code",
   "execution_count": 13,
   "id": "75ff4043-27f3-438a-8847-cadbff53bb78",
   "metadata": {},
   "outputs": [
    {
     "name": "stdout",
     "output_type": "stream",
     "text": [
      "[1, 2]\n",
      "[3, 4, 6, 7]\n"
     ]
    }
   ],
   "source": [
    "# Testing\n",
    "print(combinatorial_lis([5, 3, 9, 4, 1, 8, 6, 7, 2]))\n",
    "print(combinatorial_lis([5, 3, 9, 4, 1, 8, 6, 7]))"
   ]
  },
  {
   "cell_type": "code",
   "execution_count": 20,
   "id": "f010970b-7341-43aa-9741-5c0c305f26f1",
   "metadata": {},
   "outputs": [],
   "source": [
    "# This function tries to return the longest increasing sequence in an array.\n",
    "# It uses dynamic programming to achieve a polynomial running time\n",
    "def dynamic_lis(array):\n",
    "    sub = dict()\n",
    "    \n",
    "    # Subproblems: sub[i] will be the LIS ending at array[i]\n",
    "    for i in range(len(array)):\n",
    "        sub[i] = [array[i]]\n",
    "        for j in range(i):\n",
    "            if array[i]> array[j]:\n",
    "                lis = sub[j] + [array[i]]\n",
    "                if len(lis) > len(sub[i]):\n",
    "                    sub[i] = lis\n",
    "            \n",
    "    # The overall solution is the best subproblem solution\n",
    "    return max(sub.values(), key=len)"
   ]
  },
  {
   "cell_type": "code",
   "execution_count": 21,
   "id": "a9ecd5e6-7824-46ef-b9bb-81414158314a",
   "metadata": {},
   "outputs": [
    {
     "name": "stdout",
     "output_type": "stream",
     "text": [
      "[3, 4, 6, 7]\n",
      "[3, 4, 6, 7]\n",
      "[3, 4, 8]\n",
      "[5, 9]\n"
     ]
    }
   ],
   "source": [
    "# Testing\n",
    "print(dynamic_lis([5, 3, 9, 4, 1, 8, 6, 7, 2]))\n",
    "print(dynamic_lis([5, 3, 9, 4, 1, 8, 6, 7]))\n",
    "print(dynamic_lis([5, 3, 9, 4, 1, 8, 6]))\n",
    "print(dynamic_lis([5, 3, 9, 1, 8, 6]))"
   ]
  },
  {
   "cell_type": "code",
   "execution_count": 29,
   "id": "23126b6d-187a-4fbd-969c-dcf0343c4440",
   "metadata": {},
   "outputs": [],
   "source": [
    "# This function returns the longest increasing sequence in an array.\n",
    "# The algorithm is O(n^2) where n = len(array)\n",
    "def best_lis(array):\n",
    "    sub = dict()\n",
    "    sub[0] = (1, None)\n",
    "    \n",
    "    # Subproblems: sub[i] will be (length of the LIS ending at array[i], index of the previous element in the LIS)\n",
    "    for i in range(1, len(array)):\n",
    "        sub[i] = [1, None]\n",
    "        for j in range(i):\n",
    "            if array[i]> array[j]:\n",
    "                length = sub[j][0] + 1\n",
    "                if length > sub[i][0]:\n",
    "                    sub[i] = (length, j)\n",
    "                    \n",
    "    # We need to find the index that contains the highest length\n",
    "    i = max(range(len(sub)), key=lambda i: sub[i][0])\n",
    "            \n",
    "    # Now we can reconstruct the overall solution by working backwards from there.\n",
    "    lis = []\n",
    "    while i is not None:\n",
    "        lis.append(array[i])\n",
    "        i = sub[i][1]\n",
    "        \n",
    "    lis.reverse()\n",
    "    return lis"
   ]
  },
  {
   "cell_type": "code",
   "execution_count": 30,
   "id": "51a4b0b0-9365-4fb6-b260-74a47d1aae34",
   "metadata": {},
   "outputs": [
    {
     "name": "stdout",
     "output_type": "stream",
     "text": [
      "[3, 4, 6, 7]\n",
      "[3, 4, 6, 7]\n",
      "[3, 4, 8]\n",
      "[5, 9]\n"
     ]
    }
   ],
   "source": [
    "# Testing\n",
    "print(best_lis([5, 3, 9, 4, 1, 8, 6, 7, 2]))\n",
    "print(best_lis([5, 3, 9, 4, 1, 8, 6, 7]))\n",
    "print(best_lis([5, 3, 9, 4, 1, 8, 6]))\n",
    "print(best_lis([5, 3, 9, 1, 8, 6]))"
   ]
  },
  {
   "cell_type": "code",
   "execution_count": null,
   "id": "31ee9860-d249-4fc1-979a-4c1d14354f5a",
   "metadata": {},
   "outputs": [],
   "source": []
  }
 ],
 "metadata": {
  "kernelspec": {
   "display_name": "Python 3",
   "language": "python",
   "name": "python3"
  },
  "language_info": {
   "codemirror_mode": {
    "name": "ipython",
    "version": 3
   },
   "file_extension": ".py",
   "mimetype": "text/x-python",
   "name": "python",
   "nbconvert_exporter": "python",
   "pygments_lexer": "ipython3",
   "version": "3.8.8"
  }
 },
 "nbformat": 4,
 "nbformat_minor": 5
}
