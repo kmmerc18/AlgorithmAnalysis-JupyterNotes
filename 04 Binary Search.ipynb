{
 "cells": [
  {
   "cell_type": "markdown",
   "id": "bb9e0137-a298-4da3-97a8-079e4740ca29",
   "metadata": {},
   "source": [
    "# Binary Search"
   ]
  },
  {
   "cell_type": "markdown",
   "id": "9dcd055f-bd19-4e0c-8619-982126698468",
   "metadata": {},
   "source": [
    "Using `in` to check for a value in an array where $n$ is the length of the array is $O(n)$. If we don't know anything about the array, we can't expect to do better. However, if the array happens to be presorted, we can use **binary search**.\n",
    "\n",
    "The binary search algorithm is:\n",
    "- Check the middle value to rule out half of the array.\n",
    "- Do a binary search on the other half."
   ]
  },
  {
   "cell_type": "code",
   "execution_count": 1,
   "id": "5eca9b1d-4453-41f3-bd8e-3a65f87f8894",
   "metadata": {},
   "outputs": [],
   "source": [
    "# Returns whether a value can be found in a sorted array between left and right indices.\n",
    "# The algorithm is O(log n) where n = len(array).\n",
    "def binary_search(value, array, left, right):\n",
    "    if right < left:\n",
    "        return False\n",
    "    \n",
    "    middle = (right + left) // 2\n",
    "    \n",
    "    if array[middle] < value:\n",
    "        return binary_search(value, array, middle+1, right)\n",
    "    elif array[middle] > value:\n",
    "        return binary_search(value, array, left, middle-1)\n",
    "    else:\n",
    "        return True\n",
    "    "
   ]
  },
  {
   "cell_type": "markdown",
   "id": "86df121f-3681-4cea-90c7-9927dcaf369c",
   "metadata": {},
   "source": [
    "Let's do some thorough testing"
   ]
  },
  {
   "cell_type": "code",
   "execution_count": 2,
   "id": "d5ab98f2-800b-4631-b342-66c4ac332fdf",
   "metadata": {},
   "outputs": [],
   "source": [
    "# This function prints something if our binary search fails\n",
    "def test_binary_search():\n",
    "    array = random_array()\n",
    "    array.sort()\n",
    "    for value in range(20):\n",
    "        if binary_search(value, array, 0, len(array) - 1) != (value in array):\n",
    "            print(\"Error searching\", array, \"for\", value)"
   ]
  },
  {
   "cell_type": "code",
   "execution_count": 3,
   "id": "dbe4b9ba-6af4-4c19-bd0b-7a543e9f0882",
   "metadata": {},
   "outputs": [],
   "source": [
    "# This function creates and returns a small randomized array.\n",
    "from random import randrange\n",
    "def random_array():\n",
    "    array = []\n",
    "    n = randrange(20)\n",
    "    while len(array) < n:\n",
    "        array.append(randrange(20))\n",
    "    return array"
   ]
  },
  {
   "cell_type": "code",
   "execution_count": 4,
   "id": "ba337456-74a3-4ecb-8976-10d9459f6dd9",
   "metadata": {},
   "outputs": [],
   "source": [
    "# This code should have no output.\n",
    "for test in range(100):\n",
    "    test_binary_search()"
   ]
  },
  {
   "cell_type": "markdown",
   "id": "1c0db050-548b-4702-b88a-e7598fb60c39",
   "metadata": {},
   "source": [
    "This function would be a bit simpler if we passed slices instead of indices."
   ]
  },
  {
   "cell_type": "code",
   "execution_count": 5,
   "id": "7f1d1833-0b09-42ee-a94a-2a9df2a9236e",
   "metadata": {},
   "outputs": [],
   "source": [
    "# Returns whether a value can be found in a sorted array between left and right indices.\n",
    "# The algorithm is O(n) where n = len(array).\n",
    "def simple_binary_search(value, array):\n",
    "    if len(array) == 0:\n",
    "        return False\n",
    "    \n",
    "    middle = len(array) // 2\n",
    "    \n",
    "    if array[middle] < value:\n",
    "        return simple_binary_search(value, array[middle+1:])\n",
    "    elif array[middle] > value:\n",
    "        return simple_binary_search(value, array[:middle])\n",
    "    else:\n",
    "        return True\n",
    "    "
   ]
  },
  {
   "cell_type": "code",
   "execution_count": 6,
   "id": "cd5ecf2a-8238-4cee-9bef-d7a0b6fac9f0",
   "metadata": {},
   "outputs": [],
   "source": [
    "# This function prints something if our binary search fails\n",
    "def test_simple_binary_search():\n",
    "    array = random_array()\n",
    "    array.sort()\n",
    "    for value in range(20):\n",
    "        if simple_binary_search(value, array, 0, len(array) - 1) != (value in array):\n",
    "            print(\"Error searching\", array, \"for\", value)"
   ]
  },
  {
   "cell_type": "code",
   "execution_count": 7,
   "id": "f30754e9-b458-4d46-b366-1b8f86c57f5b",
   "metadata": {},
   "outputs": [],
   "source": [
    "for test in range(100):\n",
    "    test_simple_binary_search"
   ]
  },
  {
   "cell_type": "markdown",
   "id": "9e3545ce-a6d4-477a-a8b9-960790a1284d",
   "metadata": {},
   "source": [
    "Let's compare these two versions."
   ]
  },
  {
   "cell_type": "code",
   "execution_count": 8,
   "id": "4e2846cc-fc02-45bc-b6d4-837e69fcb261",
   "metadata": {},
   "outputs": [],
   "source": [
    "# This function just lets us call binary_search without extra arguments.\n",
    "def full_binary_search(value, array):\n",
    "    return binary_search(value, array, 0, len(array) - 1)"
   ]
  },
  {
   "cell_type": "code",
   "execution_count": 9,
   "id": "20131239-0317-4e7e-86df-03cc97b9ccde",
   "metadata": {},
   "outputs": [],
   "source": [
    "# This function times a search on a range of problem sizes.\n",
    "def timer(search, lengths):\n",
    "    times = []\n",
    "    for n in lengths:\n",
    "        array = list(range(n))\n",
    "        time = %timeit -n1 -r1 -o -q search(-1, array)\n",
    "        times.append(time.average)\n",
    "    return times"
   ]
  },
  {
   "cell_type": "code",
   "execution_count": 10,
   "id": "50d46e5f-9847-4e72-9c3f-7d3d97f6d5da",
   "metadata": {},
   "outputs": [
    {
     "data": {
      "image/png": "[encoded data removed]",
      "text/plain": [
       "<Figure size 432x288 with 1 Axes>"
      ]
     },
     "metadata": {
      "needs_background": "light"
     },
     "output_type": "display_data"
    }
   ],
   "source": [
    "# This code plots some search times.\n",
    "from matplotlib import pyplot\n",
    "from numpy import arange\n",
    "\n",
    "n = arange(1, 10_000_000, 1_000_000)\n",
    "\n",
    "pyplot.plot(n, timer(simple_binary_search, n), label=\"simple_binary_search\")\n",
    "pyplot.plot(n, timer(full_binary_search, n), label=\"full_binary_search\")\n",
    "\n",
    "pyplot.ylabel(\"seconds\")\n",
    "pyplot.xlabel(\"n\")\n",
    "pyplot.legend()\n",
    "pyplot.show()"
   ]
  },
  {
   "cell_type": "markdown",
   "id": "61e40f63-2a90-41f3-a093-6cfe2c6a25d4",
   "metadata": {},
   "source": [
    "Creating those slices at every step of the recursion makes the simpler implementation slower."
   ]
  }
 ],
 "metadata": {
  "kernelspec": {
   "display_name": "Python 3",
   "language": "python",
   "name": "python3"
  },
  "language_info": {
   "codemirror_mode": {
    "name": "ipython",
    "version": 3
   },
   "file_extension": ".py",
   "mimetype": "text/x-python",
   "name": "python",
   "nbconvert_exporter": "python",
   "pygments_lexer": "ipython3",
   "version": "3.8.8"
  }
 },
 "nbformat": 4,
 "nbformat_minor": 5
}
