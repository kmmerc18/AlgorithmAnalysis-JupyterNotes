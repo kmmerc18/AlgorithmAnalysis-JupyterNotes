{
 "cells": [
  {
   "cell_type": "markdown",
   "id": "e1e34881-bf7f-4e29-94d0-11e36b8bf2b1",
   "metadata": {},
   "source": [
    "# Interval Scheduling"
   ]
  },
  {
   "cell_type": "markdown",
   "id": "2537bb02-f2be-4e21-a4fd-a1fffa3fcadc",
   "metadata": {},
   "source": [
    "In this problem, we are working with jobs given as `(start, end)` intervals"
   ]
  },
  {
   "cell_type": "code",
   "execution_count": 2,
   "id": "83f9734d-e048-43c6-9b49-726073d8f8ef",
   "metadata": {},
   "outputs": [],
   "source": [
    "jobs = [(2,5), (4,7), (6,8)]"
   ]
  },
  {
   "cell_type": "code",
   "execution_count": 4,
   "id": "63d0451b-ffb4-4ad2-869f-71f25817afc4",
   "metadata": {},
   "outputs": [],
   "source": [
    "# This function returns the start time of a job.\n",
    "def start(job):\n",
    "    return job[0]"
   ]
  },
  {
   "cell_type": "code",
   "execution_count": 6,
   "id": "3a7ba205-ada3-445d-a0aa-a13697c4bd65",
   "metadata": {},
   "outputs": [],
   "source": [
    "# This function returns the end time of a job.\n",
    "def end(job):\n",
    "    return job[1]"
   ]
  },
  {
   "cell_type": "code",
   "execution_count": 8,
   "id": "7313764b-ba49-4612-935b-fdb91101807a",
   "metadata": {},
   "outputs": [],
   "source": [
    "# This function returns the length of a job.\n",
    "def length(job):\n",
    "    return end(job) - start(job)"
   ]
  },
  {
   "cell_type": "code",
   "execution_count": 9,
   "id": "9cd4fb3c-2a9e-47c7-a723-1d85cc75012b",
   "metadata": {},
   "outputs": [],
   "source": [
    "# This function returns whether jobs a and b can both be done\n",
    "def compatible(a, b):\n",
    "    return end(a) <= start(b) or end(b) <= start(a)"
   ]
  },
  {
   "cell_type": "markdown",
   "id": "1fa43a8e-bb8c-4d50-b24f-819769a46cbc",
   "metadata": {},
   "source": [
    "The problem is to select as many compatible jobs as we can."
   ]
  },
  {
   "cell_type": "code",
   "execution_count": 13,
   "id": "fa89f947-3f14-4632-8722-76291ce89087",
   "metadata": {},
   "outputs": [],
   "source": [
    "# This function tries to return the largest possible list of compatible jobs.\n",
    "# It considers jobs in order of their start time and choose them greedily.\n",
    "def select_by_start(jobs):\n",
    "    chosen = []\n",
    "    for job in sorted(jobs, key=start):\n",
    "        if len(chosen) == 0 or compatible(chosen[-1], job):\n",
    "            chosen.append(job)\n",
    "    return chosen"
   ]
  },
  {
   "cell_type": "code",
   "execution_count": 16,
   "id": "bea04246-3894-46db-86b5-36efa9e37426",
   "metadata": {},
   "outputs": [
    {
     "name": "stdout",
     "output_type": "stream",
     "text": [
      "[(2, 5), (6, 8)]\n",
      "[(0, 30)]\n"
     ]
    }
   ],
   "source": [
    "# Testing\n",
    "print(select_by_start(jobs))\n",
    "print(select_by_start([(0, 30), (2, 10), (12, 13)]))"
   ]
  },
  {
   "cell_type": "markdown",
   "id": "672e906e-6c6d-44da-a0a1-f294a7d1b3d3",
   "metadata": {},
   "source": [
    "This second test is a \"counterexample\" which prove that `select_by_start` is not a correct algorithm. The optimal solution to that test contains two jobs, and the function only returns one."
   ]
  },
  {
   "cell_type": "code",
   "execution_count": 21,
   "id": "672adb9e-73a9-4709-8b7e-31b8096e76b5",
   "metadata": {},
   "outputs": [],
   "source": [
    "# This function tries to return the largest possible list of compatible jobs.\n",
    "# It considers jobs in order of their length and choose them greedily.\n",
    "def select_by_length(jobs):\n",
    "    chosen = []\n",
    "    for job in sorted(jobs, key=length):\n",
    "        add = True\n",
    "        for other in chosen:\n",
    "            if not compatible(job, other):\n",
    "                add = False\n",
    "                break\n",
    "        if add:\n",
    "            chosen.append(job)\n",
    "    return chosen"
   ]
  },
  {
   "cell_type": "code",
   "execution_count": 23,
   "id": "cc47ee12-a95b-4fbf-b636-e35b56e542ef",
   "metadata": {},
   "outputs": [
    {
     "name": "stdout",
     "output_type": "stream",
     "text": [
      "[(6, 8), (2, 5)]\n",
      "[(12, 13), (2, 10)]\n",
      "[(4, 6)]\n"
     ]
    }
   ],
   "source": [
    "# Testing\n",
    "print(select_by_length(jobs))\n",
    "print(select_by_length([(0, 30), (2, 10), (12, 13)]))\n",
    "print(select_by_length([(2, 5), (4, 6), (5, 8)]))"
   ]
  },
  {
   "cell_type": "markdown",
   "id": "dfd42573-3c96-4fd4-80ad-7dd7870abfb8",
   "metadata": {},
   "source": [
    "This third test is a counterexample. The optimal solution contains 2 jobs and `select_by_length` only returns 1."
   ]
  },
  {
   "cell_type": "code",
   "execution_count": 24,
   "id": "a356b8d3-636a-4dd7-8b40-55d7cd17012e",
   "metadata": {},
   "outputs": [],
   "source": [
    "# This function tries to return the largest possible list of compatible jobs.\n",
    "# It considers jobs in order of their end time and chooses them greedily.\n",
    "def select_by_end(jobs):\n",
    "    chosen = []\n",
    "    for job in sorted(jobs, key=end):\n",
    "        if len(chosen) == 0 or compatible(chosen[-1], job):\n",
    "            chosen.append(job)\n",
    "    return chosen"
   ]
  },
  {
   "cell_type": "code",
   "execution_count": 26,
   "id": "5db0d57e-550b-4bba-a0c7-595272828fb7",
   "metadata": {},
   "outputs": [
    {
     "name": "stdout",
     "output_type": "stream",
     "text": [
      "[(2, 5), (6, 8)]\n",
      "[(2, 10), (12, 13)]\n",
      "[(2, 5), (5, 8)]\n"
     ]
    }
   ],
   "source": [
    "# Testing\n",
    "print(select_by_end(jobs))\n",
    "print(select_by_end([(0, 30), (2, 10), (12, 13)]))\n",
    "print(select_by_end([(2, 5), (4, 6), (5, 8)]))"
   ]
  },
  {
   "cell_type": "markdown",
   "id": "9df44a87-e565-462a-89e9-37e484fd67be",
   "metadata": {},
   "source": [
    "Somewhat surprisingly, this last approach is probably optimal."
   ]
  },
  {
   "cell_type": "code",
   "execution_count": null,
   "id": "fb40c745-9879-4beb-95ab-e62a8d9a7539",
   "metadata": {},
   "outputs": [],
   "source": []
  }
 ],
 "metadata": {
  "kernelspec": {
   "display_name": "Python 3",
   "language": "python",
   "name": "python3"
  },
  "language_info": {
   "codemirror_mode": {
    "name": "ipython",
    "version": 3
   },
   "file_extension": ".py",
   "mimetype": "text/x-python",
   "name": "python",
   "nbconvert_exporter": "python",
   "pygments_lexer": "ipython3",
   "version": "3.8.8"
  }
 },
 "nbformat": 4,
 "nbformat_minor": 5
}
