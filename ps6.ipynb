{
 "cells": [
  {
   "cell_type": "markdown",
   "id": "0e0db37f-ca6b-4915-9d63-2e5e496bcc8e",
   "metadata": {},
   "source": [
    "# Problem Set 6: Graph Traversals\n",
    "Kim Merchant"
   ]
  },
  {
   "cell_type": "markdown",
   "id": "1b92ebc3-cf97-4010-8af8-053a52f373f1",
   "metadata": {},
   "source": [
    "Graph traversal algorithms (DFS and BFS) have a wide variety of applications. This problem set explores a few of them."
   ]
  },
  {
   "cell_type": "markdown",
   "id": "bed6301a-4be8-4f8f-8a2b-de1246bb24dc",
   "metadata": {},
   "source": [
    "## 1) Detecting cycles"
   ]
  },
  {
   "cell_type": "markdown",
   "id": "340927c7-57b0-40e4-8600-eba877b72c6c",
   "metadata": {},
   "source": [
    "As discussed in this week's video, the DFS algorithm can be modified to detect cycles.\n",
    "\n",
    "Implement that modification below."
   ]
  },
  {
   "cell_type": "code",
   "execution_count": 1,
   "id": "efac57f4-62d1-4cf3-90b0-3ecec1030287",
   "metadata": {},
   "outputs": [],
   "source": [
    "# This function returns whether a graph contains any cycles.\n",
    "# The algorithm is O(n + m) where n is the #vertices and m is the #edges.\n",
    "def cyclic(graph):\n",
    "    discovered = set() # used to prevent creating multiple parent trees of the same componenet\n",
    "\n",
    "    for vertex in graph: # create each different parent tree\n",
    "        if vertex not in discovered:\n",
    "            parent = {vertex: None}\n",
    "            new = [vertex]\n",
    "\n",
    "            while len(new) > 0:\n",
    "                v = new.pop()\n",
    "                for a in graph[v]:\n",
    "                    if a in parent and a != parent[v]:\n",
    "                        return True\n",
    "                    if a not in parent:\n",
    "                        parent[a] = v\n",
    "                        new.append(a)\n",
    "            for c in parent:\n",
    "                discovered.add(c)\n",
    "                \n",
    "    return False"
   ]
  },
  {
   "cell_type": "code",
   "execution_count": 2,
   "id": "648928f7-f22a-4eb3-9522-6fe94418913d",
   "metadata": {},
   "outputs": [],
   "source": [
    "# This graph is cyclic\n",
    "g1 = {\n",
    "    1: {2, 3},\n",
    "    2: {1},\n",
    "    3: {1},\n",
    "    4: {5, 6},\n",
    "    5: {4, 6},\n",
    "    6: {4, 5}\n",
    "}"
   ]
  },
  {
   "cell_type": "code",
   "execution_count": 3,
   "id": "ebeb0a17-7a84-4062-bb38-83b1519602e8",
   "metadata": {},
   "outputs": [],
   "source": [
    "# This graph is acyclic\n",
    "g2 = {\n",
    "    1: {2, 3},\n",
    "    2: {1},\n",
    "    3: {1},\n",
    "    4: {5, 6},\n",
    "    5: {4},\n",
    "    6: {4}\n",
    "}"
   ]
  },
  {
   "cell_type": "code",
   "execution_count": 4,
   "id": "5bb0bc2c-2e45-43eb-9544-96005f7fcf45",
   "metadata": {},
   "outputs": [
    {
     "name": "stdout",
     "output_type": "stream",
     "text": [
      "True\n",
      "False\n"
     ]
    }
   ],
   "source": [
    "# Testing\n",
    "print(cyclic(g1))\n",
    "print(cyclic(g2))"
   ]
  },
  {
   "cell_type": "markdown",
   "id": "e2494a4f-5c29-47f6-98cd-7b47b87e1fc1",
   "metadata": {},
   "source": [
    "## 2) Transforming words"
   ]
  },
  {
   "cell_type": "markdown",
   "id": "6eca7693-7f6e-4485-bb6f-c059c7069b0d",
   "metadata": {},
   "source": [
    "Here's a more whimsical problem: transform one word into another by changing one letter at a time. At each step we must have a real word, and we want the shortest sequence we can get. For example, we can transform `cold` to `warm` with this sequence:\n",
    "\n",
    "`[cold, wold, word, ward, warm]`\n",
    "\n",
    "After constructing the right graph to represent this problem, you can solve it directly with BFS.\n",
    "\n",
    "Here's our BFS code from class."
   ]
  },
  {
   "cell_type": "code",
   "execution_count": 5,
   "id": "5f167d2e-7bba-438d-91e4-1867340a59c5",
   "metadata": {},
   "outputs": [],
   "source": [
    "# This function returns a parent map for a path tree from a vertex in a graph.\n",
    "# The algorithm is O(n + m) where n is the #vertices and m is the #edges.\n",
    "from collections import deque\n",
    "\n",
    "def bfs_tree(vertex, graph):\n",
    "    parent = {vertex: None}\n",
    "    new = deque([vertex])\n",
    "    \n",
    "    while len(new) > 0:\n",
    "        v = new.popleft()\n",
    "        for a in graph[v]:\n",
    "            if a not in parent:\n",
    "                parent[a] = v\n",
    "                new.append(a)\n",
    "    \n",
    "    return parent"
   ]
  },
  {
   "cell_type": "code",
   "execution_count": 6,
   "id": "84b0ff6c-3fb6-4ef6-9f7d-1e30dba04013",
   "metadata": {},
   "outputs": [],
   "source": [
    "# This function returns the best path to a vertex in a graph.\n",
    "# The path starts at root of a path tree (represented by a parent map).\n",
    "# If there is no path from this root to this vertex, the function returns None.\n",
    "def best_path(vertex, parent):\n",
    "    if vertex not in parent:\n",
    "        return None\n",
    "    \n",
    "    path = [vertex]\n",
    "    while parent[vertex] is not None:\n",
    "        vertex = parent[vertex]\n",
    "        path.append(vertex)\n",
    "    \n",
    "    path.reverse()\n",
    "    return path"
   ]
  },
  {
   "cell_type": "markdown",
   "id": "a3d63ac7-393d-4231-a61d-47059b2951f2",
   "metadata": {},
   "source": [
    "And here's a list of words that we'll consider to be real. This one only contains four-letter English words, so it's not very long."
   ]
  },
  {
   "cell_type": "code",
   "execution_count": 7,
   "id": "3e0d6dda-5804-4016-a711-6aa0468bad0f",
   "metadata": {},
   "outputs": [],
   "source": [
    "from requests import get\n",
    "url = \"https://myslu.stlawu.edu/~ltorrey/algorithms/four_letter_words.txt\"\n",
    "four_letter_words = get(url).text.split()"
   ]
  },
  {
   "cell_type": "markdown",
   "id": "52e8f0de-b6d3-4cb0-976f-b8b0544ca0c0",
   "metadata": {},
   "source": [
    "Construct a graph that will allow BFS to find transformations between four-letter words."
   ]
  },
  {
   "cell_type": "code",
   "execution_count": 8,
   "id": "fa9d2e6e-f138-4302-82e5-9457a3b2b6bf",
   "metadata": {},
   "outputs": [],
   "source": [
    "def make_tree(terms):\n",
    "    tree = dict([])\n",
    "    for i in terms: # make a dictionary entry for each term\n",
    "        neighbors = [] # the value for each key will be the list of similar-enough words\n",
    "        for key in terms:\n",
    "            difference = 0\n",
    "            for j in range(len(key)):\n",
    "                if key[j] != i[j]:\n",
    "                    difference += 1\n",
    "            if difference == 1: # words are similar enough if only one letter is different\n",
    "                neighbors.append(key)\n",
    "        tree[i] = neighbors # all neighbor words are found, add the list to the dictionary\n",
    "    return tree        "
   ]
  },
  {
   "cell_type": "markdown",
   "id": "ccd8f5cd-16b5-4e43-ad72-4129c2f60030",
   "metadata": {},
   "source": [
    "Show that you can use BFS in your graph to find the `cold` to `warm` transformation."
   ]
  },
  {
   "cell_type": "code",
   "execution_count": 9,
   "id": "aa2adaf0-f387-411f-97fc-1275b7ac9aae",
   "metadata": {
    "tags": []
   },
   "outputs": [
    {
     "name": "stdout",
     "output_type": "stream",
     "text": [
      "['cold', 'cord', 'card', 'ward', 'warm']\n"
     ]
    }
   ],
   "source": [
    "parent = bfs_tree(\"cold\", make_tree(four_letter_words))\n",
    "print(best_path(\"warm\", parent))"
   ]
  },
  {
   "cell_type": "markdown",
   "id": "2b31a96d-f299-4822-890d-547ac8bdded4",
   "metadata": {},
   "source": [
    "But what if we wanted our graph to be more complete? Here's a list of English words of all lengths."
   ]
  },
  {
   "cell_type": "code",
   "execution_count": 10,
   "id": "764fd2f5-0968-4d8c-9da0-7d78ff95c2a7",
   "metadata": {},
   "outputs": [],
   "source": [
    "from requests import get\n",
    "url = \"https://myslu.stlawu.edu/~ltorrey/algorithms/many_words.txt\"\n",
    "all_words = get(url).text.split()"
   ]
  },
  {
   "cell_type": "markdown",
   "id": "4b074829-7565-43c4-9718-678acc404828",
   "metadata": {},
   "source": [
    "Your original graph construction approach will probably not be able to handle this list. (You could try it and see!)\n",
    "\n",
    "The problem is that comparing all pairs of $n$ words takes $O(n^2)$ time, and the full word list is just too long for an $O(n^2)$ algorithm.\n",
    "\n",
    "But <a href=\"https://cs.berea.edu//cppds/Graphs/BuildingtheWordLadderGraph.html\">this page</a> suggests a clever idea for constructing the full graph without actually considering all pairs of words. Implement that idea below."
   ]
  },
  {
   "cell_type": "code",
   "execution_count": 11,
   "id": "adfb6352-b71b-4e64-91f2-ec8c03caef47",
   "metadata": {},
   "outputs": [],
   "source": [
    "def better_tree(terms):\n",
    "    tree = dict([])\n",
    "    treeFinal = dict([])\n",
    "    for i in terms:\n",
    "        for j in range(len(i)):\n",
    "            if i[:j] + \"_\" + i[j+1:] in tree: # see if this word matches any previous patterns\n",
    "                tree[i[:j] + \"_\" + i[j+1:]] += [i]\n",
    "            else:\n",
    "                tree[i[:j] + \"_\" + i[j+1:]] = [i] # if the regex is new, add it to the dictionary\n",
    "    \n",
    "    # for each list of related words\n",
    "    for key in tree:\n",
    "        for terms in tree[key]: # look at each word in the list\n",
    "            if terms in treeFinal: # if the word exists in the final tree, add the rest of the list to its values\n",
    "                for val in tree[key]:\n",
    "                    if val not in treeFinal[terms]:\n",
    "                        treeFinal[terms] += [val]\n",
    "            else: # if the word does not exist in the final tree, make an entry and add its values\n",
    "                treeFinal[terms] = []\n",
    "                for val in tree[key]:\n",
    "                    if val != terms:\n",
    "                        treeFinal[terms] += [val]\n",
    "    return treeFinal"
   ]
  },
  {
   "cell_type": "markdown",
   "id": "6d5f50e2-2873-4018-89d2-b145ee2ff954",
   "metadata": {},
   "source": [
    "Show that you can still use BFS to find the `cold` to `warm` transformation in your new graph."
   ]
  },
  {
   "cell_type": "code",
   "execution_count": 12,
   "id": "f645ed1b-3032-4205-a585-6e7af8c49615",
   "metadata": {},
   "outputs": [
    {
     "name": "stdout",
     "output_type": "stream",
     "text": [
      "['cold', 'wold', 'word', 'ward', 'warm']\n"
     ]
    }
   ],
   "source": [
    "parent = bfs_tree(\"cold\", better_tree(all_words))\n",
    "print(best_path(\"warm\", parent))"
   ]
  },
  {
   "cell_type": "markdown",
   "id": "2f45262d-8b79-4f71-90ac-a195ebe669aa",
   "metadata": {},
   "source": [
    "Show that you can also find transformations now between longer words like `flour` and `bread`."
   ]
  },
  {
   "cell_type": "code",
   "execution_count": 13,
   "id": "db5c714e-dc15-4ac8-b531-e4ccef18d7f0",
   "metadata": {},
   "outputs": [
    {
     "name": "stdout",
     "output_type": "stream",
     "text": [
      "['flour', 'floor', 'flood', 'blood', 'brood', 'broad', 'bread']\n"
     ]
    }
   ],
   "source": [
    "parent = bfs_tree(\"flour\", better_tree(all_words))\n",
    "print(best_path(\"bread\", parent))"
   ]
  }
 ],
 "metadata": {
  "kernelspec": {
   "display_name": "Python 3",
   "language": "python",
   "name": "python3"
  },
  "language_info": {
   "codemirror_mode": {
    "name": "ipython",
    "version": 3
   },
   "file_extension": ".py",
   "mimetype": "text/x-python",
   "name": "python",
   "nbconvert_exporter": "python",
   "pygments_lexer": "ipython3",
   "version": "3.8.8"
  }
 },
 "nbformat": 4,
 "nbformat_minor": 5
}
