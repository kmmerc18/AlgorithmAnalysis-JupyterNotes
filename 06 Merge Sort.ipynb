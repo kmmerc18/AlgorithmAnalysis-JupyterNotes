{
 "cells": [
  {
   "cell_type": "markdown",
   "id": "6d7c065c-0177-43bf-a111-b3b210a6661c",
   "metadata": {},
   "source": [
    "# Merge Sort"
   ]
  },
  {
   "cell_type": "markdown",
   "id": "cdc0dcf8-9839-4860-850d-190b29396fe9",
   "metadata": {},
   "source": [
    "The **merge sort** algorithm works recursively:\n",
    "- Do a merge sort on the first half of the array.\n",
    "- Do a merge sort on the second half of the array.\n",
    "- Merge the halves together to get the final order."
   ]
  },
  {
   "cell_type": "code",
   "execution_count": 1,
   "id": "6550f88f-e5d4-4ba1-98c5-f6595e76c8be",
   "metadata": {},
   "outputs": [],
   "source": [
    "# This function sorts an array between the left and right indices.\n",
    "# This is O(nlogn)\n",
    "def merge_sort(array, left, right):\n",
    "    if left < right:\n",
    "        middle = (left + right) // 2\n",
    "        merge_sort(array, left, middle)\n",
    "        merge_sort(array, middle+1, right)\n",
    "        merge(array, left, middle, right)"
   ]
  },
  {
   "cell_type": "code",
   "execution_count": 2,
   "id": "f6a7a9cb-6498-4446-b739-0f4d019a3e64",
   "metadata": {},
   "outputs": [],
   "source": [
    "# This function merges two segments of an array.\n",
    "def merge(array, left, middle, right):\n",
    "    left_segment = array[left:middle+1]\n",
    "    right_segment = array[middle+1:right+1]\n",
    "    j = 0\n",
    "    n = 0\n",
    "    \n",
    "    for i in range(left, right + 1):\n",
    "        if n == len(right_segment): # right segment is used up\n",
    "            array[i] = left_segment[j]\n",
    "            j += 1\n",
    "        elif j == len(left_segment): # left segment is used up\n",
    "            array[i] = right_segment[n]\n",
    "            n += 1\n",
    "        elif left_segment[j] < right_segment[n]:\n",
    "            array[i] = left_segment[j]\n",
    "            j += 1\n",
    "        else:\n",
    "            array[i] = right_segment[n]\n",
    "            n += 1 \n",
    "    "
   ]
  },
  {
   "cell_type": "code",
   "execution_count": 3,
   "id": "82540e66-3576-4f80-9e4d-b5482ee9dd32",
   "metadata": {},
   "outputs": [],
   "source": [
    "# This function creates and returns a small randomized array.\n",
    "from random import randrange\n",
    "def random_array():\n",
    "    array = []\n",
    "    n = randrange(20)\n",
    "    while len(array) < n:\n",
    "        array.append(randrange(20))\n",
    "    return array"
   ]
  },
  {
   "cell_type": "code",
   "execution_count": 4,
   "id": "8c189a9a-9b3c-42c4-a47c-790eced72d7f",
   "metadata": {},
   "outputs": [],
   "source": [
    "# This function prints something if a sorting function fails.\n",
    "def test_merge_sort():\n",
    "    array = random_array()\n",
    "    correct = sorted(array)\n",
    "    merge_sort(array, 0, len(array)-1)\n",
    "    if array != correct:\n",
    "        print(\"Error sorting\", array, \"with\", sort)"
   ]
  },
  {
   "cell_type": "code",
   "execution_count": 5,
   "id": "4458910f-f1e7-4584-a0cf-0c33b6ef8d7a",
   "metadata": {},
   "outputs": [],
   "source": [
    "# This code should have no output\n",
    "for test in range(100):\n",
    "    test_merge_sort()"
   ]
  },
  {
   "cell_type": "markdown",
   "id": "5ab76c30-672a-4892-8399-24f7750a24e2",
   "metadata": {},
   "source": [
    "Let's compare merge sort with selection sort:"
   ]
  },
  {
   "cell_type": "code",
   "execution_count": 6,
   "id": "70f9e3aa-eb30-468e-a488-4389a0c02198",
   "metadata": {},
   "outputs": [],
   "source": [
    "# This function sorts an array.\n",
    "# The algorithm is O(n^2) where n = len(array).\n",
    "def selection_sort(array):\n",
    "    for i in range(len(array)):\n",
    "        smallest = i\n",
    "        for j in range(i, len(array)):\n",
    "            if array[j] < array[smallest]:\n",
    "                smallest = j\n",
    "        array[i], array[smallest] = array[smallest], array[i]"
   ]
  },
  {
   "cell_type": "code",
   "execution_count": 7,
   "id": "bb99cb62-f24a-4f92-a3fe-0c3fca1a445c",
   "metadata": {},
   "outputs": [],
   "source": [
    "# This function times a sorting function on a range of problem sizes.\n",
    "def timer(sort, lengths):\n",
    "    times = []\n",
    "    for n in lengths:\n",
    "        array = list(range(n))\n",
    "        time = %timeit -n1 -r1 -o -q sort(array)\n",
    "        times.append(time.average)\n",
    "    return times"
   ]
  },
  {
   "cell_type": "code",
   "execution_count": 8,
   "id": "7b2cdd7f-29b4-4332-8d1c-ee7e339312eb",
   "metadata": {},
   "outputs": [],
   "source": [
    "# This function just lets us call merge_sort simply.\n",
    "def full_merge_sort(array):\n",
    "    merge_sort(array, 0, len(array)-1)"
   ]
  },
  {
   "cell_type": "code",
   "execution_count": 9,
   "id": "d970c6b6-1148-4965-b89a-65d1b47319ff",
   "metadata": {},
   "outputs": [
    {
     "data": {
      "image/png": "[encoded data removed]",
      "text/plain": [
       "<Figure size 432x288 with 1 Axes>"
      ]
     },
     "metadata": {
      "needs_background": "light"
     },
     "output_type": "display_data"
    }
   ],
   "source": [
    "# This code plots some search times.\n",
    "from matplotlib import pyplot\n",
    "from numpy import arange\n",
    "\n",
    "n = arange(1, 1000, 100)\n",
    "\n",
    "pyplot.plot(n, timer(selection_sort, n), label=\"selection_sort\")\n",
    "pyplot.plot(n, timer(full_merge_sort, n), label=\"merge_sort\")\n",
    "\n",
    "pyplot.ylabel(\"seconds\")\n",
    "pyplot.xlabel(\"n\")\n",
    "pyplot.legend()\n",
    "pyplot.show()"
   ]
  },
  {
   "cell_type": "markdown",
   "id": "6b27a230-29d7-4ed3-8cb3-0e72de78970d",
   "metadata": {},
   "source": [
    "Going from $O(n^2)$ to $O(nlogn)$ is a big improvement."
   ]
  }
 ],
 "metadata": {
  "kernelspec": {
   "display_name": "Python 3",
   "language": "python",
   "name": "python3"
  },
  "language_info": {
   "codemirror_mode": {
    "name": "ipython",
    "version": 3
   },
   "file_extension": ".py",
   "mimetype": "text/x-python",
   "name": "python",
   "nbconvert_exporter": "python",
   "pygments_lexer": "ipython3",
   "version": "3.8.8"
  }
 },
 "nbformat": 4,
 "nbformat_minor": 5
}
