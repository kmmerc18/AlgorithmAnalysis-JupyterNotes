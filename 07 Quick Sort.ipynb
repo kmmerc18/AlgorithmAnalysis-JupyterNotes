{
 "cells": [
  {
   "cell_type": "markdown",
   "id": "dda43f00-9682-4485-a91d-e7d9989f7729",
   "metadata": {},
   "source": [
    "# Quick Sort"
   ]
  },
  {
   "cell_type": "markdown",
   "id": "a842867b-c7ab-45a1-b6d1-72469149173d",
   "metadata": {},
   "source": [
    "The **quick sort** algorithm also works recursively:\n",
    "- Choose a pivot value from the array.\n",
    "- Get smaller values left of the pivot.\n",
    "- Do a quick sort to the left of the pivot.\n",
    "- Do a quick sort to the right of the pivot."
   ]
  },
  {
   "cell_type": "code",
   "execution_count": 1,
   "id": "b835ce8e-e515-4554-ae15-a9f802ea71f7",
   "metadata": {},
   "outputs": [],
   "source": [
    "# This function sorts an array between the left and rightindices.\n",
    "def quick_sort(array, left, right):\n",
    "    if(left < right):\n",
    "        p = partition(array, left, right)\n",
    "        quick_sort(array, left, p-1)\n",
    "        quick_sort(array, p+1, right)"
   ]
  },
  {
   "cell_type": "code",
   "execution_count": 2,
   "id": "3008d869-5749-420c-adc4-e209e2df8e63",
   "metadata": {},
   "outputs": [],
   "source": [
    "# This function partitions a segment of an array around a randomly chosen pivot and returns the pivot index.\n",
    "from random import randint\n",
    "def partition(array, left, right):\n",
    "    i = randint(left, right) # this specific function is inclusive right and left\n",
    "                            # the pivot value is at a random location\n",
    "    array[right], array[i] = array[i], array[right] # but we'll keep it on the right\n",
    "    p = left # until we find where it belongs\n",
    "    \n",
    "    for i in range(left, right):\n",
    "        if array[i] < array[right]:\n",
    "            array[i], array[p] = array[p], array[i] # shift smaller values left\n",
    "            p += 1\n",
    "        \n",
    "    array[right], array[p] = array[p], array[right]\n",
    "    return p # the pivot index"
   ]
  },
  {
   "cell_type": "markdown",
   "id": "2fad41b0-6558-4e0c-8945-296f6e6bc5d5",
   "metadata": {},
   "source": [
    "Let's do some testing"
   ]
  },
  {
   "cell_type": "code",
   "execution_count": 3,
   "id": "65bb5ae7-4c5c-45ac-bd84-60589198753c",
   "metadata": {},
   "outputs": [],
   "source": [
    "# This function prints something if our quick sort fails\n",
    "def test_quick_sort():\n",
    "    array = random_array()\n",
    "    correct = sorted(array)\n",
    "    quick_sort(array, 0, len(array)-1)\n",
    "    if array != correct:\n",
    "        print(\"Error quick sorting\", array)"
   ]
  },
  {
   "cell_type": "code",
   "execution_count": 4,
   "id": "436003e7-3884-498f-94b6-14d3ed62a0b0",
   "metadata": {},
   "outputs": [],
   "source": [
    "# This function creates and returns a small randomized array.\n",
    "from random import randrange\n",
    "def random_array():\n",
    "    array = []\n",
    "    n = randrange(20)\n",
    "    while len(array) < n:\n",
    "        array.append(randrange(20))\n",
    "    return array"
   ]
  },
  {
   "cell_type": "code",
   "execution_count": 5,
   "id": "5c18689c-2309-4d94-99dd-10b90709a2ea",
   "metadata": {},
   "outputs": [],
   "source": [
    "# This code should have no output\n",
    "for test in range(100):\n",
    "    test_quick_sort()"
   ]
  },
  {
   "cell_type": "markdown",
   "id": "7818d2ad-96cb-4356-97e2-16d8f27a9cff",
   "metadata": {},
   "source": [
    "Compare merge_sort and quick_sort"
   ]
  },
  {
   "cell_type": "code",
   "execution_count": 6,
   "id": "02c47561-2eea-4f1c-9fcb-4ed158130c98",
   "metadata": {},
   "outputs": [],
   "source": [
    "# This function sorts an array between the left and right indices.\n",
    "# This is O(nlogn)\n",
    "def merge_sort(array, left, right):\n",
    "    if left < right:\n",
    "        middle = (left + right) // 2\n",
    "        merge_sort(array, left, middle)\n",
    "        merge_sort(array, middle+1, right)\n",
    "        merge(array, left, middle, right)"
   ]
  },
  {
   "cell_type": "code",
   "execution_count": 7,
   "id": "ad1a5b74-15c8-45d5-8fec-eaaa6cf50916",
   "metadata": {},
   "outputs": [],
   "source": [
    "# This function merges two segments of an array.\n",
    "def merge(array, left, middle, right):\n",
    "    left_segment = array[left:middle+1]\n",
    "    right_segment = array[middle+1:right+1]\n",
    "    j = 0\n",
    "    n = 0\n",
    "    \n",
    "    for i in range(left, right + 1):\n",
    "        if n == len(right_segment): # right segment is used up\n",
    "            array[i] = left_segment[j]\n",
    "            j += 1\n",
    "        elif j == len(left_segment): # left segment is used up\n",
    "            array[i] = right_segment[n]\n",
    "            n += 1\n",
    "        elif left_segment[j] < right_segment[n]:\n",
    "            array[i] = left_segment[j]\n",
    "            j += 1\n",
    "        else:\n",
    "            array[i] = right_segment[n]\n",
    "            n += 1 "
   ]
  },
  {
   "cell_type": "code",
   "execution_count": 8,
   "id": "fef13759-fc6f-404d-ae28-900d1bf64b9f",
   "metadata": {},
   "outputs": [],
   "source": [
    "# This function times a sorting function on a range of problem sizes.\n",
    "from random import shuffle\n",
    "def timer(sort, lengths):\n",
    "    times = []\n",
    "    for n in lengths:\n",
    "        array = list(range(n))\n",
    "        shuffle(array)\n",
    "        time = %timeit -n1 -r1 -o -q sort(array)\n",
    "        times.append(time.average)\n",
    "    return times"
   ]
  },
  {
   "cell_type": "code",
   "execution_count": 9,
   "id": "41b7e8ca-0627-4b91-a5ad-f7dde7a940bb",
   "metadata": {},
   "outputs": [],
   "source": [
    "# This function just lets us call merge_sort simply.\n",
    "def full_merge_sort(array):\n",
    "    merge_sort(array, 0, len(array)-1)"
   ]
  },
  {
   "cell_type": "code",
   "execution_count": 10,
   "id": "eb55ae5d-3b49-46e7-b5dd-0b55ad7e4c89",
   "metadata": {},
   "outputs": [],
   "source": [
    "# This function just lets us call merge_sort simply.\n",
    "def full_quick_sort(array):\n",
    "    quick_sort(array, 0, len(array)-1)"
   ]
  },
  {
   "cell_type": "code",
   "execution_count": 11,
   "id": "f53bd4f2-63a7-4b2a-88ca-c443a2429097",
   "metadata": {},
   "outputs": [
    {
     "data": {
      "image/png": "[encoded data removed]",
      "text/plain": [
       "<Figure size 432x288 with 1 Axes>"
      ]
     },
     "metadata": {
      "needs_background": "light"
     },
     "output_type": "display_data"
    }
   ],
   "source": [
    "# This code plots some search times.\n",
    "from matplotlib import pyplot\n",
    "from numpy import arange\n",
    "\n",
    "n = arange(1, 100_000, 10_000)\n",
    "\n",
    "pyplot.plot(n, timer(full_merge_sort, n), label=\"merge_sort\")\n",
    "pyplot.plot(n, timer(full_quick_sort, n), label=\"quick_sort\")\n",
    "pyplot.plot(n, timer(sorted, n), label=\"built-in sort\")\n",
    "\n",
    "pyplot.ylabel(\"seconds\")\n",
    "pyplot.xlabel(\"n\")\n",
    "pyplot.legend()\n",
    "pyplot.show()"
   ]
  },
  {
   "cell_type": "markdown",
   "id": "4bd2ac37-70e4-47ae-a354-5bc2f5cdd38e",
   "metadata": {},
   "source": [
    "Quick sort is pretty comparable to merge sort on this kind of data.\n",
    "\n",
    "The built-in sort is a highly-optimized combination of merge sort and insertion sort called **Timsort**. \n",
    "\n",
    "Timsort is also $O(n\\log n)$, but it has a much smaller constant multiplier, and it behaves more like $O(n)$ when it encounters runs."
   ]
  }
 ],
 "metadata": {
  "kernelspec": {
   "display_name": "Python 3",
   "language": "python",
   "name": "python3"
  },
  "language_info": {
   "codemirror_mode": {
    "name": "ipython",
    "version": 3
   },
   "file_extension": ".py",
   "mimetype": "text/x-python",
   "name": "python",
   "nbconvert_exporter": "python",
   "pygments_lexer": "ipython3",
   "version": "3.8.8"
  }
 },
 "nbformat": 4,
 "nbformat_minor": 5
}
