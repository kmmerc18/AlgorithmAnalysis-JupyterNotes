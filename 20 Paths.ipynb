{
 "cells": [
  {
   "cell_type": "markdown",
   "id": "c4ce2889-2f8d-4f0c-8288-12be8675962e",
   "metadata": {},
   "source": [
    "# Paths"
   ]
  },
  {
   "cell_type": "markdown",
   "id": "a8df2f18-377f-41a1-b3a4-8cc0fed02fa0",
   "metadata": {},
   "source": [
    "A **path** is any sequence of adjacent vertices, like `[2, 5, 9]` in this graph."
   ]
  },
  {
   "cell_type": "markdown",
   "id": "5af2f6cf-2cfd-45cf-add9-7bb6ee5c8f7e",
   "metadata": {},
   "source": [
    "<img src=\"https://myslu.stlawu.edu/~ltorrey/algorithms/g2.png\">"
   ]
  },
  {
   "cell_type": "code",
   "execution_count": 1,
   "id": "0d24be77-45e9-4e8c-a059-79cf409d580e",
   "metadata": {},
   "outputs": [],
   "source": [
    "g = {\n",
    "    1: {2, 5},\n",
    "    2: {1, 3, 5},\n",
    "    3: {2, 6},\n",
    "    4: {7, 8},\n",
    "    5: {1, 2, 9},\n",
    "    6: {3},\n",
    "    7: {4, 8},\n",
    "    8: {4, 7},\n",
    "    9: {5}\n",
    "}"
   ]
  },
  {
   "cell_type": "markdown",
   "id": "cdcc5696-b9df-4c53-b491-9da82a35b13d",
   "metadata": {},
   "source": [
    "This tree illustrates the best paths between 2 and every other vertex in its component."
   ]
  },
  {
   "cell_type": "markdown",
   "id": "4e2eab67-6927-4ade-9d1a-7a480acdf738",
   "metadata": {},
   "source": [
    "<img src=\"https://myslu.stlawu.edu/~ltorrey/algorithms/t1.png\">"
   ]
  },
  {
   "cell_type": "markdown",
   "id": "c4ecb32a-7e0d-4e0c-8c8a-e9887cbf01b8",
   "metadata": {},
   "source": [
    "This information is typically represented with a dictionary that maps each vertex to its parent in the tree."
   ]
  },
  {
   "cell_type": "code",
   "execution_count": 2,
   "id": "9a13e1e6-2b9b-4b8a-9979-47b3d2e0c3fb",
   "metadata": {},
   "outputs": [],
   "source": [
    "parent = {2: None,\n",
    "         1: 2,\n",
    "         3: 2,\n",
    "         5: 2,\n",
    "         6: 3,\n",
    "         9: 5\n",
    "         }"
   ]
  },
  {
   "cell_type": "markdown",
   "id": "9a8d8626-17a5-42b8-8172-128426edda98",
   "metadata": {},
   "source": [
    "To build the best path tree for a vertex, we can use **breadth-first search**."
   ]
  },
  {
   "cell_type": "code",
   "execution_count": 3,
   "id": "35c50e07-6b24-4bf1-85f9-4c0a8f6ce193",
   "metadata": {},
   "outputs": [],
   "source": [
    "# This function returns a parent map for a path tree from a vertex in a graph.\n",
    "from collections import deque\n",
    "\n",
    "def bfs_tree(vertex, graph):\n",
    "    parent = {vertex: None}\n",
    "    new = deque([vertex])\n",
    "    \n",
    "    while len(new) > 0:\n",
    "        v = new.pop()\n",
    "        for a in graph[v]:\n",
    "            if a not in parent:\n",
    "                parent[a] = v\n",
    "                new.append(a)\n",
    "                \n",
    "    return parent"
   ]
  },
  {
   "cell_type": "code",
   "execution_count": 4,
   "id": "b8ed2087-3f3f-4dd7-b77e-417af843c9a9",
   "metadata": {},
   "outputs": [
    {
     "name": "stdout",
     "output_type": "stream",
     "text": [
      "{2: None, 1: 2, 3: 2, 5: 2, 9: 5, 6: 3}\n"
     ]
    }
   ],
   "source": [
    "# Testing\n",
    "parent = bfs_tree(2, g)\n",
    "print(parent)"
   ]
  },
  {
   "cell_type": "markdown",
   "id": "e0ed5776-82cc-49de-8835-cefa26b5c65a",
   "metadata": {},
   "source": [
    "We'll also need a function for extracting a path from a parent map."
   ]
  },
  {
   "cell_type": "code",
   "execution_count": 12,
   "id": "82d88092-5cc5-465a-8f74-3bd7dc978abb",
   "metadata": {},
   "outputs": [],
   "source": [
    "# This function returns the best path to a vertex in a graph.\n",
    "# The path starts at the root of a path tree (represented by a parent map).\n",
    "# If there is no such path, the function returns None.\n",
    "def best_path(vertex, parent):\n",
    "    if vertex not in parent: \n",
    "        return None\n",
    "    final = [vertex]\n",
    "    while parent[vertex] != None:\n",
    "        final.append(parent[vertex])\n",
    "        vertex = parent[vertex]\n",
    "        \n",
    "    final.reverse()\n",
    "    return final"
   ]
  },
  {
   "cell_type": "code",
   "execution_count": 13,
   "id": "e09d1f5e-e607-4bc0-aee3-8d8f6d12f7db",
   "metadata": {},
   "outputs": [
    {
     "name": "stdout",
     "output_type": "stream",
     "text": [
      "[2, 1]\n",
      "[2]\n",
      "[2, 3]\n",
      "None\n",
      "[2, 5]\n",
      "[2, 3, 6]\n",
      "None\n",
      "None\n",
      "[2, 5, 9]\n"
     ]
    }
   ],
   "source": [
    "# Testing\n",
    "for v in g:\n",
    "    print(best_path(v, parent))"
   ]
  },
  {
   "cell_type": "code",
   "execution_count": null,
   "id": "825f68f6-342d-454c-98d0-8234f7cfa48c",
   "metadata": {},
   "outputs": [],
   "source": []
  }
 ],
 "metadata": {
  "kernelspec": {
   "display_name": "Python 3",
   "language": "python",
   "name": "python3"
  },
  "language_info": {
   "codemirror_mode": {
    "name": "ipython",
    "version": 3
   },
   "file_extension": ".py",
   "mimetype": "text/x-python",
   "name": "python",
   "nbconvert_exporter": "python",
   "pygments_lexer": "ipython3",
   "version": "3.8.8"
  }
 },
 "nbformat": 4,
 "nbformat_minor": 5
}
