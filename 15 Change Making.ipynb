{
 "cells": [
  {
   "cell_type": "markdown",
   "id": "78df80ce-8437-4eac-bbb0-e25ad7bd4112",
   "metadata": {},
   "source": [
    "# Change Making"
   ]
  },
  {
   "cell_type": "markdown",
   "id": "38d00232-028f-4e0d-8efe-840d307106df",
   "metadata": {},
   "source": [
    "In this problem, we want tot use as few coins as possible to make $n$ cents. In everday life, we use a greedy algorithm.(Chooses what looks best at that moment, one step at a time. Small, shortsighted decisions)"
   ]
  },
  {
   "cell_type": "code",
   "execution_count": 1,
   "id": "fb50b26e-1f1e-47b4-a79c-3814bcc684f4",
   "metadata": {},
   "outputs": [],
   "source": [
    "# This function returns the coins a human would use to make n cents.\n",
    "# It always uses the largest coin that it can.\n",
    "def greedy_change(n, coins):\n",
    "    change = []\n",
    "    for coin in sorted(coins, reverse=True): \n",
    "        while coin <= n:\n",
    "            change.append(coin)\n",
    "            n -= coin\n",
    "    return change"
   ]
  },
  {
   "cell_type": "code",
   "execution_count": 2,
   "id": "45621c17-e53a-4ab7-977f-8230613cc67b",
   "metadata": {},
   "outputs": [
    {
     "name": "stdout",
     "output_type": "stream",
     "text": [
      "[25, 25, 10, 5, 1, 1]\n"
     ]
    }
   ],
   "source": [
    "print(greedy_change(67, [25, 10, 5, 1])) # [25, 25, 10, 5, 1, 1]"
   ]
  },
  {
   "cell_type": "markdown",
   "id": "18bd3374-47a2-4f33-945c-cc5a1af94ea2",
   "metadata": {},
   "source": [
    "This is a provably optimal algorithm in realistic coin systems, but not in arbitrary coin systems."
   ]
  },
  {
   "cell_type": "code",
   "execution_count": 3,
   "id": "c90dc2f2-fca8-424c-b1c6-804162800b51",
   "metadata": {},
   "outputs": [
    {
     "name": "stdout",
     "output_type": "stream",
     "text": [
      "[10, 1, 1]\n"
     ]
    }
   ],
   "source": [
    "print(greedy_change(12, [25, 10, 5, 1]))"
   ]
  },
  {
   "cell_type": "code",
   "execution_count": 4,
   "id": "62c773d3-2b6f-40f3-b508-62fc38cf92c6",
   "metadata": {},
   "outputs": [
    {
     "name": "stdout",
     "output_type": "stream",
     "text": [
      "[10, 1, 1]\n"
     ]
    }
   ],
   "source": [
    "# This is a counterexample because the optimal solution is [6, 6]\n",
    "print(greedy_change(12, [25, 10, 6, 1]))"
   ]
  },
  {
   "cell_type": "markdown",
   "id": "56211fd6-e87e-4f93-964f-d8e93a919bd2",
   "metadata": {},
   "source": [
    "One way to be sure we get an optimal solution is to look at all possible solutions and choose the best one."
   ]
  },
  {
   "cell_type": "code",
   "execution_count": 5,
   "id": "a2499a7f-8c21-4539-a848-70a14e0b9b76",
   "metadata": {},
   "outputs": [],
   "source": [
    "# This function returns the optimal coins to make n cents.\n",
    "# It considers all possible coin combinations, which takes exponential time.\n",
    "def combinatorial_change(n, coins):\n",
    "    if n == 0:\n",
    "        return []\n",
    "    best = None\n",
    "    for coin in coins:\n",
    "        if coin <= n:\n",
    "            change = [coin] + combinatorial_change(n-coin, coins)\n",
    "            if best is None or len(change) < len(best):\n",
    "                best = change\n",
    "            \n",
    "    return best"
   ]
  },
  {
   "cell_type": "code",
   "execution_count": 6,
   "id": "035d689b-30d0-453e-a84c-8b6295f139d7",
   "metadata": {},
   "outputs": [
    {
     "name": "stdout",
     "output_type": "stream",
     "text": [
      "[6, 6]\n"
     ]
    }
   ],
   "source": [
    "# This is a counterexample because the optimal solution is [6, 6]\n",
    "print(combinatorial_change(12, [25, 10, 6, 1]))\n",
    "# print(combinatorial_change(67, [25, 10, 6, 1])) # too slow to finish"
   ]
  },
  {
   "cell_type": "markdown",
   "id": "1ab44baf-794a-4836-8410-92230bcbc5b8",
   "metadata": {},
   "source": [
    "This is very slow because it solves the same subproblems repeatedly. What if we could just solve each subproblem once?"
   ]
  },
  {
   "cell_type": "code",
   "execution_count": 7,
   "id": "6225780b-8fb6-4417-a5b8-6a56242a1c64",
   "metadata": {},
   "outputs": [],
   "source": [
    "# This function returns the optimal coins to make n cents.\n",
    "# It uses dynamic programming to achieve a polynomial running time (work up from subproblems)\n",
    "def dynamic_change(n, coins):\n",
    "    sub = dict()\n",
    "    sub[0] = []\n",
    "    \n",
    "    # Subproblems: sub[i] will be the optimal coins to make i cents.\n",
    "    for i in range(1, n + 1):\n",
    "        for coin in coins:\n",
    "            if coin <= i:\n",
    "                change = [coin] + sub[i - coin]\n",
    "                if i not in sub or len(change) < len(sub[i]):\n",
    "                    sub[i] = change\n",
    "                    \n",
    "    # The overall solution is just the final subproblem solution.\n",
    "    return sub[n]"
   ]
  },
  {
   "cell_type": "code",
   "execution_count": 8,
   "id": "e633324a-2430-4355-9dca-789cbecbd2cb",
   "metadata": {},
   "outputs": [
    {
     "name": "stdout",
     "output_type": "stream",
     "text": [
      "[6, 6]\n",
      "[25, 25, 10, 6, 1]\n"
     ]
    }
   ],
   "source": [
    "# Testing\n",
    "print(dynamic_change(12, [25, 10, 6, 1]))\n",
    "print(dynamic_change(67, [25, 10, 6, 1]))"
   ]
  },
  {
   "cell_type": "markdown",
   "id": "2bfafa50-4136-41bb-b56a-05f2b4a1b86d",
   "metadata": {},
   "source": [
    "We can improve a bit further by storing just aa few pieces of information about each subproblem solution."
   ]
  },
  {
   "cell_type": "code",
   "execution_count": 9,
   "id": "686c7b8a-67cb-45d2-b24d-32b527782800",
   "metadata": {},
   "outputs": [],
   "source": [
    "# This function returns the optimal coins to make n cents\n",
    "# The algorithm is O(nk) where k = len(coins).\n",
    "def best_change(n, coins):\n",
    "    sub = dict()\n",
    "    sub[0] = (0, None)\n",
    "    \n",
    "    # Subproblems: sub[i] (optimal number of coins to make i cents, one of those coins)\n",
    "    for i in range(1, n + 1):\n",
    "        for coin in coins:\n",
    "            if coin <= i:\n",
    "                number = 1 + sub[i - coin][0]\n",
    "                if i not in sub or number < sub[i][0]:\n",
    "                    sub[i] = (number, coin)\n",
    "                    \n",
    "    # To construct the overall solution we trace backwards from the final subproblem\n",
    "    change = []\n",
    "    while n > 0:\n",
    "        coin = sub[n][1]\n",
    "        change.append(coin)\n",
    "        n -= coin\n",
    "    \n",
    "    return change"
   ]
  },
  {
   "cell_type": "code",
   "execution_count": 10,
   "id": "087d205b-abbd-471b-b641-b782b546fa42",
   "metadata": {},
   "outputs": [
    {
     "name": "stdout",
     "output_type": "stream",
     "text": [
      "[6, 6]\n",
      "[25, 25, 10, 6, 1]\n"
     ]
    }
   ],
   "source": [
    "# Testing\n",
    "print(best_change(12, [25, 10, 6, 1]))\n",
    "print(best_change(67, [25, 10, 6, 1]))"
   ]
  },
  {
   "cell_type": "code",
   "execution_count": 11,
   "id": "280eb5c7-9d88-45d3-b13f-881eec5f8c04",
   "metadata": {},
   "outputs": [],
   "source": [
    "# This function times a change-makng function on a range of problem sizes.\n",
    "def timer(change, sizes):\n",
    "    times = []\n",
    "    for n in sizes:\n",
    "        time = %timeit -n1 -r1 -o -q change(n, [25, 10, 5, 1])\n",
    "        times.append(time.average)\n",
    "    return times"
   ]
  },
  {
   "cell_type": "code",
   "execution_count": 21,
   "id": "2ac2ef8b-0d46-45cd-9d2c-19da6d0f5151",
   "metadata": {},
   "outputs": [
    {
     "data": {
      "image/png": "[encoded data removed]",
      "text/plain": [
       "<Figure size 432x288 with 1 Axes>"
      ]
     },
     "metadata": {
      "needs_background": "light"
     },
     "output_type": "display_data"
    }
   ],
   "source": [
    "# This code plots some times\n",
    "from matplotlib import pyplot\n",
    "from numpy import arange\n",
    "\n",
    "# n = arange(1, 30)\n",
    "n = arange(1, 10_000, 1000)\n",
    "\n",
    "# pyplot.plot(n, timer(combinatorial_change, n), label=\"combinatorial_change\")\n",
    "pyplot.plot(n, timer(dynamic_change, n), label=\"dynamic_change\")\n",
    "pyplot.plot(n, timer(best_change, n), label=\"best_change\")\n",
    "\n",
    "pyplot.ylabel(\"seconds\")\n",
    "pyplot.xlabel(\"n\")\n",
    "pyplot.legend()\n",
    "pyplot.show()"
   ]
  },
  {
   "cell_type": "markdown",
   "id": "5efc0c05-cfd0-48e2-a2b2-29a0d9932173",
   "metadata": {},
   "source": [
    "Going from exponential to polynomial time is the most important thing, but improving the way we store solutions does make a difference."
   ]
  },
  {
   "cell_type": "code",
   "execution_count": null,
   "id": "a4a98fa4-8b34-4c88-ad81-94daf8f37eec",
   "metadata": {},
   "outputs": [],
   "source": []
  }
 ],
 "metadata": {
  "kernelspec": {
   "display_name": "Python 3",
   "language": "python",
   "name": "python3"
  },
  "language_info": {
   "codemirror_mode": {
    "name": "ipython",
    "version": 3
   },
   "file_extension": ".py",
   "mimetype": "text/x-python",
   "name": "python",
   "nbconvert_exporter": "python",
   "pygments_lexer": "ipython3",
   "version": "3.8.8"
  }
 },
 "nbformat": 4,
 "nbformat_minor": 5
}
