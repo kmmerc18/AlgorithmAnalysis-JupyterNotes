{
 "cells": [
  {
   "cell_type": "markdown",
   "id": "9c11854c-2969-4867-b531-2437083c6770",
   "metadata": {},
   "source": [
    "# Amortization"
   ]
  },
  {
   "cell_type": "markdown",
   "id": "dafa43ad-b4bb-4eb9-9be6-395b7bf21bf5",
   "metadata": {},
   "source": [
    "Lists are dynamic arrays that automatically resize as they grow."
   ]
  },
  {
   "cell_type": "code",
   "execution_count": 2,
   "id": "586c936e-96ed-4087-a178-11ea0abb2c1e",
   "metadata": {},
   "outputs": [
    {
     "name": "stdout",
     "output_type": "stream",
     "text": [
      "1 4\n",
      "2 4\n",
      "3 4\n",
      "4 4\n",
      "5 8\n",
      "6 8\n",
      "7 8\n",
      "8 8\n",
      "9 16\n",
      "10 16\n"
     ]
    }
   ],
   "source": [
    "# This code shows how the capacity of a list grows as we append to it.\n",
    "from sys import getsizeof\n",
    "\n",
    "ls = []\n",
    "for i in range(10):\n",
    "    ls.append(i)\n",
    "    print(len(ls), (getsizeof(ls) - 56) // 8)"
   ]
  },
  {
   "cell_type": "code",
   "execution_count": 4,
   "id": "8927edad-90fb-4f40-b596-ccba2149ec43",
   "metadata": {},
   "outputs": [],
   "source": [
    "# This function measures the time of each append operation in a sequence.\n",
    "def append_timer(n):\n",
    "    ls = []\n",
    "    times = []\n",
    "    for i in range(n):\n",
    "        time = %timeit -n1 -r1 -o -q ls.append(i)\n",
    "        times.append(time.average)\n",
    "    return times"
   ]
  },
  {
   "cell_type": "code",
   "execution_count": 8,
   "id": "57982106-5e05-4d3b-b3af-88cb354385be",
   "metadata": {},
   "outputs": [
    {
     "data": {
      "image/png": "[encoded data removed]",
      "text/plain": [
       "<Figure size 432x288 with 1 Axes>"
      ]
     },
     "metadata": {
      "needs_background": "light"
     },
     "output_type": "display_data"
    }
   ],
   "source": [
    "# This code plots some append times.\n",
    "from matplotlib import pyplot\n",
    "from numpy import arange\n",
    "\n",
    "n = 1000\n",
    "\n",
    "pyplot.bar(arange(n), append_timer(n))\n",
    "\n",
    "pyplot.ylabel(\"seconds for append i\")\n",
    "pyplot.xlabel(\"i\")\n",
    "pyplot.show()"
   ]
  },
  {
   "cell_type": "markdown",
   "id": "58d07c05-40ca-4fec-abaf-1a9d97e3e015",
   "metadata": {},
   "source": [
    "Based on a traditional worst-case analysis, appending to a list of length $n$ is an $O(n)$ operation."
   ]
  },
  {
   "cell_type": "code",
   "execution_count": 10,
   "id": "c76d0c7d-bb4e-4a6a-a2f3-94c1653285be",
   "metadata": {},
   "outputs": [],
   "source": [
    "# This function constructs a list of n values by performing n appends.\n",
    "def construct(n):\n",
    "    ls = []\n",
    "    for i in range(n):\n",
    "        ls.append(i)\n",
    "    return ls"
   ]
  },
  {
   "cell_type": "code",
   "execution_count": 15,
   "id": "1bd70f34-32ab-4453-9d1b-c9b1e0c2d00e",
   "metadata": {},
   "outputs": [],
   "source": [
    "# This function measures the time it takes to construct lists of a range of lengths.\n",
    "def construct_timer(lengths):\n",
    "    times = []\n",
    "    for n in lengths:\n",
    "        time = %timeit -n1 -r1 -o -q construct(n)\n",
    "        times.append(time.average)\n",
    "    return times"
   ]
  },
  {
   "cell_type": "code",
   "execution_count": 16,
   "id": "c1648959-c83d-430c-8259-65aabd822e5e",
   "metadata": {},
   "outputs": [
    {
     "data": {
      "image/png": "[encoded data removed]",
      "text/plain": [
       "<Figure size 432x288 with 1 Axes>"
      ]
     },
     "metadata": {
      "needs_background": "light"
     },
     "output_type": "display_data"
    }
   ],
   "source": [
    "# This code plots some construct times.\n",
    "from matplotlib import pyplot\n",
    "from numpy import arange\n",
    "\n",
    "n = arange(1, 10_000_000, 1_000_000)\n",
    "\n",
    "pyplot.plot(n, construct_timer(n))\n",
    "\n",
    "pyplot.ylabel(\"seconds for n appends\")\n",
    "pyplot.xlabel(\"n\")\n",
    "pyplot.show()"
   ]
  },
  {
   "cell_type": "markdown",
   "id": "21ece93f-7e9a-4c06-866e-5773f155ccb7",
   "metadata": {},
   "source": [
    "So although we can't technically say that appending to a list is $O(1)$, we can say that appending $n$ values to a list is $O(n)$."
   ]
  },
  {
   "cell_type": "code",
   "execution_count": null,
   "id": "d3d44da9-1169-45d7-9478-fc9c749d97c2",
   "metadata": {},
   "outputs": [],
   "source": []
  }
 ],
 "metadata": {
  "kernelspec": {
   "display_name": "Python 3",
   "language": "python",
   "name": "python3"
  },
  "language_info": {
   "codemirror_mode": {
    "name": "ipython",
    "version": 3
   },
   "file_extension": ".py",
   "mimetype": "text/x-python",
   "name": "python",
   "nbconvert_exporter": "python",
   "pygments_lexer": "ipython3",
   "version": "3.8.8"
  }
 },
 "nbformat": 4,
 "nbformat_minor": 5
}
