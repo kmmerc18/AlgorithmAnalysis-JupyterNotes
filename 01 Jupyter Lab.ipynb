{
 "cells": [
  {
   "cell_type": "markdown",
   "id": "a5cbeecc-6834-48b1-9454-04ccdb503bc9",
   "metadata": {},
   "source": [
    "# Jupyter Lab"
   ]
  },
  {
   "cell_type": "markdown",
   "id": "3a18825b-9e40-4ee5-80a1-70cedbc6f898",
   "metadata": {},
   "source": [
    "Jupyter notebooks have markdown cells and code cells."
   ]
  },
  {
   "cell_type": "code",
   "execution_count": 1,
   "id": "034954d3-a441-43c6-99a6-e0712f3aaab8",
   "metadata": {},
   "outputs": [],
   "source": [
    "# This function prints the Collatz sequence for n.\n",
    "def collatz(n):\n",
    "    print(n)\n",
    "    \n",
    "    while n > 1:\n",
    "        if n % 2 ==0:\n",
    "            n = n//2\n",
    "        else:\n",
    "            n = 3 * n + 1\n",
    "            \n",
    "        print(n)"
   ]
  },
  {
   "cell_type": "code",
   "execution_count": 2,
   "id": "ac4cd14e-cc9b-43f1-af8f-9bf64dd4dd34",
   "metadata": {},
   "outputs": [
    {
     "name": "stdout",
     "output_type": "stream",
     "text": [
      "5\n",
      "16\n",
      "8\n",
      "4\n",
      "2\n",
      "1\n"
     ]
    }
   ],
   "source": [
    "# Testing\n",
    "collatz(5)"
   ]
  },
  {
   "cell_type": "code",
   "execution_count": 3,
   "id": "c8a19f14-cc7d-4fab-95e3-9b26ee9b7ab0",
   "metadata": {},
   "outputs": [],
   "source": [
    "# This function returns whether x and y are coprime.\n",
    "def coprime(x, y):\n",
    "    if x == 1 or y == 1:\n",
    "        return True\n",
    "    for d in range(2, min(x, y) + 1):\n",
    "        if x%d == 0 and y % d ==0:\n",
    "            return False\n",
    "    return True"
   ]
  },
  {
   "cell_type": "code",
   "execution_count": 4,
   "id": "62f34a8e-9ed4-4a56-b0f2-01edf371c932",
   "metadata": {},
   "outputs": [
    {
     "name": "stdout",
     "output_type": "stream",
     "text": [
      "False\n",
      "True\n"
     ]
    }
   ],
   "source": [
    "# Testing\n",
    "print(coprime(9, 12))\n",
    "print(coprime(9, 14))"
   ]
  },
  {
   "cell_type": "markdown",
   "id": "7c657678-d36a-4552-862b-925489994982",
   "metadata": {},
   "source": [
    "Python has two kinds of arrays:\n",
    "- A **tuple** is an array with fixed length and contents.\n",
    "- A **list** is an array with dynamic length and contents."
   ]
  },
  {
   "cell_type": "code",
   "execution_count": 5,
   "id": "d6ab8694-d7f7-488a-b72c-668d3435e974",
   "metadata": {},
   "outputs": [],
   "source": [
    "# Examples\n",
    "tp = (6, 5, 4, 3, 2, 1)\n",
    "ls = [6,5, 4, 3, 2, 1]"
   ]
  },
  {
   "cell_type": "markdown",
   "id": "05963f05-3e97-4302-bb1d-0f39b84630c4",
   "metadata": {},
   "source": [
    "Many operations work on both tuples and lists."
   ]
  },
  {
   "cell_type": "code",
   "execution_count": 6,
   "id": "e7aafc88-6557-42e8-aac0-cd00b19a9dcf",
   "metadata": {},
   "outputs": [],
   "source": [
    "array = ls"
   ]
  },
  {
   "cell_type": "code",
   "execution_count": 7,
   "id": "dba130e6-30f2-4cc1-b4c0-05a24e9bb70e",
   "metadata": {},
   "outputs": [
    {
     "name": "stdout",
     "output_type": "stream",
     "text": [
      "6 5 4 3 2 1 "
     ]
    }
   ],
   "source": [
    "# Iteration\n",
    "for value in array:\n",
    "    print(value, end=\" \")"
   ]
  },
  {
   "cell_type": "code",
   "execution_count": 8,
   "id": "80f192d7-4c58-4231-9c01-fb03c2ef71b7",
   "metadata": {},
   "outputs": [
    {
     "name": "stdout",
     "output_type": "stream",
     "text": [
      "0 6\n",
      "1 5\n",
      "2 4\n",
      "3 3\n",
      "4 2\n",
      "5 1\n"
     ]
    }
   ],
   "source": [
    "# Indexing\n",
    "for i in range(len(array)):\n",
    "    print(i, array[i])"
   ]
  },
  {
   "cell_type": "code",
   "execution_count": 9,
   "id": "0575f59b-7bde-47cb-bbf3-9f42603012bf",
   "metadata": {},
   "outputs": [
    {
     "name": "stdout",
     "output_type": "stream",
     "text": [
      "[4, 3]\n",
      "[6, 5, 4]\n",
      "[3, 2, 1]\n"
     ]
    }
   ],
   "source": [
    "# Slicing\n",
    "print(array[2:4])\n",
    "print(array[:3])\n",
    "print(array[3:])"
   ]
  },
  {
   "cell_type": "code",
   "execution_count": 10,
   "id": "7c07e844-440f-4a0d-aa43-03212d16be94",
   "metadata": {},
   "outputs": [
    {
     "name": "stdout",
     "output_type": "stream",
     "text": [
      "True\n",
      "False\n"
     ]
    }
   ],
   "source": [
    "# Searching\n",
    "print(1 in array)\n",
    "print(0 in array)"
   ]
  },
  {
   "cell_type": "code",
   "execution_count": 11,
   "id": "46ec5bd9-3b99-405f-ad33-19d492134528",
   "metadata": {},
   "outputs": [
    {
     "name": "stdout",
     "output_type": "stream",
     "text": [
      "[6, 5, 4, 3, 2, 1, 6, 5, 4, 3, 2, 1]\n"
     ]
    }
   ],
   "source": [
    "# Concatenation\n",
    "print(array + array)"
   ]
  },
  {
   "cell_type": "code",
   "execution_count": 12,
   "id": "6b5bf2f2-cf3b-4b4b-9d07-3a5cd0bf7dd6",
   "metadata": {},
   "outputs": [
    {
     "name": "stdout",
     "output_type": "stream",
     "text": [
      "[6, 5, 4, 3, 2, 1, 6, 5, 4, 3, 2, 1, 6, 5, 4, 3, 2, 1]\n"
     ]
    }
   ],
   "source": [
    "# Repetition\n",
    "print(array * 3)"
   ]
  },
  {
   "cell_type": "markdown",
   "id": "e4318872-87ae-48b4-bef4-26f8d90f543c",
   "metadata": {},
   "source": [
    "Operations that change contents are only permitted on lists."
   ]
  },
  {
   "cell_type": "code",
   "execution_count": 13,
   "id": "5ed17ae9-1f25-4b35-8d09-c8732be958e4",
   "metadata": {},
   "outputs": [
    {
     "name": "stdout",
     "output_type": "stream",
     "text": [
      "[6, 5, 4, 3, 2, 1, 7]\n"
     ]
    }
   ],
   "source": [
    "# Appending\n",
    "ls.append(7)\n",
    "print(ls)"
   ]
  },
  {
   "cell_type": "code",
   "execution_count": 14,
   "id": "28dc149d-9904-4ad6-ad1d-3fbd3cc237a3",
   "metadata": {},
   "outputs": [
    {
     "name": "stdout",
     "output_type": "stream",
     "text": [
      "[6, 5, 4, 3, 2, 1, 0]\n"
     ]
    }
   ],
   "source": [
    "# Replacing\n",
    "ls[-1] = 0\n",
    "print(ls)"
   ]
  },
  {
   "cell_type": "markdown",
   "id": "95a42b01-9b36-477e-95f9-ae8c9a9ab4ea",
   "metadata": {},
   "source": [
    "Let's implement a few functions that work with arrays. "
   ]
  },
  {
   "cell_type": "code",
   "execution_count": 3,
   "id": "3b016314-2423-4603-9177-6ee602d9f32c",
   "metadata": {},
   "outputs": [],
   "source": [
    "# This function returns the average of the values in an array.\n",
    "# The algorithm is O(n) where n = len(array).\n",
    "def average(array):\n",
    "    return (sum(array)/len(array))"
   ]
  },
  {
   "cell_type": "code",
   "execution_count": 4,
   "id": "6eb264d4-c921-4954-9936-d185d7165ac3",
   "metadata": {},
   "outputs": [
    {
     "name": "stdout",
     "output_type": "stream",
     "text": [
      "2.5\n"
     ]
    }
   ],
   "source": [
    "# Testing\n",
    "print(average([1, 2, 3, 4]))"
   ]
  },
  {
   "cell_type": "code",
   "execution_count": 26,
   "id": "71b270e0-9f1e-41cf-9860-c87ba1ffb1c5",
   "metadata": {},
   "outputs": [],
   "source": [
    "# This function returns the difference between the largest and smallest values in an array\n",
    "# The algorithm is O(n) where n = len(array).\n",
    "def difference(array):\n",
    "    return max(array) - min(array)"
   ]
  },
  {
   "cell_type": "code",
   "execution_count": 27,
   "id": "a75e1b98-67f1-4de8-a7de-b5397b7b63e9",
   "metadata": {},
   "outputs": [
    {
     "name": "stdout",
     "output_type": "stream",
     "text": [
      "17\n"
     ]
    }
   ],
   "source": [
    "# Testing\n",
    "print(difference([2, 4, 6, 7, 19]))"
   ]
  },
  {
   "cell_type": "code",
   "execution_count": 42,
   "id": "14784806-76e3-4b76-a046-73f263e75969",
   "metadata": {},
   "outputs": [],
   "source": [
    "# This functions returns whether an array contains all unique values (no duplicates).\n",
    "# The algorithm is O(n^2) where n - len(array)\n",
    "def unique(array):\n",
    "    for i in range(0, len(array)):\n",
    "        if array[i] in array[i+1:]:\n",
    "            return False\n",
    "    return True"
   ]
  },
  {
   "cell_type": "code",
   "execution_count": 43,
   "id": "dd1cdab0-f59f-4b2d-8437-d66df28ffa51",
   "metadata": {},
   "outputs": [
    {
     "name": "stdout",
     "output_type": "stream",
     "text": [
      "False\n",
      "True\n"
     ]
    }
   ],
   "source": [
    "# Testing\n",
    "print(unique([8, 4, 5, 8]))\n",
    "print(unique([8, 4, 5, 9, 12]))"
   ]
  },
  {
   "cell_type": "code",
   "execution_count": null,
   "id": "1495e7fc-c6b9-4fcd-9625-d0833bbb7806",
   "metadata": {},
   "outputs": [],
   "source": []
  }
 ],
 "metadata": {
  "kernelspec": {
   "display_name": "Python 3",
   "language": "python",
   "name": "python3"
  },
  "language_info": {
   "codemirror_mode": {
    "name": "ipython",
    "version": 3
   },
   "file_extension": ".py",
   "mimetype": "text/x-python",
   "name": "python",
   "nbconvert_exporter": "python",
   "pygments_lexer": "ipython3",
   "version": "3.8.8"
  }
 },
 "nbformat": 4,
 "nbformat_minor": 5
}
