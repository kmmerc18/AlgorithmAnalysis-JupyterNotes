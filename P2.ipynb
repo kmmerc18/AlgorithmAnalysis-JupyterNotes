{
 "cells": [
  {
   "cell_type": "code",
   "execution_count": 1,
   "id": "0a911b8f-f947-4159-8e14-11db6cd19238",
   "metadata": {},
   "outputs": [],
   "source": [
    "def f4(x, n):\n",
    "    if n == 0:\n",
    "        return 1\n",
    "    elif n == 1:\n",
    "        return x\n",
    "    elif n % 2 == 0:\n",
    "        return f4(x, n//2) ** 2\n",
    "    else:\n",
    "        return x * f4(x, (n-1)//2)**2"
   ]
  },
  {
   "cell_type": "code",
   "execution_count": 2,
   "id": "c8220480-d26f-45c3-b13a-8b122df33196",
   "metadata": {},
   "outputs": [
    {
     "data": {
      "text/plain": [
       "8"
      ]
     },
     "execution_count": 2,
     "metadata": {},
     "output_type": "execute_result"
    }
   ],
   "source": [
    "f4(2,3)"
   ]
  },
  {
   "cell_type": "code",
   "execution_count": 3,
   "id": "d12f75ab-8a46-4f37-874e-b70642a5926c",
   "metadata": {},
   "outputs": [],
   "source": [
    "def f2(x, n):\n",
    "    if n == 0:\n",
    "        return 1\n",
    "    elif n % 2 == 0:\n",
    "        return f2(x, n//2) * f2(x, n//2)\n",
    "    else:\n",
    "        return x * f2(x, (n-1)//2) * f2(x, (n-1)//2)"
   ]
  },
  {
   "cell_type": "code",
   "execution_count": 4,
   "id": "501e256d-0a7d-4db6-bb9f-3942e93d637b",
   "metadata": {},
   "outputs": [],
   "source": [
    "def f3(x, n):\n",
    "    if n == 0:\n",
    "        return 1\n",
    "    elif n == 1:\n",
    "        return x\n",
    "    elif n % 2 == 0:\n",
    "        return f3(x, n//2) * f3(x, n//2)\n",
    "    else:\n",
    "        return x * f3(x, (n-1)//2) * f3(x, (n-1)//2)"
   ]
  },
  {
   "cell_type": "code",
   "execution_count": 5,
   "id": "87880946-12e8-4ab0-91d2-71f786d346fa",
   "metadata": {},
   "outputs": [],
   "source": [
    "# This function times a sorting function on a range of problem sizes.\n",
    "from random import randrange\n",
    "def timer(func, lengths):\n",
    "    times = []\n",
    "    for n in lengths:\n",
    "        val1, val2 = int(n), int(n)\n",
    "        time = %timeit -n1 -r1 -o -q func(val1, val2)\n",
    "        times.append(time.average)\n",
    "    return times"
   ]
  },
  {
   "cell_type": "code",
   "execution_count": 16,
   "id": "2a1de372-023e-4c5b-a8a2-99e771a5e3a9",
   "metadata": {},
   "outputs": [
    {
     "data": {
      "image/png": "[encoded data removed]",
      "text/plain": [
       "<Figure size 432x288 with 1 Axes>"
      ]
     },
     "metadata": {
      "needs_background": "light"
     },
     "output_type": "display_data"
    }
   ],
   "source": [
    "# This code plots some search times.\n",
    "from matplotlib import pyplot\n",
    "from numpy import arange\n",
    "\n",
    "n = arange(1, 1000, 20)\n",
    "\n",
    "pyplot.plot(n, timer(f2, n), label=\"f2\")\n",
    "pyplot.plot(n, timer(f4, n), label=\"f3\")\n",
    "# pyplot.plot(n, timer(f3, n), label=\"f3\")\n",
    "\n",
    "pyplot.ylabel(\"seconds\")\n",
    "pyplot.xlabel(\"n\")\n",
    "pyplot.legend()\n",
    "pyplot.show()"
   ]
  },
  {
   "cell_type": "code",
   "execution_count": null,
   "id": "55129a7b-ac43-4899-ace5-3b4effa8f1f7",
   "metadata": {},
   "outputs": [],
   "source": []
  },
  {
   "cell_type": "code",
   "execution_count": null,
   "id": "6be6a940-e5f8-4131-b1ac-74fa470a47ba",
   "metadata": {},
   "outputs": [],
   "source": []
  }
 ],
 "metadata": {
  "kernelspec": {
   "display_name": "Python 3",
   "language": "python",
   "name": "python3"
  },
  "language_info": {
   "codemirror_mode": {
    "name": "ipython",
    "version": 3
   },
   "file_extension": ".py",
   "mimetype": "text/x-python",
   "name": "python",
   "nbconvert_exporter": "python",
   "pygments_lexer": "ipython3",
   "version": "3.8.8"
  }
 },
 "nbformat": 4,
 "nbformat_minor": 5
}
