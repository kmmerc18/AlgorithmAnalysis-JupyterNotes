{
 "cells": [
  {
   "cell_type": "markdown",
   "id": "29106add-484e-4494-814c-61000f68377c",
   "metadata": {},
   "source": [
    "# Sets & Dictionaries"
   ]
  },
  {
   "cell_type": "markdown",
   "id": "fdd47843-9e0d-4b3a-9f4a-814e60672bea",
   "metadata": {},
   "source": [
    "A **set** is a collection of unique values. (Never includes the same value twice)"
   ]
  },
  {
   "cell_type": "code",
   "execution_count": 1,
   "id": "1d73767c-eb15-405c-8331-3d0fd0917629",
   "metadata": {},
   "outputs": [],
   "source": [
    "s = set()\n",
    "s = {1, 2, 3}"
   ]
  },
  {
   "cell_type": "code",
   "execution_count": 2,
   "id": "19e7322a-698d-461e-85e2-0591db9b50bf",
   "metadata": {},
   "outputs": [
    {
     "name": "stdout",
     "output_type": "stream",
     "text": [
      "{1, 2, 3}\n"
     ]
    }
   ],
   "source": [
    "s.add(3)\n",
    "print(s)"
   ]
  },
  {
   "cell_type": "code",
   "execution_count": 3,
   "id": "f8cfeeed-52ea-4934-93e4-3df4e6313605",
   "metadata": {},
   "outputs": [
    {
     "name": "stdout",
     "output_type": "stream",
     "text": [
      "{1, 2, 3, 4}\n"
     ]
    }
   ],
   "source": [
    "s.add(4)\n",
    "print(s)"
   ]
  },
  {
   "cell_type": "code",
   "execution_count": 4,
   "id": "6f3dd2e9-27d2-42e6-90e9-fba5a848ac9d",
   "metadata": {},
   "outputs": [
    {
     "name": "stdout",
     "output_type": "stream",
     "text": [
      "{1, 2, 3}\n"
     ]
    }
   ],
   "source": [
    "s.remove(4)\n",
    "print(s)"
   ]
  },
  {
   "cell_type": "code",
   "execution_count": 5,
   "id": "7a9e531d-f7fa-4cb1-b0c2-54679189e686",
   "metadata": {},
   "outputs": [
    {
     "name": "stdout",
     "output_type": "stream",
     "text": [
      "True\n",
      "False\n"
     ]
    }
   ],
   "source": [
    "print(3 in s)\n",
    "print(4 in s)"
   ]
  },
  {
   "cell_type": "markdown",
   "id": "7dd59db7-dc8c-40a4-a981-6554e900387b",
   "metadata": {},
   "source": [
    "A **dictionary** is like a set of keys with associated values."
   ]
  },
  {
   "cell_type": "code",
   "execution_count": 6,
   "id": "7d70bae0-3f19-4453-9de5-82a0264d7925",
   "metadata": {},
   "outputs": [],
   "source": [
    "d = dict()\n",
    "d = {1:\"one\", 2:\"two\", 3:\"three\"}"
   ]
  },
  {
   "cell_type": "code",
   "execution_count": 7,
   "id": "b1fb0442-4af9-4ab2-a210-3b0115fe3813",
   "metadata": {},
   "outputs": [
    {
     "name": "stdout",
     "output_type": "stream",
     "text": [
      "{1: 'one', 2: 'two', 3: 'trois'}\n"
     ]
    }
   ],
   "source": [
    "d[3] = \"trois\"\n",
    "print(d)"
   ]
  },
  {
   "cell_type": "code",
   "execution_count": 15,
   "id": "4aaf86e0-8b5b-47db-95d0-866c45165384",
   "metadata": {},
   "outputs": [
    {
     "name": "stdout",
     "output_type": "stream",
     "text": [
      "{1: 'one', 2: 'two', 3: 'trois', 4: 'four'}\n"
     ]
    }
   ],
   "source": [
    "d[4] = \"four\"\n",
    "print(d)"
   ]
  },
  {
   "cell_type": "code",
   "execution_count": 9,
   "id": "28a46701-6dee-4952-8f74-24b4745d19d3",
   "metadata": {},
   "outputs": [
    {
     "name": "stdout",
     "output_type": "stream",
     "text": [
      "{1: 'one', 2: 'two', 3: 'trois'}\n"
     ]
    }
   ],
   "source": [
    "d.pop(4)\n",
    "print(d)"
   ]
  },
  {
   "cell_type": "code",
   "execution_count": 10,
   "id": "7cb57428-41dd-4f90-856d-a6ca7d274b65",
   "metadata": {},
   "outputs": [
    {
     "name": "stdout",
     "output_type": "stream",
     "text": [
      "True\n",
      "False\n"
     ]
    }
   ],
   "source": [
    "print(3 in d)\n",
    "print(4 in d)"
   ]
  },
  {
   "cell_type": "markdown",
   "id": "0a0476c5-37ca-4e7d-b8a2-344e3807fa2e",
   "metadata": {},
   "source": [
    "Searching is fast in this hashmap, but you can only search by keys, not by values."
   ]
  },
  {
   "cell_type": "markdown",
   "id": "fa035379-272b-4798-b271-7e68a27cefeb",
   "metadata": {},
   "source": [
    "Sets and dictionaries are iterable."
   ]
  },
  {
   "cell_type": "code",
   "execution_count": 11,
   "id": "fade2dd0-b584-44f4-9bf0-6dea6268e6b7",
   "metadata": {},
   "outputs": [
    {
     "name": "stdout",
     "output_type": "stream",
     "text": [
      "1\n",
      "2\n",
      "3\n"
     ]
    }
   ],
   "source": [
    "for value in s:\n",
    "    print(value)"
   ]
  },
  {
   "cell_type": "code",
   "execution_count": 12,
   "id": "cdca07fe-6edd-440f-b9e6-b3cb1ace0070",
   "metadata": {},
   "outputs": [
    {
     "name": "stdout",
     "output_type": "stream",
     "text": [
      "1 one\n",
      "2 two\n",
      "3 trois\n"
     ]
    }
   ],
   "source": [
    "for key in d:\n",
    "    value = d[key]\n",
    "    print(key, value)"
   ]
  },
  {
   "cell_type": "markdown",
   "id": "3149be04-0b92-4e9a-8b63-019ae8904a75",
   "metadata": {},
   "source": [
    "Sets and dictionaries are implemented with has tables, so we can expect their operations to be $O(1)$ on average."
   ]
  },
  {
   "cell_type": "code",
   "execution_count": 13,
   "id": "3d4df560-96e6-4cd8-9e9a-cc2ff96a7345",
   "metadata": {},
   "outputs": [],
   "source": [
    "s = {(1,2), (3,4)}"
   ]
  },
  {
   "cell_type": "code",
   "execution_count": 14,
   "id": "98e35428-b414-421b-9850-90f6341ea8f4",
   "metadata": {},
   "outputs": [
    {
     "ename": "TypeError",
     "evalue": "unhashable type: 'list'",
     "output_type": "error",
     "traceback": [
      "\u001b[0;31m---------------------------------------------------------------------------\u001b[0m",
      "\u001b[0;31mTypeError\u001b[0m                                 Traceback (most recent call last)",
      "\u001b[0;32m<ipython-input-14-6e800a4e7b60>\u001b[0m in \u001b[0;36m<module>\u001b[0;34m\u001b[0m\n\u001b[0;32m----> 1\u001b[0;31m \u001b[0ms\u001b[0m \u001b[0;34m=\u001b[0m \u001b[0;34m{\u001b[0m\u001b[0;34m[\u001b[0m\u001b[0;36m1\u001b[0m\u001b[0;34m,\u001b[0m\u001b[0;36m2\u001b[0m\u001b[0;34m]\u001b[0m\u001b[0;34m,\u001b[0m \u001b[0;34m[\u001b[0m\u001b[0;36m3\u001b[0m\u001b[0;34m,\u001b[0m\u001b[0;36m4\u001b[0m\u001b[0;34m]\u001b[0m\u001b[0;34m}\u001b[0m\u001b[0;34m\u001b[0m\u001b[0;34m\u001b[0m\u001b[0m\n\u001b[0m",
      "\u001b[0;31mTypeError\u001b[0m: unhashable type: 'list'"
     ]
    }
   ],
   "source": [
    "s = {[1,2], [3,4]}"
   ]
  },
  {
   "cell_type": "markdown",
   "id": "2e59f4ec-cdfc-4344-9fc8-78aaf2c49d69",
   "metadata": {},
   "source": [
    "Only immutable objects (like tuples, strings, or numbers) may be hashed."
   ]
  },
  {
   "cell_type": "code",
   "execution_count": null,
   "id": "17b81300-ad49-4767-9426-e1820e22be27",
   "metadata": {},
   "outputs": [],
   "source": []
  }
 ],
 "metadata": {
  "kernelspec": {
   "display_name": "Python 3",
   "language": "python",
   "name": "python3"
  },
  "language_info": {
   "codemirror_mode": {
    "name": "ipython",
    "version": 3
   },
   "file_extension": ".py",
   "mimetype": "text/x-python",
   "name": "python",
   "nbconvert_exporter": "python",
   "pygments_lexer": "ipython3",
   "version": "3.8.8"
  }
 },
 "nbformat": 4,
 "nbformat_minor": 5
}
