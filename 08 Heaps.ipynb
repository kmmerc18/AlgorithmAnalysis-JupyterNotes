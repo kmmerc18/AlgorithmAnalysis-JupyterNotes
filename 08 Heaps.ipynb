{
 "cells": [
  {
   "cell_type": "markdown",
   "id": "f2d0be7c-ae7f-45d8-b43a-8b0d0fc178bd",
   "metadata": {},
   "source": [
    "# Heaps"
   ]
  },
  {
   "cell_type": "markdown",
   "id": "ce2ef8a2-e224-4604-b8ae-5c6b56ac7a21",
   "metadata": {},
   "source": [
    "We can use a list as a min-heap by importing some heap operations, which are $O(\\log n)$ on a list of length $n$."
   ]
  },
  {
   "cell_type": "code",
   "execution_count": 1,
   "id": "3de42a59-eace-42e7-bdc5-0bebc6d79e63",
   "metadata": {},
   "outputs": [],
   "source": [
    "from heapq import heappush, heappop"
   ]
  },
  {
   "cell_type": "code",
   "execution_count": 2,
   "id": "34ca3274-407c-4c74-b9a3-c3bc2d7b8098",
   "metadata": {},
   "outputs": [],
   "source": [
    "h = [1, 4, 3, 6, 5, 7]"
   ]
  },
  {
   "cell_type": "code",
   "execution_count": 3,
   "id": "62b60091-465f-4585-bcdf-c614bd95a07e",
   "metadata": {},
   "outputs": [
    {
     "name": "stdout",
     "output_type": "stream",
     "text": [
      "[1, 4, 2, 6, 5, 7, 3]\n"
     ]
    }
   ],
   "source": [
    "heappush(h, 2)\n",
    "print(h)"
   ]
  },
  {
   "cell_type": "code",
   "execution_count": 4,
   "id": "ec4b6cf5-0915-4442-8378-79bb9565a48b",
   "metadata": {},
   "outputs": [
    {
     "name": "stdout",
     "output_type": "stream",
     "text": [
      "[2, 4, 3, 6, 5, 7]\n"
     ]
    }
   ],
   "source": [
    "heappop(h)\n",
    "print(h)"
   ]
  },
  {
   "cell_type": "markdown",
   "id": "1f938cd6-b102-430c-b55a-c4fa0490a60b",
   "metadata": {},
   "source": [
    "Note that tuples have a natural ordering based on element-wise comparisons."
   ]
  },
  {
   "cell_type": "code",
   "execution_count": 5,
   "id": "3a7de7b7-b708-4682-ac5d-293f66c5c74e",
   "metadata": {},
   "outputs": [
    {
     "name": "stdout",
     "output_type": "stream",
     "text": [
      "[(1, 1), (1, 2), (2, 1), (2, 2)]\n"
     ]
    }
   ],
   "source": [
    "tuples = [(2,2), (2,1), (1,2), (1,1)]\n",
    "tuples.sort()\n",
    "print(tuples)"
   ]
  },
  {
   "cell_type": "markdown",
   "id": "a35b8af2-4135-46d6-b255-0d5f985ee03a",
   "metadata": {},
   "source": [
    "So by putting tuples onto a heap, we can use it as a priority queue."
   ]
  },
  {
   "cell_type": "code",
   "execution_count": 6,
   "id": "743b4ed6-6352-410e-8f36-5a46ab934a0c",
   "metadata": {},
   "outputs": [
    {
     "name": "stdout",
     "output_type": "stream",
     "text": [
      "[(0, '3'), (2, '2'), (1, '6')]\n"
     ]
    }
   ],
   "source": [
    "pq = []\n",
    "heappush(pq, (1, \"6\"))\n",
    "heappush(pq, (2, \"2\"))\n",
    "heappush(pq, (0, \"3\"))\n",
    "print(pq)"
   ]
  },
  {
   "cell_type": "code",
   "execution_count": 7,
   "id": "eeea87f6-f557-4e58-9267-bcf05fac3c37",
   "metadata": {},
   "outputs": [
    {
     "name": "stdout",
     "output_type": "stream",
     "text": [
      "(0, '3')\n",
      "(1, '6')\n",
      "(2, '2')\n"
     ]
    }
   ],
   "source": [
    "while len(pq) > 0:\n",
    "    print(heappop(pq))"
   ]
  },
  {
   "cell_type": "markdown",
   "id": "7a97b667-93c8-4fed-a8aa-ee8689bb7ec1",
   "metadata": {},
   "source": [
    "Another nice application of heaps is the **heap sort** algorithm."
   ]
  },
  {
   "cell_type": "code",
   "execution_count": 8,
   "id": "e133b7ea-de26-463a-8738-b2def934de22",
   "metadata": {},
   "outputs": [],
   "source": [
    "# This function sorts an array.\n",
    "# The algorithm is O(n log n) where n = len(array).\n",
    "def heap_sort(array):\n",
    "    heap = []\n",
    "    for item in array:\n",
    "        heappush(heap, item)\n",
    "    for i in range(len(array)):\n",
    "        array[i] = heappop(heap)"
   ]
  },
  {
   "cell_type": "code",
   "execution_count": 9,
   "id": "dc46e6f9-ab91-4af1-bd58-fc19a37c6f90",
   "metadata": {},
   "outputs": [
    {
     "name": "stdout",
     "output_type": "stream",
     "text": [
      "[1, 3, 7, 8, 10, 30]\n",
      "1\n",
      "3\n",
      "7\n",
      "8\n",
      "10\n",
      "30\n"
     ]
    }
   ],
   "source": [
    "# Testing\n",
    "array = [10, 30, 1, 3, 8, 7]\n",
    "heap_sort(array)\n",
    "print(array)"
   ]
  },
  {
   "cell_type": "markdown",
   "id": "9bfc4d6a-c8fc-47e4-a713-fa16f05225ed",
   "metadata": {},
   "source": [
    "Let's see how heap sort compares"
   ]
  },
  {
   "cell_type": "code",
   "execution_count": 10,
   "id": "dd190b1d-13aa-4a8b-b6a0-0754fe0e7554",
   "metadata": {},
   "outputs": [],
   "source": [
    "# This function times a sorting function on a range of problem sizes.\n",
    "from random import shuffle\n",
    "def timer(sort, lengths):\n",
    "    times = []\n",
    "    for n in lengths:\n",
    "        array = list(range(n))\n",
    "        shuffle(array)\n",
    "        time = %timeit -n1 -r1 -o -q sort(array)\n",
    "        times.append(time.average)\n",
    "    return times"
   ]
  },
  {
   "cell_type": "code",
   "execution_count": 11,
   "id": "475a2961-1347-49d4-a0ed-3d8f3986de79",
   "metadata": {},
   "outputs": [
    {
     "data": {
      "image/png": "[encoded data removed]",
      "text/plain": [
       "<Figure size 432x288 with 1 Axes>"
      ]
     },
     "metadata": {
      "needs_background": "light"
     },
     "output_type": "display_data"
    }
   ],
   "source": [
    "# This code plots some search times.\n",
    "from matplotlib import pyplot\n",
    "from numpy import arange\n",
    "\n",
    "n = arange(1, 100_000, 10_000)\n",
    "\n",
    "pyplot.plot(n, timer(heap_sort, n), label=\"heap_sort\")\n",
    "pyplot.plot(n, timer(sorted, n), label=\"built-in sort\")\n",
    "\n",
    "pyplot.ylabel(\"seconds\")\n",
    "pyplot.xlabel(\"n\")\n",
    "pyplot.legend()\n",
    "pyplot.show()"
   ]
  },
  {
   "cell_type": "markdown",
   "id": "7ae3f237-8d68-4536-8702-7f1db0630c13",
   "metadata": {},
   "source": [
    "Heap sort is the fastest sorting algorithm we've implemented, but the built-in sort is still the fastest."
   ]
  }
 ],
 "metadata": {
  "kernelspec": {
   "display_name": "Python 3",
   "language": "python",
   "name": "python3"
  },
  "language_info": {
   "codemirror_mode": {
    "name": "ipython",
    "version": 3
   },
   "file_extension": ".py",
   "mimetype": "text/x-python",
   "name": "python",
   "nbconvert_exporter": "python",
   "pygments_lexer": "ipython3",
   "version": "3.8.8"
  }
 },
 "nbformat": 4,
 "nbformat_minor": 5
}
