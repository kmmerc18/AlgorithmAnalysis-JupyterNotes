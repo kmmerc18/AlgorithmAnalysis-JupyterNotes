{
 "cells": [
  {
   "cell_type": "markdown",
   "id": "7966dcbc-0ad8-43a5-9ce2-ae2cb96525aa",
   "metadata": {},
   "source": [
    "# Substrings"
   ]
  },
  {
   "cell_type": "markdown",
   "id": "d32dc59d-9bc2-47fc-a0a8-aa5c008f285d",
   "metadata": {},
   "source": [
    "There are several efficient algorithms for substring search. The Rabin-Karp algorithm is one that makes use of hashing."
   ]
  },
  {
   "cell_type": "code",
   "execution_count": 1,
   "id": "d4fab4d3-660a-4df3-b33e-e25f16097a12",
   "metadata": {},
   "outputs": [],
   "source": [
    "m = 1_000_003\n",
    "alpha = 256"
   ]
  },
  {
   "cell_type": "code",
   "execution_count": 2,
   "id": "2d6bb561-326c-40f1-a050-1ac7d262afaa",
   "metadata": {},
   "outputs": [],
   "source": [
    "# This function computes a hash code for string s.\n",
    "# The algorithm is O(k) where k = len(s)\n",
    "def single_hash(s):\n",
    "    h = 0\n",
    "    for c in s:\n",
    "        h = (alpha * h + ord(c)) % m\n",
    "    return h"
   ]
  },
  {
   "cell_type": "markdown",
   "id": "4c428813-bba0-4a5f-aad0-a82a03b062fc",
   "metadata": {},
   "source": [
    "The clever idea behind this algorithm is to compute hash codes efficiently in a sliding window."
   ]
  },
  {
   "cell_type": "code",
   "execution_count": 3,
   "id": "3950cb37-2106-4239-8c33-c2ec8b933903",
   "metadata": {},
   "outputs": [],
   "source": [
    "# This function generates hash codes each k-length substring of a string s.\n",
    "# Each time it provides the hash code and the start index of the substring.\n",
    "# The first call is O(k), but each subsequent call is O(1).\n",
    "def rolling_hash(s, k):\n",
    "    h = single_hash(s[:k])\n",
    "    yield h, 0\n",
    "    \n",
    "    ak1 = pow(alpha, k-1, m) # efficiently calculates alpha^(k-1) % m\n",
    "    for i in range(k, len(s)): # i is the index of the new character\n",
    "        h = h - ak1 * ord(s[i-k]) # drop the leftmost character\n",
    "        h = (alpha * h + ord(s[i])) % m # pull in the new character\n",
    "        yield h, i - k + 1"
   ]
  },
  {
   "cell_type": "markdown",
   "id": "ca68cd36-0f47-4d6b-a969-bf8fdb30ff51",
   "metadata": {},
   "source": [
    "Then we can compare substrings only when their hash codes match, which should be very rare unless the substrings themselves match."
   ]
  },
  {
   "cell_type": "code",
   "execution_count": 4,
   "id": "611ffe95-cc3c-49d3-b1dc-c13eda8e8fc7",
   "metadata": {},
   "outputs": [],
   "source": [
    "# This function returns whether sub is a substring of s.\n",
    "# The algorithm is O(n+k) in the average case where n = len(s) and k = len(sub).\n",
    "def rabin_karp(sub, s):\n",
    "    sub_code = single_hash(sub)\n",
    "    for code, i in rolling_hash(s, len(sub)):\n",
    "        if code == sub_code and s[i:i+len(sub)] == sub:\n",
    "            return True\n",
    "    return False"
   ]
  },
  {
   "cell_type": "markdown",
   "id": "912fc2ed-8733-4074-92a1-bf9b25a877c2",
   "metadata": {},
   "source": [
    "Let's see if this algorithm really does improve on our previous attempt."
   ]
  },
  {
   "cell_type": "code",
   "execution_count": 5,
   "id": "a817e88e-162a-4757-8ff8-8c28490930df",
   "metadata": {},
   "outputs": [],
   "source": [
    "# This function returns whether sub is a substring of s.\n",
    "# The algorithm is O(nk) where n = len(s) and k = len(sub).\n",
    "# The best case scenario would be more like O(n).\n",
    "def substring(sub, s):\n",
    "    for i in range(len(s) - len(sub) + 1):\n",
    "        found = True\n",
    "        for j in range(len(sub)):\n",
    "            if s[i+j] != sub[j]:\n",
    "                found = False\n",
    "                break\n",
    "        if found:\n",
    "            return True\n",
    "    return False"
   ]
  },
  {
   "cell_type": "code",
   "execution_count": 6,
   "id": "741aad0f-e0ef-4bd8-a1da-5d0795e757c5",
   "metadata": {},
   "outputs": [],
   "source": [
    "# This function just gives a consistent interface for the built-in version.\n",
    "def built_in(sub, s):\n",
    "    return sub in s"
   ]
  },
  {
   "cell_type": "code",
   "execution_count": 7,
   "id": "79b2300b-d1b9-4315-93b9-7c3b714a08ac",
   "metadata": {},
   "outputs": [
    {
     "data": {
      "image/png": "[encoded data removed]",
      "text/plain": [
       "<Figure size 432x288 with 1 Axes>"
      ]
     },
     "metadata": {
      "needs_background": "light"
     },
     "output_type": "display_data"
    }
   ],
   "source": [
    "# This function times a worst-case substring search on a range of problem sizes.\n",
    "from random import randrange\n",
    "def timer(search, lengths):\n",
    "    times = []\n",
    "    for n in lengths:\n",
    "        s = \"a\" * n\n",
    "        sub = \"a\" * (n // 2) + \"b\"\n",
    "        time = %timeit -n1 -r1 -o -q search(sub, s)\n",
    "        times.append(time.average)\n",
    "    return times\n",
    "\n",
    "\n",
    "# This code plots some search times.\n",
    "from matplotlib import pyplot\n",
    "from numpy import arange\n",
    "\n",
    "n = arange(1, 1000, 100)\n",
    "\n",
    "pyplot.plot(n, timer(substring, n), label=\"substring\")\n",
    "pyplot.plot(n, timer(rabin_karp, n), label=\"rabin_karp\")\n",
    "pyplot.plot(n, timer(built_in, n), label=\"in\")\n",
    "\n",
    "pyplot.ylabel(\"seconds\")\n",
    "pyplot.xlabel(\"n\")\n",
    "pyplot.legend()\n",
    "pyplot.show()"
   ]
  },
  {
   "cell_type": "markdown",
   "id": "61043983-0c03-4ed0-9a92-81ecceeb81f8",
   "metadata": {},
   "source": [
    "The built-in algorithm is better optimized, of course, but now we're in the same league."
   ]
  }
 ],
 "metadata": {
  "kernelspec": {
   "display_name": "Python 3",
   "language": "python",
   "name": "python3"
  },
  "language_info": {
   "codemirror_mode": {
    "name": "ipython",
    "version": 3
   },
   "file_extension": ".py",
   "mimetype": "text/x-python",
   "name": "python",
   "nbconvert_exporter": "python",
   "pygments_lexer": "ipython3",
   "version": "3.8.8"
  }
 },
 "nbformat": 4,
 "nbformat_minor": 5
}
