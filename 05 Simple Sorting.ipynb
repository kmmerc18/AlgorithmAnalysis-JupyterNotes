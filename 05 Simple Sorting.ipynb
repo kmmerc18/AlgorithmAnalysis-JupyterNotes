{
 "cells": [
  {
   "cell_type": "markdown",
   "id": "85e71715-42e5-44d8-b95c-4cf8b5b0e513",
   "metadata": {},
   "source": [
    "# Simple Sorting"
   ]
  },
  {
   "cell_type": "markdown",
   "id": "74cf57c3-9110-46d0-92b3-c4fe65f3235a",
   "metadata": {},
   "source": [
    "The **insertion sort** algorithm takes each value in an array and swaps it to the left as long as there is a larger value to the left."
   ]
  },
  {
   "cell_type": "code",
   "execution_count": 1,
   "id": "f600cf12-b145-431e-8ce2-e778be185607",
   "metadata": {},
   "outputs": [],
   "source": [
    "# This function sorts an array.\n",
    "# The algortihm is O(n^2) where n = len(array).\n",
    "def insertion_sort(array):\n",
    "     for i in range(len(array)): # Take each value\n",
    "            j = i # j will be where array[i] belongs\n",
    "            while j > 0 and array[j] < array[j-1]:        \n",
    "                array[j], array[j-1] = array[j-1], array[j]\n",
    "                j = j - 1\n",
    "                "
   ]
  },
  {
   "cell_type": "code",
   "execution_count": 5,
   "id": "38490918-9342-479b-95cd-f43ea2d8b89d",
   "metadata": {},
   "outputs": [],
   "source": [
    "# This function prints something if a sorting function fails.\n",
    "def tester(sort):\n",
    "    array = random_array()\n",
    "    correct = sorted(array)\n",
    "    sort(array)\n",
    "    if array != correct:\n",
    "        print(\"Error sorting\", array, \"with\", sort)"
   ]
  },
  {
   "cell_type": "markdown",
   "id": "a4ed4e8f-3d09-44b4-af15-60aed3633472",
   "metadata": {},
   "source": [
    "The **selection sort** algorithm takes each value in an array and swaps it with the smallest value to the right."
   ]
  },
  {
   "cell_type": "code",
   "execution_count": 15,
   "id": "242d280c-45c4-452a-8325-9bb432863f3f",
   "metadata": {},
   "outputs": [],
   "source": [
    "# This function sorts an array.\n",
    "# The algorithm is O(n^2) where n = len(array).\n",
    "def selection_sort(array):\n",
    "    for i in range(len(array)):\n",
    "        smallest = i\n",
    "        for j in range(i, len(array)):\n",
    "            if array[j] < array[smallest]:\n",
    "                smallest = j\n",
    "        array[i], array[smallest] = array[smallest], array[i]"
   ]
  },
  {
   "cell_type": "markdown",
   "id": "22106ccb-f9e5-44fc-a7ab-c4ec1afb7e4b",
   "metadata": {},
   "source": [
    "Let's do some testing."
   ]
  },
  {
   "cell_type": "code",
   "execution_count": 13,
   "id": "7b526634-63df-4266-9f1a-790be41c9cda",
   "metadata": {},
   "outputs": [],
   "source": [
    "# This function creates and returns a small randomized array.\n",
    "from random import randrange\n",
    "def random_array():\n",
    "    array = []\n",
    "    n = randrange(20)\n",
    "    while len(array) < n:\n",
    "        array.append(randrange(20))\n",
    "    return array"
   ]
  },
  {
   "cell_type": "code",
   "execution_count": 14,
   "id": "170f2a1f-d006-483f-8a5f-3ada5ad831c2",
   "metadata": {},
   "outputs": [],
   "source": [
    "# This code should have no output\n",
    "for test in range(100):\n",
    "    tester(insertion_sort)\n",
    "    tester(selection_sort)"
   ]
  },
  {
   "cell_type": "markdown",
   "id": "41c61cd5-ad47-46af-9b1b-5efd0d6a7ee5",
   "metadata": {},
   "source": [
    "Now let's compare the timing"
   ]
  },
  {
   "cell_type": "code",
   "execution_count": 17,
   "id": "368167f1-2e61-445b-ad74-47d112622e14",
   "metadata": {},
   "outputs": [],
   "source": [
    "# This function times a sorting function on a range of problem sizes.\n",
    "def timer(sort, lengths, reverse=False):\n",
    "    times = []\n",
    "    for n in lengths:\n",
    "        array = list(range(n))\n",
    "        if reverse:\n",
    "            array.reverse()\n",
    "        time = %timeit -n1 -r1 -o -q sort(array)\n",
    "        times.append(time.average)\n",
    "    return times"
   ]
  },
  {
   "cell_type": "code",
   "execution_count": 32,
   "id": "9cb2be87-d129-49c7-9a59-4f36a312c34f",
   "metadata": {},
   "outputs": [
    {
     "data": {
      "image/png": "[encoded data removed]",
      "text/plain": [
       "<Figure size 432x288 with 1 Axes>"
      ]
     },
     "metadata": {
      "needs_background": "light"
     },
     "output_type": "display_data"
    }
   ],
   "source": [
    "# This code plots some search times.\n",
    "from matplotlib import pyplot\n",
    "from numpy import arange\n",
    "\n",
    "n = arange(1, 1000, 100)\n",
    "\n",
    "pyplot.plot(n, timer(insertion_sort, n, True), label=\"insertion_sort (reversed array)\")\n",
    "pyplot.plot(n, timer(selection_sort, n), label=\"selection_sort (reversed array)\")\n",
    "pyplot.plot(n, timer(selection_sort, n, True), label=\"selection_sort (ordered array)\")\n",
    "pyplot.plot(n, timer(insertion_sort, n), label=\"insertion_sort (ordered array)\")\n",
    "\n",
    "pyplot.ylabel(\"seconds\")\n",
    "pyplot.xlabel(\"n\")\n",
    "pyplot.legend()\n",
    "pyplot.show()"
   ]
  },
  {
   "cell_type": "markdown",
   "id": "34091088-d4c5-4554-b5ef-98d6877d89b8",
   "metadata": {},
   "source": [
    "These $O(n^2)$ sorting algorithms have situational strengths.\n",
    "- On mostly unsorted arrays, selection sort has a smaller constant multiplier because it does fewer swaps.\n",
    "- On mostly sorted arrays, insertion sort behaves more like $O(n)$ because it skips most of the inner loop."
   ]
  },
  {
   "cell_type": "code",
   "execution_count": null,
   "id": "f77a9438-801d-4389-8cdb-0fa5e441a26a",
   "metadata": {},
   "outputs": [],
   "source": []
  }
 ],
 "metadata": {
  "kernelspec": {
   "display_name": "Python 3",
   "language": "python",
   "name": "python3"
  },
  "language_info": {
   "codemirror_mode": {
    "name": "ipython",
    "version": 3
   },
   "file_extension": ".py",
   "mimetype": "text/x-python",
   "name": "python",
   "nbconvert_exporter": "python",
   "pygments_lexer": "ipython3",
   "version": "3.8.8"
  }
 },
 "nbformat": 4,
 "nbformat_minor": 5
}
