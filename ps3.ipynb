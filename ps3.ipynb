{
 "cells": [
  {
   "cell_type": "markdown",
   "id": "c0384f9b",
   "metadata": {
    "tags": []
   },
   "source": [
    "# Problem Set 3: Data Structures\n",
    "Kim Merchant"
   ]
  },
  {
   "cell_type": "markdown",
   "id": "887b8520",
   "metadata": {},
   "source": [
    "Fill in the missing code and explanations below. Note that in each of these exercises, the key is choosing the right data structure."
   ]
  },
  {
   "cell_type": "markdown",
   "id": "c1590071",
   "metadata": {},
   "source": [
    "### 1) Unique"
   ]
  },
  {
   "cell_type": "code",
   "execution_count": 1,
   "id": "d192f228",
   "metadata": {},
   "outputs": [],
   "source": [
    "# This function returns whether an array of length n contains all unique values (no duplicates).\n",
    "# We've implemented this a few times before, but now we're going for maximum efficiency.\n",
    "def best_unique(array):\n",
    "    if(len(set(array)) != len(array)):\n",
    "        return False\n",
    "    return True"
   ]
  },
  {
   "cell_type": "code",
   "execution_count": 2,
   "id": "229f5d62",
   "metadata": {},
   "outputs": [
    {
     "name": "stdout",
     "output_type": "stream",
     "text": [
      "True\n",
      "False\n"
     ]
    }
   ],
   "source": [
    "# Testing\n",
    "print(best_unique([1, 2, 3, 4, 5]))\n",
    "print(best_unique([1, 2, 3, 4, 3]))"
   ]
  },
  {
   "cell_type": "markdown",
   "id": "927f39bf",
   "metadata": {},
   "source": [
    "The running time of `best_unique` is $O(n)$ because each value is copied into the set, so $n$ comparisons are performed, then a constant amount of work is done to get the length of the set and compare it to the length of the list. Because this is a lower order operation than copying values into a set, the $O(1)$ is ignored, leaving just the $O(n)$."
   ]
  },
  {
   "cell_type": "markdown",
   "id": "46299332",
   "metadata": {},
   "source": [
    "### 2) Mode"
   ]
  },
  {
   "cell_type": "code",
   "execution_count": 3,
   "id": "6e89d92b",
   "metadata": {},
   "outputs": [],
   "source": [
    "# This function returns any of the values that appears most frequently in an array of length n.\n",
    "def mode(array):\n",
    "    dictionary = dict()\n",
    "    value = array[0]\n",
    "    maxCount = 0\n",
    "    for i in array:\n",
    "        if i in dictionary:\n",
    "            dictionary[i] += 1\n",
    "        else:\n",
    "            dictionary[i] = 1\n",
    "        if dictionary[i] > maxCount:\n",
    "            value = i\n",
    "            maxCount = dictionary[i]\n",
    "    return value"
   ]
  },
  {
   "cell_type": "code",
   "execution_count": 4,
   "id": "4c26cccb",
   "metadata": {},
   "outputs": [
    {
     "name": "stdout",
     "output_type": "stream",
     "text": [
      "1\n"
     ]
    }
   ],
   "source": [
    "# Testing\n",
    "print(mode([1, 2, 3, 1, 2, 1]))"
   ]
  },
  {
   "cell_type": "markdown",
   "id": "c4b19e03",
   "metadata": {},
   "source": [
    "The running time of `mode` is $O(n)$ because all the methods used are constant time, except for the outer `for` loop. The `for` loop assess each value in the array and maps it (as a key) to a location in the initially empty dictionary. A constant-time comparison is performed, and if the key is already in the dictionary, then the value at that location is incremented (once for each time the array contains the same value). If the key is not yet in the dictionary, a constant-time operation adds the key to the dictionary. A constant-time comparison is made between the variable tracking the maximum value in the dictionary, and the value at the newly assessed key. Because every action within the $for$ loop is constant time, the running time of the overall function is $O(n)$ because the `for` loop touches every value in the array."
   ]
  },
  {
   "cell_type": "markdown",
   "id": "29899558",
   "metadata": {},
   "source": [
    "### 3) Safest"
   ]
  },
  {
   "cell_type": "code",
   "execution_count": 5,
   "id": "f56d98b0",
   "metadata": {},
   "outputs": [],
   "source": [
    "# This function returns the safest position in a circle where the positions are numbered from 0 to n-1.\n",
    "# The safest position is the last one removed if we go around removing every kth remaining position.\n",
    "# Set verbose=True to see the positions remaining after each step.\n",
    "def safest(n, k, verbose):\n",
    "    array = list(range(n))\n",
    "    i = 0\n",
    "    while len(array) > 1:\n",
    "        if verbose: print(array) # Ignore this line in running time analysis\n",
    "        i = (i + k) % len(array)\n",
    "        array.pop(i)\n",
    "    return array.pop()"
   ]
  },
  {
   "cell_type": "code",
   "execution_count": 6,
   "id": "e4dbbf25",
   "metadata": {},
   "outputs": [
    {
     "name": "stdout",
     "output_type": "stream",
     "text": [
      "[0, 1, 2, 3, 4, 5]\n",
      "[0, 1, 2, 4, 5]\n",
      "[0, 2, 4, 5]\n",
      "[2, 4, 5]\n",
      "[4, 5]\n",
      "4\n"
     ]
    }
   ],
   "source": [
    "# Testing\n",
    "print(safest(6, 3, True))"
   ]
  },
  {
   "cell_type": "markdown",
   "id": "dcc7ec09",
   "metadata": {},
   "source": [
    "The running time of `safest` is $O(n^2)$ because creating the array is $O(n)$, and the `while` loop runs $n-1$ times. Within the loop, `array.pop(i)` runs in $O(n)$ time when it pops a point from the middle of an array. Every other method within the loop runs in constant time, so the running time of `safest` is $O(n) + O((n-1)(n)$ which simplifies to $O(n^2)$."
   ]
  },
  {
   "cell_type": "code",
   "execution_count": 7,
   "id": "af61e792",
   "metadata": {},
   "outputs": [],
   "source": [
    "# This is a better version of the safest function, assuming that n is larger than k.\n",
    "from collections import deque\n",
    "def better_safest(n, k, verbose):\n",
    "    circle = deque()\n",
    "    \n",
    "    # fill the deque with values\n",
    "    for i in range(n):\n",
    "        circle.append(i)\n",
    "        \n",
    "    # continue until the final value\n",
    "    while len(circle) > 1:\n",
    "        if verbose: print(circle) # Ignore this line in running time analysis\n",
    "            \n",
    "        # pick the correct index to remove\n",
    "        i = k % len(circle)\n",
    "        \n",
    "        # remove the value at that index from the correct side\n",
    "        if k > len(circle)/2:\n",
    "            for l in range(len(circle) - i - 1):\n",
    "                # rotate anything to the right of the value over to the left\n",
    "                circle.appendleft(circle.pop())\n",
    "                \n",
    "            # pop the value at the desired index\n",
    "            circle.pop()\n",
    "        else:\n",
    "            for l in range(i):\n",
    "                # rotate anything to the left of the value over to the right\n",
    "                circle.append(circle.popleft())\n",
    "                \n",
    "            # pop the value at the desired index\n",
    "            circle.popleft()\n",
    "            \n",
    "    return circle.pop()"
   ]
  },
  {
   "cell_type": "code",
   "execution_count": 8,
   "id": "f77ebc31",
   "metadata": {},
   "outputs": [
    {
     "name": "stdout",
     "output_type": "stream",
     "text": [
      "deque([0, 1, 2, 3, 4, 5])\n",
      "deque([4, 5, 0, 1, 2])\n",
      "deque([2, 4, 5, 0])\n",
      "deque([2, 4, 5])\n",
      "deque([4, 5])\n",
      "4\n"
     ]
    }
   ],
   "source": [
    "# Testing\n",
    "print(better_safest(6, 3, True))"
   ]
  },
  {
   "cell_type": "markdown",
   "id": "98c6f36e",
   "metadata": {},
   "source": [
    "The running time of `better_safest` is *(your O-notation here)* because the `for` loop adding values to the deque runs $n$ times. The `while` loop runs $n-1$ times. Inside the loops, there are a number of constant time operations, as well as two internal `for` loops (only one of which will run any given iteration of the `for` loop). This while loop runs up to, but never greater than, $k$ times. The `append` and `pop` methods called are all $O(1)$ for deques, which means the overall time complexity is $O(n) + O((n-1)(k)) = O(nk)$. If $k = n$, then this function has the same $O(n^2)$ complexity of the previous version, but in any situation where $k < n$, it should be dramatically faster."
   ]
  },
  {
   "cell_type": "markdown",
   "id": "49e72c91",
   "metadata": {},
   "source": [
    "### 4) Kth largest"
   ]
  },
  {
   "cell_type": "code",
   "execution_count": 9,
   "id": "35c0a33d",
   "metadata": {},
   "outputs": [],
   "source": [
    "from random import random, seed"
   ]
  },
  {
   "cell_type": "code",
   "execution_count": 10,
   "id": "0b802c66",
   "metadata": {},
   "outputs": [],
   "source": [
    "# This function generates n random numbers and returns the kth largest.\n",
    "# Set verbose=True to see all the numbers generated after each step.\n",
    "def kth_largest(n, k, verbose):\n",
    "    numbers = []\n",
    "    for i in range(n):\n",
    "        numbers.append(random())\n",
    "        numbers.sort()\n",
    "        if verbose: print(numbers) # Ignore this line in running time analysis\n",
    "    return numbers[-k]"
   ]
  },
  {
   "cell_type": "code",
   "execution_count": 11,
   "id": "b8e22c44",
   "metadata": {},
   "outputs": [
    {
     "name": "stdout",
     "output_type": "stream",
     "text": [
      "[0.7672783655554571]\n",
      "[0.5245630630920726, 0.7672783655554571]\n",
      "[0.5245630630920726, 0.6098690622930321, 0.7672783655554571]\n",
      "[0.3645116457680122, 0.5245630630920726, 0.6098690622930321, 0.7672783655554571]\n",
      "[0.2438041084012077, 0.3645116457680122, 0.5245630630920726, 0.6098690622930321, 0.7672783655554571]\n",
      "[0.2438041084012077, 0.3645116457680122, 0.5245630630920726, 0.6098690622930321, 0.6534687605403657, 0.7672783655554571]\n",
      "0.6098690622930321\n"
     ]
    }
   ],
   "source": [
    "# Testing\n",
    "seed(362) # Gives you the same sequence of random numbers each time\n",
    "print(kth_largest(6, 3, True))"
   ]
  },
  {
   "cell_type": "markdown",
   "id": "4942f34f",
   "metadata": {},
   "source": [
    "The running time of `kth_largest` is $O(n^2\\log n)$ because the `for` loop runs $n$ times. The `append` within the loop runs in constant time, and the `sort`, which is the built-in $Timsort$, runs in $O(n\\log n)$. Thus the runnning time is $O(n) * O(n\\log n)$ = $O(n^2\\log n)$."
   ]
  },
  {
   "cell_type": "code",
   "execution_count": 12,
   "id": "c6067c8b",
   "metadata": {},
   "outputs": [],
   "source": [
    "# This is a better version of the kth_largest function.\n",
    "from heapq import heappush, heappop\n",
    "import heapq\n",
    "def better_kth_largest(n, k, verbose):\n",
    "    heap = []\n",
    "    \n",
    "    # add the first k values to the heap\n",
    "    for i in range(k):\n",
    "        heappush(heap, random())\n",
    "        if verbose: print(heap)\n",
    "    heapq.heapify(heap)\n",
    "    \n",
    "    for i in range(k, n):\n",
    "        # update the heap if the new value belongs in it\n",
    "        heapq.heapreplace(heap, random())\n",
    "    \n",
    "    # the root of the heap is the kth-largest\n",
    "    return heap[0]"
   ]
  },
  {
   "cell_type": "code",
   "execution_count": 13,
   "id": "2655263f",
   "metadata": {},
   "outputs": [
    {
     "name": "stdout",
     "output_type": "stream",
     "text": [
      "[0.7672783655554571]\n",
      "[0.5245630630920726, 0.7672783655554571]\n",
      "[0.5245630630920726, 0.7672783655554571, 0.6098690622930321]\n",
      "0.6098690622930321\n"
     ]
    }
   ],
   "source": [
    "# Testing\n",
    "seed(362) # Gives you the same sequence as above\n",
    "print(better_kth_largest(6, 3, True))"
   ]
  },
  {
   "cell_type": "markdown",
   "id": "dc6e9111",
   "metadata": {},
   "source": [
    "The running time of `better_kth_largest` is $O(k\\log n)$ because the `for` loop runs $k$ times to add the first k items to the array. `heappush` within that loop runs in $O(\\log k)$ time. The `heapify` method outside the loop runs in $O(\\log k)$ time. The next loop runs $n-k$ times, and the `heapreplace` performs a comparison between the root and the new value passsed in, pushing the larger value and returning the smaller. This should take $O(\\log k)$ time because it is a constant time for comparison, and $\\log k$ for push and pop in a heap of size $k$. As a result, this function takes $O(k * \\log k) + O(\\log k) + O(n-k)(\\log k)$ which simplifies to $$O((n-k+k) \\log k) = O(n\\log k)$$ The worst case scenario, where $k=n$, this is $O(n\\log n)$ which is still far improved from $O(n^2\\log n)$."
   ]
  }
 ],
 "metadata": {
  "kernelspec": {
   "display_name": "Python 3",
   "language": "python",
   "name": "python3"
  },
  "language_info": {
   "codemirror_mode": {
    "name": "ipython",
    "version": 3
   },
   "file_extension": ".py",
   "mimetype": "text/x-python",
   "name": "python",
   "nbconvert_exporter": "python",
   "pygments_lexer": "ipython3",
   "version": "3.8.8"
  }
 },
 "nbformat": 4,
 "nbformat_minor": 5
}
