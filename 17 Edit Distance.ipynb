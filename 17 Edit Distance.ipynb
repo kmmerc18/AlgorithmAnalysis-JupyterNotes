{
 "cells": [
  {
   "cell_type": "markdown",
   "id": "427a3c74-4266-424b-ab30-9efc1394baab",
   "metadata": {},
   "source": [
    "# Edit Distance"
   ]
  },
  {
   "cell_type": "markdown",
   "id": "a8c04f06-7ee7-4eca-b7e3-5bc4009c0123",
   "metadata": {},
   "source": [
    "In this problem we want to find the edit distance between two strings, where edits are character swaps and gaps."
   ]
  },
  {
   "cell_type": "code",
   "execution_count": 2,
   "id": "ae949024-48be-408a-a79e-9f69a15a6b02",
   "metadata": {},
   "outputs": [
    {
     "name": "stdout",
     "output_type": "stream",
     "text": [
      "hab-its\n",
      "hobbit-\n"
     ]
    }
   ],
   "source": [
    "# It takes 3 edits to change \"habits\" to \"hobbit\"\n",
    "print(\"hab-its\")\n",
    "print(\"hobbit-\")"
   ]
  },
  {
   "cell_type": "code",
   "execution_count": 7,
   "id": "83e4f321-5316-422c-9005-740f4d8ec589",
   "metadata": {},
   "outputs": [],
   "source": [
    "# This function returns the edit distance between two strings.\n",
    "# It considers all possible alignments, which takes exponential time.\n",
    "def combinatorial_distance(s, t):\n",
    "    # base case\n",
    "    if len(s) == 0:\n",
    "        return len(t)\n",
    "    if len(t) == 0:\n",
    "        return len(s)\n",
    "    \n",
    "    # possibilities: s->t, delete s, or add t\n",
    "    \n",
    "    # Cost of aligning the last two characters\n",
    "    if s[-1] == t[-1]:\n",
    "        match_cost = 0\n",
    "    else:\n",
    "        match_cost = 1\n",
    "        \n",
    "    # Three possible solutions based on alignment of the last two characters\n",
    "    dist_using_both = match_cost + combinatorial_distance(s[:-1], t[:-1])\n",
    "    dist_using_s = 1 + combinatorial_distance(s[:-1], t)\n",
    "    dist_using_t = 1 + combinatorial_distance(s, t[:-1])\n",
    "    \n",
    "    return min(dist_using_both, dist_using_s, dist_using_t)"
   ]
  },
  {
   "cell_type": "code",
   "execution_count": 9,
   "id": "e75c2bd5-d5e3-475a-b20c-6a846172788f",
   "metadata": {},
   "outputs": [
    {
     "name": "stdout",
     "output_type": "stream",
     "text": [
      "3\n"
     ]
    }
   ],
   "source": [
    "print(combinatorial_distance(\"habits\", \"hobbit\"))"
   ]
  },
  {
   "cell_type": "code",
   "execution_count": 16,
   "id": "89b52706-4f61-46f2-9f12-aa69a5fec87c",
   "metadata": {},
   "outputs": [],
   "source": [
    "# This function returns the edit distance between two strings.\n",
    "# The algorithm is O(nk) where n = len(s) and k = len(t).\n",
    "def dynamic_distance(s, t):\n",
    "    sub = dict()\n",
    "    \n",
    "     # making the dictionary a 2D array and putting in base cases\n",
    "    for i in range(len(s) + 1): # last problem is s[:len(s)]\n",
    "        sub[i, 0] = i\n",
    "    for j in range(len(t) + 1):\n",
    "        sub[0, j] = j\n",
    "    \n",
    "    # Subproblems: sub[i, j] will be the edit distance of s[:i] and t[:j]\n",
    "    for i in range(1, len(s) + 1):\n",
    "        for j in range(1, len(t) + 1):\n",
    "            \n",
    "            # Cost of aligning the last two characters\n",
    "            if s[i-1] == t[j-1]:\n",
    "                match_cost = 0\n",
    "            else:\n",
    "                match_cost = 1\n",
    "\n",
    "            # rather than recursion like in the combinatorial, use the dictionary\n",
    "            # Three possible solutions based on alignment of the last two characters\n",
    "            dist_using_both = match_cost + sub[i-1, j-1]\n",
    "            dist_using_s = 1 + sub[i-1, j]\n",
    "            dist_using_t = 1 + sub[i, j-1]\n",
    "    \n",
    "            sub[i, j] =  min(dist_using_both, dist_using_s, dist_using_t)\n",
    "        \n",
    "    # The overall solution is just the last subproblem solution.\n",
    "    return sub[len(s), len(t)]"
   ]
  },
  {
   "cell_type": "code",
   "execution_count": 17,
   "id": "a19a0426-ce47-4683-b765-d15c87bb1b87",
   "metadata": {},
   "outputs": [
    {
     "name": "stdout",
     "output_type": "stream",
     "text": [
      "3\n"
     ]
    }
   ],
   "source": [
    "# Testing\n",
    "print(dynamic_distance(\"habits\", \"hobbit\"))"
   ]
  }
 ],
 "metadata": {
  "kernelspec": {
   "display_name": "Python 3",
   "language": "python",
   "name": "python3"
  },
  "language_info": {
   "codemirror_mode": {
    "name": "ipython",
    "version": 3
   },
   "file_extension": ".py",
   "mimetype": "text/x-python",
   "name": "python",
   "nbconvert_exporter": "python",
   "pygments_lexer": "ipython3",
   "version": "3.8.8"
  }
 },
 "nbformat": 4,
 "nbformat_minor": 5
}
