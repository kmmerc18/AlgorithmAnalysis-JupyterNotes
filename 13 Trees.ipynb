{
 "cells": [
  {
   "cell_type": "markdown",
   "id": "60c7b98b-f04a-4f14-a46a-8fffcd73d744",
   "metadata": {},
   "source": [
    "# Trees"
   ]
  },
  {
   "cell_type": "markdown",
   "id": "614e8900-59f0-4c27-b82b-7777deba66b5",
   "metadata": {},
   "source": [
    "If we want a data structure for an actual tree, we need to define a class"
   ]
  },
  {
   "cell_type": "code",
   "execution_count": 1,
   "id": "eaf0fa59-4650-4b63-8b98-15d06b08de24",
   "metadata": {},
   "outputs": [],
   "source": [
    "class Tree(object): # equivalent of \"extends object\"\n",
    "    def __init__(self, data, left, right): # \"init\" is the initializer (constructor)\n",
    "        self.data = data\n",
    "        self.left = left\n",
    "        self.right = right"
   ]
  },
  {
   "cell_type": "markdown",
   "id": "903df862-9ed5-4959-a6d9-3df8a0b7bbe3",
   "metadata": {},
   "source": [
    "Then we can create tree objects and link them up."
   ]
  },
  {
   "cell_type": "code",
   "execution_count": 2,
   "id": "0bde9fd5-bdab-4444-9ca6-b77b3a830b96",
   "metadata": {},
   "outputs": [],
   "source": [
    "t2 = Tree(2, Tree(1, None, None), Tree(3, None, None))\n",
    "t6 = Tree(6, Tree(5, None, None), Tree(7, None, None))\n",
    "t4 = Tree(4, t2, t6)"
   ]
  },
  {
   "cell_type": "markdown",
   "id": "d9aaae1d-d4a4-4b2c-ae4a-de8d54f16d96",
   "metadata": {},
   "source": [
    "Then we can define functions to operate on trees."
   ]
  },
  {
   "cell_type": "code",
   "execution_count": 7,
   "id": "7d0bf4dd-8a8b-4abb-90cd-76bd21873e18",
   "metadata": {},
   "outputs": [],
   "source": [
    "# This function returns whether a value can be found in a binary search tree.\n",
    "def search(value, tree):\n",
    "    if tree == None:\n",
    "        return False\n",
    "    elif value == tree.data:\n",
    "        return True\n",
    "    elif value > tree.data:\n",
    "        search(value, tree.right)\n",
    "    else:\n",
    "        search(value, tree.left)\n",
    "    return True"
   ]
  },
  {
   "cell_type": "code",
   "execution_count": 8,
   "id": "e8b39d23-2581-435b-ac64-f8273c1385b5",
   "metadata": {},
   "outputs": [
    {
     "name": "stdout",
     "output_type": "stream",
     "text": [
      "0 True\n",
      "1 True\n",
      "2 True\n",
      "3 True\n",
      "4 True\n",
      "5 True\n",
      "6 True\n",
      "7 True\n",
      "8 True\n"
     ]
    }
   ],
   "source": [
    "for i in range(9):\n",
    "    print(i, search(i, t4))"
   ]
  },
  {
   "cell_type": "code",
   "execution_count": null,
   "id": "82401aee-ca36-4890-ba58-de9968132194",
   "metadata": {},
   "outputs": [],
   "source": []
  }
 ],
 "metadata": {
  "kernelspec": {
   "display_name": "Python 3",
   "language": "python",
   "name": "python3"
  },
  "language_info": {
   "codemirror_mode": {
    "name": "ipython",
    "version": 3
   },
   "file_extension": ".py",
   "mimetype": "text/x-python",
   "name": "python",
   "nbconvert_exporter": "python",
   "pygments_lexer": "ipython3",
   "version": "3.8.8"
  }
 },
 "nbformat": 4,
 "nbformat_minor": 5
}
