{
 "cells": [
  {
   "cell_type": "markdown",
   "id": "1c6af474-4bd9-43de-a9f4-2546072eb4bb",
   "metadata": {},
   "source": [
    "# Components"
   ]
  },
  {
   "cell_type": "markdown",
   "id": "531ba4aa-6087-465e-ae5b-2a3af00bc291",
   "metadata": {},
   "source": [
    "A **component** is like an island of vertices."
   ]
  },
  {
   "cell_type": "markdown",
   "id": "001894e0-525e-4a91-b77f-b50122d6d96a",
   "metadata": {},
   "source": [
    "<img src=\"https://myslu.stlawu.edu/~ltorrey/algorithms/g2.png\">"
   ]
  },
  {
   "cell_type": "code",
   "execution_count": 1,
   "id": "9e7039cc-064d-43ae-ad24-28164305aebe",
   "metadata": {},
   "outputs": [],
   "source": [
    "g = {\n",
    "    1: {2, 5},\n",
    "    2: {1, 3, 5},\n",
    "    3: {2, 6},\n",
    "    4: {7, 8},\n",
    "    5: {1, 2, 9},\n",
    "    6: {3},\n",
    "    7: {4, 8},\n",
    "    8: {4, 7},\n",
    "    9: {5}\n",
    "}"
   ]
  },
  {
   "cell_type": "markdown",
   "id": "0a883528-8671-48d9-9a23-84c610db2220",
   "metadata": {},
   "source": [
    "We can use **depth-first search** to explore a componenet."
   ]
  },
  {
   "cell_type": "code",
   "execution_count": 2,
   "id": "b61e832e-c94d-4628-bf67-43fb63cc377b",
   "metadata": {},
   "outputs": [],
   "source": [
    "# This function returns the component of a graph to which a vertex belongs.\n",
    "# discovered is a set, new is stack\n",
    "# The algorithm is O(m) where m is the number of edges\n",
    "def component(vertex, graph):\n",
    "    discovered = {vertex}\n",
    "    new = [vertex]\n",
    "    \n",
    "    # depth first search\n",
    "    while len(new) > 0:\n",
    "        v = new.pop()\n",
    "        for a in graph[v]:\n",
    "            if a not in discovered:\n",
    "                discovered.add(a)\n",
    "                new.append(a)\n",
    "                \n",
    "    return discovered"
   ]
  },
  {
   "cell_type": "code",
   "execution_count": 3,
   "id": "181c2f44-f252-427f-8bd5-42f1763110ab",
   "metadata": {},
   "outputs": [
    {
     "name": "stdout",
     "output_type": "stream",
     "text": [
      "{1, 2, 3, 5, 6, 9}\n",
      "{8, 4, 7}\n"
     ]
    }
   ],
   "source": [
    "# Testing\n",
    "print(component(1, g))\n",
    "print(component(4, g))"
   ]
  },
  {
   "cell_type": "markdown",
   "id": "f3e006a6-cd1e-401b-aef0-18b8bab024de",
   "metadata": {},
   "source": [
    "To find all the components, we can repeat the search in each component."
   ]
  },
  {
   "cell_type": "code",
   "execution_count": 4,
   "id": "1dfa6e11-b52f-4165-89bf-8c6c9812b470",
   "metadata": {},
   "outputs": [],
   "source": [
    "# This function generates all the components of a graph.\n",
    "# This algorithm is O(n+m) where n is vertices and m are the number of edges per component\n",
    "def components(graph):\n",
    "    discovered = set()\n",
    "    \n",
    "    for vertex in graph:\n",
    "        if vertex not in discovered:\n",
    "            c = component(vertex, graph)\n",
    "#             for vertex in c:\n",
    "#                 discovered.add(v)\n",
    "            discovered |= c # same as comment above\n",
    "            yield c\n",
    "        "
   ]
  },
  {
   "cell_type": "code",
   "execution_count": 5,
   "id": "71f130cb-fd3e-44b1-868c-71eb7167433b",
   "metadata": {},
   "outputs": [
    {
     "name": "stdout",
     "output_type": "stream",
     "text": [
      "[{1, 2, 3, 5, 6, 9}, {8, 4, 7}]\n"
     ]
    }
   ],
   "source": [
    "# Testing\n",
    "print(list(components(g)))"
   ]
  },
  {
   "cell_type": "markdown",
   "id": "e6f97021-1747-4786-800c-9aa3059c7e71",
   "metadata": {},
   "source": [
    "DFS can be implemented recursively as well."
   ]
  },
  {
   "cell_type": "code",
   "execution_count": 6,
   "id": "99fc6294-a22d-4468-abf8-4fbb7ea32faa",
   "metadata": {},
   "outputs": [],
   "source": [
    "# This function performs a recursive DFS from a vertex in a graph.\n",
    "# It keeps tracks of all the discovered vertices.\n",
    "# This algorithm is O(m) where m is the number of edges\n",
    "def recursive_dfs(vertex, graph, discovered):\n",
    "    discovered.add(vertex)\n",
    "    for a in graph[vertex]:\n",
    "        if a not in discovered:\n",
    "            recursive_dfs(a, graph, discovered)"
   ]
  },
  {
   "cell_type": "code",
   "execution_count": 7,
   "id": "ea7a4573-2c7c-4ac3-b76c-7ee72c8c5304",
   "metadata": {},
   "outputs": [
    {
     "name": "stdout",
     "output_type": "stream",
     "text": [
      "{1, 2, 3, 5, 6, 9}\n"
     ]
    }
   ],
   "source": [
    "# Testing\n",
    "discovered = set()\n",
    "recursive_dfs(1, g, discovered)\n",
    "print(discovered)"
   ]
  }
 ],
 "metadata": {
  "kernelspec": {
   "display_name": "Python 3",
   "language": "python",
   "name": "python3"
  },
  "language_info": {
   "codemirror_mode": {
    "name": "ipython",
    "version": 3
   },
   "file_extension": ".py",
   "mimetype": "text/x-python",
   "name": "python",
   "nbconvert_exporter": "python",
   "pygments_lexer": "ipython3",
   "version": "3.8.8"
  }
 },
 "nbformat": 4,
 "nbformat_minor": 5
}
